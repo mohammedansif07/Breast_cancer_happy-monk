{
  "cells": [
    {
      "cell_type": "markdown",
      "metadata": {
        "id": "FtAm69HknxmM"
      },
      "source": [
        "# Data description\n",
        "\n",
        "Features are computed from a digitized image of a fine needle aspirate (FNA) of a breast mass. They describe characteristics of the cell nuclei present in the image.\n",
        "n the 3-dimensional space is that described in: [K. P. Bennett and O. L. Mangasarian: \"Robust Linear Programming Discrimination of Two Linearly Inseparable Sets\", Optimization Methods and Software 1, 1992, 23-34].\n",
        "\n",
        "This database is also available through the UW CS ftp server:\n",
        "ftp ftp.cs.wisc.edu\n",
        "cd math-prog/cpo-dataset/machine-learn/WDBC/\n",
        "\n",
        "Also can be found on UCI Machine Learning Repository: https://archive.ics.uci.edu/ml/datasets/Breast+Cancer+Wisconsin+%28Diagnostic%29\n",
        "\n",
        "Attribute Information:\n",
        "\n",
        "1) ID number\n",
        "2) Diagnosis (M = malignant, B = benign)\n",
        "3-32)\n",
        "\n",
        "Ten real-valued features are computed for each cell nucleus:\n",
        "\n",
        "a) radius (mean of distances from center to points on the perimeter)\n",
        "\n",
        "b) texture (standard deviation of gray-scale values)\n",
        "\n",
        "c) perimeter\n",
        "\n",
        "d) area\n",
        "\n",
        "e) smoothness (local variation in radius lengths)\n",
        "\n",
        "f) compactness (perimeter^2 / area - 1.0)\n",
        "\n",
        "g) concavity (severity of concave portions of the contour)\n",
        "\n",
        "h) concave points (number of concave portions of the contour)\n",
        "\n",
        "i) symmetry\n",
        "\n",
        "j) fractal dimension (\"coastline approximation\" - 1)"
      ]
    },
    {
      "cell_type": "markdown",
      "metadata": {
        "id": "xmEP6Gu0nxmY"
      },
      "source": [
        "![shutterstock_1493059916.jpg](attachment:66b32c29-efff-4f79-a4a9-8b594625f498.jpg)"
      ]
    },
    {
      "cell_type": "markdown",
      "metadata": {
        "id": "uZuDNiQmnxma"
      },
      "source": [
        "# Loading our data"
      ]
    },
    {
      "cell_type": "markdown",
      "metadata": {
        "id": "1-Fl_dgJnxmb"
      },
      "source": [
        "we will load our data and and required libraries"
      ]
    },
    {
      "cell_type": "code",
      "execution_count": null,
      "metadata": {
        "_cell_guid": "b1076dfc-b9ad-4769-8c92-a6c4dae69d19",
        "_uuid": "8f2839f25d086af736a60e9eeb907d3b93b6e0e5",
        "execution": {
          "iopub.execute_input": "2022-10-15T19:53:19.733951Z",
          "iopub.status.busy": "2022-10-15T19:53:19.733424Z",
          "iopub.status.idle": "2022-10-15T19:53:19.809649Z",
          "shell.execute_reply": "2022-10-15T19:53:19.808354Z",
          "shell.execute_reply.started": "2022-10-15T19:53:19.733884Z"
        },
        "id": "36p-0Phsnxmc",
        "outputId": "4ffac208-51af-47a5-d9b8-dd25563caff0"
      },
      "outputs": [
        {
          "data": {
            "text/html": [
              "        <script type=\"text/javascript\">\n",
              "        window.PlotlyConfig = {MathJaxConfig: 'local'};\n",
              "        if (window.MathJax && window.MathJax.Hub && window.MathJax.Hub.Config) {window.MathJax.Hub.Config({SVG: {font: \"STIX-Web\"}});}\n",
              "        if (typeof require !== 'undefined') {\n",
              "        require.undef(\"plotly\");\n",
              "        requirejs.config({\n",
              "            paths: {\n",
              "                'plotly': ['https://cdn.plot.ly/plotly-2.12.1.min']\n",
              "            }\n",
              "        });\n",
              "        require(['plotly'], function(Plotly) {\n",
              "            window._Plotly = Plotly;\n",
              "        });\n",
              "        }\n",
              "        </script>\n",
              "        "
            ]
          },
          "metadata": {},
          "output_type": "display_data"
        }
      ],
      "source": [
        "# This Python 3 environment comes with many helpful analytics libraries installed\n",
        "# It is defined by the kaggle/python Docker image: https://github.com/kaggle/docker-python\n",
        "# For example, here's several helpful packages to load\n",
        "\n",
        "\n",
        "import pandas as pd\n",
        "\n",
        "import numpy as np\n",
        "import matplotlib.pyplot as plt\n",
        "import seaborn as sns\n",
        "import warnings\n",
        "import plotly.offline as py\n",
        "py.init_notebook_mode(connected=True)\n",
        "import plotly.graph_objs as go\n",
        "import plotly.tools as tls\n",
        "import plotly.figure_factory as ff\n",
        "# Input data files are available in the read-only \"../input/\" directory\n",
        "# For example, running this (by clicking run or pressing Shift+Enter) will list all files under the input directory\n",
        "\n",
        "#import os\n",
        "#for dirname, _, filenames in os.walk('/kaggle/input'):\n",
        "    #for filename in filenames:\n",
        "        #print(os.path.join(dirname, filename))\n",
        "#import warnings\n",
        "#warnings.filterwarnings(\"ignore\")\n",
        "\n",
        "\n",
        "\n",
        "# You can write up to 20GB to the current directory (/kaggle/working/) that gets preserved as output when you create a version using \"Save & Run All\" \n",
        "# You can also write temporary files to /kaggle/temp/, but they won't be saved outside of the current session"
      ]
    },
    {
      "cell_type": "code",
      "execution_count": null,
      "metadata": {
        "id": "Yn2ZbFdfnxmh"
      },
      "outputs": [],
      "source": [
        "df = pd.read_csv('data_cancer.csv')"
      ]
    },
    {
      "cell_type": "code",
      "execution_count": null,
      "metadata": {
        "id": "Z4U2pKDRnxmi",
        "outputId": "95fcd98a-9aab-400f-9150-2c7ec903e490"
      },
      "outputs": [
        {
          "data": {
            "text/html": [
              "<div>\n",
              "<style scoped>\n",
              "    .dataframe tbody tr th:only-of-type {\n",
              "        vertical-align: middle;\n",
              "    }\n",
              "\n",
              "    .dataframe tbody tr th {\n",
              "        vertical-align: top;\n",
              "    }\n",
              "\n",
              "    .dataframe thead th {\n",
              "        text-align: right;\n",
              "    }\n",
              "</style>\n",
              "<table border=\"1\" class=\"dataframe\">\n",
              "  <thead>\n",
              "    <tr style=\"text-align: right;\">\n",
              "      <th></th>\n",
              "      <th>id</th>\n",
              "      <th>diagnosis</th>\n",
              "      <th>radius_mean</th>\n",
              "      <th>texture_mean</th>\n",
              "      <th>perimeter_mean</th>\n",
              "      <th>area_mean</th>\n",
              "      <th>smoothness_mean</th>\n",
              "      <th>compactness_mean</th>\n",
              "      <th>concavity_mean</th>\n",
              "      <th>concave points_mean</th>\n",
              "      <th>...</th>\n",
              "      <th>texture_worst</th>\n",
              "      <th>perimeter_worst</th>\n",
              "      <th>area_worst</th>\n",
              "      <th>smoothness_worst</th>\n",
              "      <th>compactness_worst</th>\n",
              "      <th>concavity_worst</th>\n",
              "      <th>concave points_worst</th>\n",
              "      <th>symmetry_worst</th>\n",
              "      <th>fractal_dimension_worst</th>\n",
              "      <th>Unnamed: 32</th>\n",
              "    </tr>\n",
              "  </thead>\n",
              "  <tbody>\n",
              "    <tr>\n",
              "      <th>0</th>\n",
              "      <td>842302</td>\n",
              "      <td>M</td>\n",
              "      <td>17.99</td>\n",
              "      <td>10.38</td>\n",
              "      <td>122.80</td>\n",
              "      <td>1001.0</td>\n",
              "      <td>0.11840</td>\n",
              "      <td>0.27760</td>\n",
              "      <td>0.30010</td>\n",
              "      <td>0.14710</td>\n",
              "      <td>...</td>\n",
              "      <td>17.33</td>\n",
              "      <td>184.60</td>\n",
              "      <td>2019.0</td>\n",
              "      <td>0.16220</td>\n",
              "      <td>0.66560</td>\n",
              "      <td>0.7119</td>\n",
              "      <td>0.2654</td>\n",
              "      <td>0.4601</td>\n",
              "      <td>0.11890</td>\n",
              "      <td>NaN</td>\n",
              "    </tr>\n",
              "    <tr>\n",
              "      <th>1</th>\n",
              "      <td>842517</td>\n",
              "      <td>M</td>\n",
              "      <td>20.57</td>\n",
              "      <td>17.77</td>\n",
              "      <td>132.90</td>\n",
              "      <td>1326.0</td>\n",
              "      <td>0.08474</td>\n",
              "      <td>0.07864</td>\n",
              "      <td>0.08690</td>\n",
              "      <td>0.07017</td>\n",
              "      <td>...</td>\n",
              "      <td>23.41</td>\n",
              "      <td>158.80</td>\n",
              "      <td>1956.0</td>\n",
              "      <td>0.12380</td>\n",
              "      <td>0.18660</td>\n",
              "      <td>0.2416</td>\n",
              "      <td>0.1860</td>\n",
              "      <td>0.2750</td>\n",
              "      <td>0.08902</td>\n",
              "      <td>NaN</td>\n",
              "    </tr>\n",
              "    <tr>\n",
              "      <th>2</th>\n",
              "      <td>84300903</td>\n",
              "      <td>M</td>\n",
              "      <td>19.69</td>\n",
              "      <td>21.25</td>\n",
              "      <td>130.00</td>\n",
              "      <td>1203.0</td>\n",
              "      <td>0.10960</td>\n",
              "      <td>0.15990</td>\n",
              "      <td>0.19740</td>\n",
              "      <td>0.12790</td>\n",
              "      <td>...</td>\n",
              "      <td>25.53</td>\n",
              "      <td>152.50</td>\n",
              "      <td>1709.0</td>\n",
              "      <td>0.14440</td>\n",
              "      <td>0.42450</td>\n",
              "      <td>0.4504</td>\n",
              "      <td>0.2430</td>\n",
              "      <td>0.3613</td>\n",
              "      <td>0.08758</td>\n",
              "      <td>NaN</td>\n",
              "    </tr>\n",
              "    <tr>\n",
              "      <th>3</th>\n",
              "      <td>84348301</td>\n",
              "      <td>M</td>\n",
              "      <td>11.42</td>\n",
              "      <td>20.38</td>\n",
              "      <td>77.58</td>\n",
              "      <td>386.1</td>\n",
              "      <td>0.14250</td>\n",
              "      <td>0.28390</td>\n",
              "      <td>0.24140</td>\n",
              "      <td>0.10520</td>\n",
              "      <td>...</td>\n",
              "      <td>26.50</td>\n",
              "      <td>98.87</td>\n",
              "      <td>567.7</td>\n",
              "      <td>0.20980</td>\n",
              "      <td>0.86630</td>\n",
              "      <td>0.6869</td>\n",
              "      <td>0.2575</td>\n",
              "      <td>0.6638</td>\n",
              "      <td>0.17300</td>\n",
              "      <td>NaN</td>\n",
              "    </tr>\n",
              "    <tr>\n",
              "      <th>4</th>\n",
              "      <td>84358402</td>\n",
              "      <td>M</td>\n",
              "      <td>20.29</td>\n",
              "      <td>14.34</td>\n",
              "      <td>135.10</td>\n",
              "      <td>1297.0</td>\n",
              "      <td>0.10030</td>\n",
              "      <td>0.13280</td>\n",
              "      <td>0.19800</td>\n",
              "      <td>0.10430</td>\n",
              "      <td>...</td>\n",
              "      <td>16.67</td>\n",
              "      <td>152.20</td>\n",
              "      <td>1575.0</td>\n",
              "      <td>0.13740</td>\n",
              "      <td>0.20500</td>\n",
              "      <td>0.4000</td>\n",
              "      <td>0.1625</td>\n",
              "      <td>0.2364</td>\n",
              "      <td>0.07678</td>\n",
              "      <td>NaN</td>\n",
              "    </tr>\n",
              "    <tr>\n",
              "      <th>...</th>\n",
              "      <td>...</td>\n",
              "      <td>...</td>\n",
              "      <td>...</td>\n",
              "      <td>...</td>\n",
              "      <td>...</td>\n",
              "      <td>...</td>\n",
              "      <td>...</td>\n",
              "      <td>...</td>\n",
              "      <td>...</td>\n",
              "      <td>...</td>\n",
              "      <td>...</td>\n",
              "      <td>...</td>\n",
              "      <td>...</td>\n",
              "      <td>...</td>\n",
              "      <td>...</td>\n",
              "      <td>...</td>\n",
              "      <td>...</td>\n",
              "      <td>...</td>\n",
              "      <td>...</td>\n",
              "      <td>...</td>\n",
              "      <td>...</td>\n",
              "    </tr>\n",
              "    <tr>\n",
              "      <th>564</th>\n",
              "      <td>926424</td>\n",
              "      <td>M</td>\n",
              "      <td>21.56</td>\n",
              "      <td>22.39</td>\n",
              "      <td>142.00</td>\n",
              "      <td>1479.0</td>\n",
              "      <td>0.11100</td>\n",
              "      <td>0.11590</td>\n",
              "      <td>0.24390</td>\n",
              "      <td>0.13890</td>\n",
              "      <td>...</td>\n",
              "      <td>26.40</td>\n",
              "      <td>166.10</td>\n",
              "      <td>2027.0</td>\n",
              "      <td>0.14100</td>\n",
              "      <td>0.21130</td>\n",
              "      <td>0.4107</td>\n",
              "      <td>0.2216</td>\n",
              "      <td>0.2060</td>\n",
              "      <td>0.07115</td>\n",
              "      <td>NaN</td>\n",
              "    </tr>\n",
              "    <tr>\n",
              "      <th>565</th>\n",
              "      <td>926682</td>\n",
              "      <td>M</td>\n",
              "      <td>20.13</td>\n",
              "      <td>28.25</td>\n",
              "      <td>131.20</td>\n",
              "      <td>1261.0</td>\n",
              "      <td>0.09780</td>\n",
              "      <td>0.10340</td>\n",
              "      <td>0.14400</td>\n",
              "      <td>0.09791</td>\n",
              "      <td>...</td>\n",
              "      <td>38.25</td>\n",
              "      <td>155.00</td>\n",
              "      <td>1731.0</td>\n",
              "      <td>0.11660</td>\n",
              "      <td>0.19220</td>\n",
              "      <td>0.3215</td>\n",
              "      <td>0.1628</td>\n",
              "      <td>0.2572</td>\n",
              "      <td>0.06637</td>\n",
              "      <td>NaN</td>\n",
              "    </tr>\n",
              "    <tr>\n",
              "      <th>566</th>\n",
              "      <td>926954</td>\n",
              "      <td>M</td>\n",
              "      <td>16.60</td>\n",
              "      <td>28.08</td>\n",
              "      <td>108.30</td>\n",
              "      <td>858.1</td>\n",
              "      <td>0.08455</td>\n",
              "      <td>0.10230</td>\n",
              "      <td>0.09251</td>\n",
              "      <td>0.05302</td>\n",
              "      <td>...</td>\n",
              "      <td>34.12</td>\n",
              "      <td>126.70</td>\n",
              "      <td>1124.0</td>\n",
              "      <td>0.11390</td>\n",
              "      <td>0.30940</td>\n",
              "      <td>0.3403</td>\n",
              "      <td>0.1418</td>\n",
              "      <td>0.2218</td>\n",
              "      <td>0.07820</td>\n",
              "      <td>NaN</td>\n",
              "    </tr>\n",
              "    <tr>\n",
              "      <th>567</th>\n",
              "      <td>927241</td>\n",
              "      <td>M</td>\n",
              "      <td>20.60</td>\n",
              "      <td>29.33</td>\n",
              "      <td>140.10</td>\n",
              "      <td>1265.0</td>\n",
              "      <td>0.11780</td>\n",
              "      <td>0.27700</td>\n",
              "      <td>0.35140</td>\n",
              "      <td>0.15200</td>\n",
              "      <td>...</td>\n",
              "      <td>39.42</td>\n",
              "      <td>184.60</td>\n",
              "      <td>1821.0</td>\n",
              "      <td>0.16500</td>\n",
              "      <td>0.86810</td>\n",
              "      <td>0.9387</td>\n",
              "      <td>0.2650</td>\n",
              "      <td>0.4087</td>\n",
              "      <td>0.12400</td>\n",
              "      <td>NaN</td>\n",
              "    </tr>\n",
              "    <tr>\n",
              "      <th>568</th>\n",
              "      <td>92751</td>\n",
              "      <td>B</td>\n",
              "      <td>7.76</td>\n",
              "      <td>24.54</td>\n",
              "      <td>47.92</td>\n",
              "      <td>181.0</td>\n",
              "      <td>0.05263</td>\n",
              "      <td>0.04362</td>\n",
              "      <td>0.00000</td>\n",
              "      <td>0.00000</td>\n",
              "      <td>...</td>\n",
              "      <td>30.37</td>\n",
              "      <td>59.16</td>\n",
              "      <td>268.6</td>\n",
              "      <td>0.08996</td>\n",
              "      <td>0.06444</td>\n",
              "      <td>0.0000</td>\n",
              "      <td>0.0000</td>\n",
              "      <td>0.2871</td>\n",
              "      <td>0.07039</td>\n",
              "      <td>NaN</td>\n",
              "    </tr>\n",
              "  </tbody>\n",
              "</table>\n",
              "<p>569 rows × 33 columns</p>\n",
              "</div>"
            ],
            "text/plain": [
              "           id diagnosis  radius_mean  texture_mean  perimeter_mean  area_mean  \\\n",
              "0      842302         M        17.99         10.38          122.80     1001.0   \n",
              "1      842517         M        20.57         17.77          132.90     1326.0   \n",
              "2    84300903         M        19.69         21.25          130.00     1203.0   \n",
              "3    84348301         M        11.42         20.38           77.58      386.1   \n",
              "4    84358402         M        20.29         14.34          135.10     1297.0   \n",
              "..        ...       ...          ...           ...             ...        ...   \n",
              "564    926424         M        21.56         22.39          142.00     1479.0   \n",
              "565    926682         M        20.13         28.25          131.20     1261.0   \n",
              "566    926954         M        16.60         28.08          108.30      858.1   \n",
              "567    927241         M        20.60         29.33          140.10     1265.0   \n",
              "568     92751         B         7.76         24.54           47.92      181.0   \n",
              "\n",
              "     smoothness_mean  compactness_mean  concavity_mean  concave points_mean  \\\n",
              "0            0.11840           0.27760         0.30010              0.14710   \n",
              "1            0.08474           0.07864         0.08690              0.07017   \n",
              "2            0.10960           0.15990         0.19740              0.12790   \n",
              "3            0.14250           0.28390         0.24140              0.10520   \n",
              "4            0.10030           0.13280         0.19800              0.10430   \n",
              "..               ...               ...             ...                  ...   \n",
              "564          0.11100           0.11590         0.24390              0.13890   \n",
              "565          0.09780           0.10340         0.14400              0.09791   \n",
              "566          0.08455           0.10230         0.09251              0.05302   \n",
              "567          0.11780           0.27700         0.35140              0.15200   \n",
              "568          0.05263           0.04362         0.00000              0.00000   \n",
              "\n",
              "     ...  texture_worst  perimeter_worst  area_worst  smoothness_worst  \\\n",
              "0    ...          17.33           184.60      2019.0           0.16220   \n",
              "1    ...          23.41           158.80      1956.0           0.12380   \n",
              "2    ...          25.53           152.50      1709.0           0.14440   \n",
              "3    ...          26.50            98.87       567.7           0.20980   \n",
              "4    ...          16.67           152.20      1575.0           0.13740   \n",
              "..   ...            ...              ...         ...               ...   \n",
              "564  ...          26.40           166.10      2027.0           0.14100   \n",
              "565  ...          38.25           155.00      1731.0           0.11660   \n",
              "566  ...          34.12           126.70      1124.0           0.11390   \n",
              "567  ...          39.42           184.60      1821.0           0.16500   \n",
              "568  ...          30.37            59.16       268.6           0.08996   \n",
              "\n",
              "     compactness_worst  concavity_worst  concave points_worst  symmetry_worst  \\\n",
              "0              0.66560           0.7119                0.2654          0.4601   \n",
              "1              0.18660           0.2416                0.1860          0.2750   \n",
              "2              0.42450           0.4504                0.2430          0.3613   \n",
              "3              0.86630           0.6869                0.2575          0.6638   \n",
              "4              0.20500           0.4000                0.1625          0.2364   \n",
              "..                 ...              ...                   ...             ...   \n",
              "564            0.21130           0.4107                0.2216          0.2060   \n",
              "565            0.19220           0.3215                0.1628          0.2572   \n",
              "566            0.30940           0.3403                0.1418          0.2218   \n",
              "567            0.86810           0.9387                0.2650          0.4087   \n",
              "568            0.06444           0.0000                0.0000          0.2871   \n",
              "\n",
              "     fractal_dimension_worst  Unnamed: 32  \n",
              "0                    0.11890          NaN  \n",
              "1                    0.08902          NaN  \n",
              "2                    0.08758          NaN  \n",
              "3                    0.17300          NaN  \n",
              "4                    0.07678          NaN  \n",
              "..                       ...          ...  \n",
              "564                  0.07115          NaN  \n",
              "565                  0.06637          NaN  \n",
              "566                  0.07820          NaN  \n",
              "567                  0.12400          NaN  \n",
              "568                  0.07039          NaN  \n",
              "\n",
              "[569 rows x 33 columns]"
            ]
          },
          "execution_count": 6,
          "metadata": {},
          "output_type": "execute_result"
        }
      ],
      "source": [
        "df"
      ]
    },
    {
      "cell_type": "code",
      "execution_count": null,
      "metadata": {
        "execution": {
          "iopub.execute_input": "2022-10-15T19:53:19.812007Z",
          "iopub.status.busy": "2022-10-15T19:53:19.811503Z",
          "iopub.status.idle": "2022-10-15T19:53:19.831265Z",
          "shell.execute_reply": "2022-10-15T19:53:19.830056Z",
          "shell.execute_reply.started": "2022-10-15T19:53:19.811969Z"
        },
        "id": "Ew1l9oOenxmj",
        "outputId": "103a0040-c683-47c1-8ec5-c26c01db7e26"
      },
      "outputs": [
        {
          "name": "stdout",
          "output_type": "stream",
          "text": [
            "<class 'pandas.core.frame.DataFrame'>\n",
            "RangeIndex: 569 entries, 0 to 568\n",
            "Data columns (total 33 columns):\n",
            " #   Column                   Non-Null Count  Dtype  \n",
            "---  ------                   --------------  -----  \n",
            " 0   id                       569 non-null    int64  \n",
            " 1   diagnosis                569 non-null    object \n",
            " 2   radius_mean              569 non-null    float64\n",
            " 3   texture_mean             569 non-null    float64\n",
            " 4   perimeter_mean           569 non-null    float64\n",
            " 5   area_mean                569 non-null    float64\n",
            " 6   smoothness_mean          569 non-null    float64\n",
            " 7   compactness_mean         569 non-null    float64\n",
            " 8   concavity_mean           569 non-null    float64\n",
            " 9   concave points_mean      569 non-null    float64\n",
            " 10  symmetry_mean            569 non-null    float64\n",
            " 11  fractal_dimension_mean   569 non-null    float64\n",
            " 12  radius_se                569 non-null    float64\n",
            " 13  texture_se               569 non-null    float64\n",
            " 14  perimeter_se             569 non-null    float64\n",
            " 15  area_se                  569 non-null    float64\n",
            " 16  smoothness_se            569 non-null    float64\n",
            " 17  compactness_se           569 non-null    float64\n",
            " 18  concavity_se             569 non-null    float64\n",
            " 19  concave points_se        569 non-null    float64\n",
            " 20  symmetry_se              569 non-null    float64\n",
            " 21  fractal_dimension_se     569 non-null    float64\n",
            " 22  radius_worst             569 non-null    float64\n",
            " 23  texture_worst            569 non-null    float64\n",
            " 24  perimeter_worst          569 non-null    float64\n",
            " 25  area_worst               569 non-null    float64\n",
            " 26  smoothness_worst         569 non-null    float64\n",
            " 27  compactness_worst        569 non-null    float64\n",
            " 28  concavity_worst          569 non-null    float64\n",
            " 29  concave points_worst     569 non-null    float64\n",
            " 30  symmetry_worst           569 non-null    float64\n",
            " 31  fractal_dimension_worst  569 non-null    float64\n",
            " 32  Unnamed: 32              0 non-null      float64\n",
            "dtypes: float64(31), int64(1), object(1)\n",
            "memory usage: 146.8+ KB\n"
          ]
        }
      ],
      "source": [
        "df.info()"
      ]
    },
    {
      "cell_type": "code",
      "execution_count": null,
      "metadata": {
        "id": "_a-zg0mTnxmk"
      },
      "outputs": [],
      "source": []
    },
    {
      "cell_type": "code",
      "execution_count": null,
      "metadata": {
        "execution": {
          "iopub.execute_input": "2022-10-15T19:53:19.83327Z",
          "iopub.status.busy": "2022-10-15T19:53:19.832907Z",
          "iopub.status.idle": "2022-10-15T19:53:19.894954Z",
          "shell.execute_reply": "2022-10-15T19:53:19.893558Z",
          "shell.execute_reply.started": "2022-10-15T19:53:19.833237Z"
        },
        "id": "1v8KSj7-nxml",
        "outputId": "ad922ed6-0f01-431a-8bc4-47b21280351e"
      },
      "outputs": [
        {
          "data": {
            "text/html": [
              "        <script type=\"text/javascript\">\n",
              "        window.PlotlyConfig = {MathJaxConfig: 'local'};\n",
              "        if (window.MathJax && window.MathJax.Hub && window.MathJax.Hub.Config) {window.MathJax.Hub.Config({SVG: {font: \"STIX-Web\"}});}\n",
              "        if (typeof require !== 'undefined') {\n",
              "        require.undef(\"plotly\");\n",
              "        requirejs.config({\n",
              "            paths: {\n",
              "                'plotly': ['https://cdn.plot.ly/plotly-2.12.1.min']\n",
              "            }\n",
              "        });\n",
              "        require(['plotly'], function(Plotly) {\n",
              "            window._Plotly = Plotly;\n",
              "        });\n",
              "        }\n",
              "        </script>\n",
              "        "
            ]
          },
          "metadata": {},
          "output_type": "display_data"
        },
        {
          "data": {
            "application/vnd.plotly.v1+json": {
              "config": {
                "plotlyServerURL": "https://plot.ly"
              },
              "data": [
                {
                  "domain": {
                    "x": [
                      0,
                      1
                    ],
                    "y": [
                      0,
                      1
                    ]
                  },
                  "hovertemplate": "label=%{label}<br>value=%{value}<extra></extra>",
                  "labels": [
                    "B",
                    "M"
                  ],
                  "legendgroup": "",
                  "name": "",
                  "showlegend": true,
                  "type": "pie",
                  "values": [
                    357,
                    212
                  ]
                }
              ],
              "layout": {
                "legend": {
                  "tracegroupgap": 0
                },
                "margin": {
                  "t": 60
                },
                "template": {
                  "data": {
                    "bar": [
                      {
                        "error_x": {
                          "color": "#2a3f5f"
                        },
                        "error_y": {
                          "color": "#2a3f5f"
                        },
                        "marker": {
                          "line": {
                            "color": "#E5ECF6",
                            "width": 0.5
                          },
                          "pattern": {
                            "fillmode": "overlay",
                            "size": 10,
                            "solidity": 0.2
                          }
                        },
                        "type": "bar"
                      }
                    ],
                    "barpolar": [
                      {
                        "marker": {
                          "line": {
                            "color": "#E5ECF6",
                            "width": 0.5
                          },
                          "pattern": {
                            "fillmode": "overlay",
                            "size": 10,
                            "solidity": 0.2
                          }
                        },
                        "type": "barpolar"
                      }
                    ],
                    "carpet": [
                      {
                        "aaxis": {
                          "endlinecolor": "#2a3f5f",
                          "gridcolor": "white",
                          "linecolor": "white",
                          "minorgridcolor": "white",
                          "startlinecolor": "#2a3f5f"
                        },
                        "baxis": {
                          "endlinecolor": "#2a3f5f",
                          "gridcolor": "white",
                          "linecolor": "white",
                          "minorgridcolor": "white",
                          "startlinecolor": "#2a3f5f"
                        },
                        "type": "carpet"
                      }
                    ],
                    "choropleth": [
                      {
                        "colorbar": {
                          "outlinewidth": 0,
                          "ticks": ""
                        },
                        "type": "choropleth"
                      }
                    ],
                    "contour": [
                      {
                        "colorbar": {
                          "outlinewidth": 0,
                          "ticks": ""
                        },
                        "colorscale": [
                          [
                            0,
                            "#0d0887"
                          ],
                          [
                            0.1111111111111111,
                            "#46039f"
                          ],
                          [
                            0.2222222222222222,
                            "#7201a8"
                          ],
                          [
                            0.3333333333333333,
                            "#9c179e"
                          ],
                          [
                            0.4444444444444444,
                            "#bd3786"
                          ],
                          [
                            0.5555555555555556,
                            "#d8576b"
                          ],
                          [
                            0.6666666666666666,
                            "#ed7953"
                          ],
                          [
                            0.7777777777777778,
                            "#fb9f3a"
                          ],
                          [
                            0.8888888888888888,
                            "#fdca26"
                          ],
                          [
                            1,
                            "#f0f921"
                          ]
                        ],
                        "type": "contour"
                      }
                    ],
                    "contourcarpet": [
                      {
                        "colorbar": {
                          "outlinewidth": 0,
                          "ticks": ""
                        },
                        "type": "contourcarpet"
                      }
                    ],
                    "heatmap": [
                      {
                        "colorbar": {
                          "outlinewidth": 0,
                          "ticks": ""
                        },
                        "colorscale": [
                          [
                            0,
                            "#0d0887"
                          ],
                          [
                            0.1111111111111111,
                            "#46039f"
                          ],
                          [
                            0.2222222222222222,
                            "#7201a8"
                          ],
                          [
                            0.3333333333333333,
                            "#9c179e"
                          ],
                          [
                            0.4444444444444444,
                            "#bd3786"
                          ],
                          [
                            0.5555555555555556,
                            "#d8576b"
                          ],
                          [
                            0.6666666666666666,
                            "#ed7953"
                          ],
                          [
                            0.7777777777777778,
                            "#fb9f3a"
                          ],
                          [
                            0.8888888888888888,
                            "#fdca26"
                          ],
                          [
                            1,
                            "#f0f921"
                          ]
                        ],
                        "type": "heatmap"
                      }
                    ],
                    "heatmapgl": [
                      {
                        "colorbar": {
                          "outlinewidth": 0,
                          "ticks": ""
                        },
                        "colorscale": [
                          [
                            0,
                            "#0d0887"
                          ],
                          [
                            0.1111111111111111,
                            "#46039f"
                          ],
                          [
                            0.2222222222222222,
                            "#7201a8"
                          ],
                          [
                            0.3333333333333333,
                            "#9c179e"
                          ],
                          [
                            0.4444444444444444,
                            "#bd3786"
                          ],
                          [
                            0.5555555555555556,
                            "#d8576b"
                          ],
                          [
                            0.6666666666666666,
                            "#ed7953"
                          ],
                          [
                            0.7777777777777778,
                            "#fb9f3a"
                          ],
                          [
                            0.8888888888888888,
                            "#fdca26"
                          ],
                          [
                            1,
                            "#f0f921"
                          ]
                        ],
                        "type": "heatmapgl"
                      }
                    ],
                    "histogram": [
                      {
                        "marker": {
                          "pattern": {
                            "fillmode": "overlay",
                            "size": 10,
                            "solidity": 0.2
                          }
                        },
                        "type": "histogram"
                      }
                    ],
                    "histogram2d": [
                      {
                        "colorbar": {
                          "outlinewidth": 0,
                          "ticks": ""
                        },
                        "colorscale": [
                          [
                            0,
                            "#0d0887"
                          ],
                          [
                            0.1111111111111111,
                            "#46039f"
                          ],
                          [
                            0.2222222222222222,
                            "#7201a8"
                          ],
                          [
                            0.3333333333333333,
                            "#9c179e"
                          ],
                          [
                            0.4444444444444444,
                            "#bd3786"
                          ],
                          [
                            0.5555555555555556,
                            "#d8576b"
                          ],
                          [
                            0.6666666666666666,
                            "#ed7953"
                          ],
                          [
                            0.7777777777777778,
                            "#fb9f3a"
                          ],
                          [
                            0.8888888888888888,
                            "#fdca26"
                          ],
                          [
                            1,
                            "#f0f921"
                          ]
                        ],
                        "type": "histogram2d"
                      }
                    ],
                    "histogram2dcontour": [
                      {
                        "colorbar": {
                          "outlinewidth": 0,
                          "ticks": ""
                        },
                        "colorscale": [
                          [
                            0,
                            "#0d0887"
                          ],
                          [
                            0.1111111111111111,
                            "#46039f"
                          ],
                          [
                            0.2222222222222222,
                            "#7201a8"
                          ],
                          [
                            0.3333333333333333,
                            "#9c179e"
                          ],
                          [
                            0.4444444444444444,
                            "#bd3786"
                          ],
                          [
                            0.5555555555555556,
                            "#d8576b"
                          ],
                          [
                            0.6666666666666666,
                            "#ed7953"
                          ],
                          [
                            0.7777777777777778,
                            "#fb9f3a"
                          ],
                          [
                            0.8888888888888888,
                            "#fdca26"
                          ],
                          [
                            1,
                            "#f0f921"
                          ]
                        ],
                        "type": "histogram2dcontour"
                      }
                    ],
                    "mesh3d": [
                      {
                        "colorbar": {
                          "outlinewidth": 0,
                          "ticks": ""
                        },
                        "type": "mesh3d"
                      }
                    ],
                    "parcoords": [
                      {
                        "line": {
                          "colorbar": {
                            "outlinewidth": 0,
                            "ticks": ""
                          }
                        },
                        "type": "parcoords"
                      }
                    ],
                    "pie": [
                      {
                        "automargin": true,
                        "type": "pie"
                      }
                    ],
                    "scatter": [
                      {
                        "fillpattern": {
                          "fillmode": "overlay",
                          "size": 10,
                          "solidity": 0.2
                        },
                        "type": "scatter"
                      }
                    ],
                    "scatter3d": [
                      {
                        "line": {
                          "colorbar": {
                            "outlinewidth": 0,
                            "ticks": ""
                          }
                        },
                        "marker": {
                          "colorbar": {
                            "outlinewidth": 0,
                            "ticks": ""
                          }
                        },
                        "type": "scatter3d"
                      }
                    ],
                    "scattercarpet": [
                      {
                        "marker": {
                          "colorbar": {
                            "outlinewidth": 0,
                            "ticks": ""
                          }
                        },
                        "type": "scattercarpet"
                      }
                    ],
                    "scattergeo": [
                      {
                        "marker": {
                          "colorbar": {
                            "outlinewidth": 0,
                            "ticks": ""
                          }
                        },
                        "type": "scattergeo"
                      }
                    ],
                    "scattergl": [
                      {
                        "marker": {
                          "colorbar": {
                            "outlinewidth": 0,
                            "ticks": ""
                          }
                        },
                        "type": "scattergl"
                      }
                    ],
                    "scattermapbox": [
                      {
                        "marker": {
                          "colorbar": {
                            "outlinewidth": 0,
                            "ticks": ""
                          }
                        },
                        "type": "scattermapbox"
                      }
                    ],
                    "scatterpolar": [
                      {
                        "marker": {
                          "colorbar": {
                            "outlinewidth": 0,
                            "ticks": ""
                          }
                        },
                        "type": "scatterpolar"
                      }
                    ],
                    "scatterpolargl": [
                      {
                        "marker": {
                          "colorbar": {
                            "outlinewidth": 0,
                            "ticks": ""
                          }
                        },
                        "type": "scatterpolargl"
                      }
                    ],
                    "scatterternary": [
                      {
                        "marker": {
                          "colorbar": {
                            "outlinewidth": 0,
                            "ticks": ""
                          }
                        },
                        "type": "scatterternary"
                      }
                    ],
                    "surface": [
                      {
                        "colorbar": {
                          "outlinewidth": 0,
                          "ticks": ""
                        },
                        "colorscale": [
                          [
                            0,
                            "#0d0887"
                          ],
                          [
                            0.1111111111111111,
                            "#46039f"
                          ],
                          [
                            0.2222222222222222,
                            "#7201a8"
                          ],
                          [
                            0.3333333333333333,
                            "#9c179e"
                          ],
                          [
                            0.4444444444444444,
                            "#bd3786"
                          ],
                          [
                            0.5555555555555556,
                            "#d8576b"
                          ],
                          [
                            0.6666666666666666,
                            "#ed7953"
                          ],
                          [
                            0.7777777777777778,
                            "#fb9f3a"
                          ],
                          [
                            0.8888888888888888,
                            "#fdca26"
                          ],
                          [
                            1,
                            "#f0f921"
                          ]
                        ],
                        "type": "surface"
                      }
                    ],
                    "table": [
                      {
                        "cells": {
                          "fill": {
                            "color": "#EBF0F8"
                          },
                          "line": {
                            "color": "white"
                          }
                        },
                        "header": {
                          "fill": {
                            "color": "#C8D4E3"
                          },
                          "line": {
                            "color": "white"
                          }
                        },
                        "type": "table"
                      }
                    ]
                  },
                  "layout": {
                    "annotationdefaults": {
                      "arrowcolor": "#2a3f5f",
                      "arrowhead": 0,
                      "arrowwidth": 1
                    },
                    "autotypenumbers": "strict",
                    "coloraxis": {
                      "colorbar": {
                        "outlinewidth": 0,
                        "ticks": ""
                      }
                    },
                    "colorscale": {
                      "diverging": [
                        [
                          0,
                          "#8e0152"
                        ],
                        [
                          0.1,
                          "#c51b7d"
                        ],
                        [
                          0.2,
                          "#de77ae"
                        ],
                        [
                          0.3,
                          "#f1b6da"
                        ],
                        [
                          0.4,
                          "#fde0ef"
                        ],
                        [
                          0.5,
                          "#f7f7f7"
                        ],
                        [
                          0.6,
                          "#e6f5d0"
                        ],
                        [
                          0.7,
                          "#b8e186"
                        ],
                        [
                          0.8,
                          "#7fbc41"
                        ],
                        [
                          0.9,
                          "#4d9221"
                        ],
                        [
                          1,
                          "#276419"
                        ]
                      ],
                      "sequential": [
                        [
                          0,
                          "#0d0887"
                        ],
                        [
                          0.1111111111111111,
                          "#46039f"
                        ],
                        [
                          0.2222222222222222,
                          "#7201a8"
                        ],
                        [
                          0.3333333333333333,
                          "#9c179e"
                        ],
                        [
                          0.4444444444444444,
                          "#bd3786"
                        ],
                        [
                          0.5555555555555556,
                          "#d8576b"
                        ],
                        [
                          0.6666666666666666,
                          "#ed7953"
                        ],
                        [
                          0.7777777777777778,
                          "#fb9f3a"
                        ],
                        [
                          0.8888888888888888,
                          "#fdca26"
                        ],
                        [
                          1,
                          "#f0f921"
                        ]
                      ],
                      "sequentialminus": [
                        [
                          0,
                          "#0d0887"
                        ],
                        [
                          0.1111111111111111,
                          "#46039f"
                        ],
                        [
                          0.2222222222222222,
                          "#7201a8"
                        ],
                        [
                          0.3333333333333333,
                          "#9c179e"
                        ],
                        [
                          0.4444444444444444,
                          "#bd3786"
                        ],
                        [
                          0.5555555555555556,
                          "#d8576b"
                        ],
                        [
                          0.6666666666666666,
                          "#ed7953"
                        ],
                        [
                          0.7777777777777778,
                          "#fb9f3a"
                        ],
                        [
                          0.8888888888888888,
                          "#fdca26"
                        ],
                        [
                          1,
                          "#f0f921"
                        ]
                      ]
                    },
                    "colorway": [
                      "#636efa",
                      "#EF553B",
                      "#00cc96",
                      "#ab63fa",
                      "#FFA15A",
                      "#19d3f3",
                      "#FF6692",
                      "#B6E880",
                      "#FF97FF",
                      "#FECB52"
                    ],
                    "font": {
                      "color": "#2a3f5f"
                    },
                    "geo": {
                      "bgcolor": "white",
                      "lakecolor": "white",
                      "landcolor": "#E5ECF6",
                      "showlakes": true,
                      "showland": true,
                      "subunitcolor": "white"
                    },
                    "hoverlabel": {
                      "align": "left"
                    },
                    "hovermode": "closest",
                    "mapbox": {
                      "style": "light"
                    },
                    "paper_bgcolor": "white",
                    "plot_bgcolor": "#E5ECF6",
                    "polar": {
                      "angularaxis": {
                        "gridcolor": "white",
                        "linecolor": "white",
                        "ticks": ""
                      },
                      "bgcolor": "#E5ECF6",
                      "radialaxis": {
                        "gridcolor": "white",
                        "linecolor": "white",
                        "ticks": ""
                      }
                    },
                    "scene": {
                      "xaxis": {
                        "backgroundcolor": "#E5ECF6",
                        "gridcolor": "white",
                        "gridwidth": 2,
                        "linecolor": "white",
                        "showbackground": true,
                        "ticks": "",
                        "zerolinecolor": "white"
                      },
                      "yaxis": {
                        "backgroundcolor": "#E5ECF6",
                        "gridcolor": "white",
                        "gridwidth": 2,
                        "linecolor": "white",
                        "showbackground": true,
                        "ticks": "",
                        "zerolinecolor": "white"
                      },
                      "zaxis": {
                        "backgroundcolor": "#E5ECF6",
                        "gridcolor": "white",
                        "gridwidth": 2,
                        "linecolor": "white",
                        "showbackground": true,
                        "ticks": "",
                        "zerolinecolor": "white"
                      }
                    },
                    "shapedefaults": {
                      "line": {
                        "color": "#2a3f5f"
                      }
                    },
                    "ternary": {
                      "aaxis": {
                        "gridcolor": "white",
                        "linecolor": "white",
                        "ticks": ""
                      },
                      "baxis": {
                        "gridcolor": "white",
                        "linecolor": "white",
                        "ticks": ""
                      },
                      "bgcolor": "#E5ECF6",
                      "caxis": {
                        "gridcolor": "white",
                        "linecolor": "white",
                        "ticks": ""
                      }
                    },
                    "title": {
                      "x": 0.05
                    },
                    "xaxis": {
                      "automargin": true,
                      "gridcolor": "white",
                      "linecolor": "white",
                      "ticks": "",
                      "title": {
                        "standoff": 15
                      },
                      "zerolinecolor": "white",
                      "zerolinewidth": 2
                    },
                    "yaxis": {
                      "automargin": true,
                      "gridcolor": "white",
                      "linecolor": "white",
                      "ticks": "",
                      "title": {
                        "standoff": 15
                      },
                      "zerolinecolor": "white",
                      "zerolinewidth": 2
                    }
                  }
                }
              }
            },
            "text/html": [
              "<div>                            <div id=\"13f5c542-c809-40db-94f5-e37743b4581e\" class=\"plotly-graph-div\" style=\"height:525px; width:100%;\"></div>            <script type=\"text/javascript\">                require([\"plotly\"], function(Plotly) {                    window.PLOTLYENV=window.PLOTLYENV || {};                                    if (document.getElementById(\"13f5c542-c809-40db-94f5-e37743b4581e\")) {                    Plotly.newPlot(                        \"13f5c542-c809-40db-94f5-e37743b4581e\",                        [{\"domain\":{\"x\":[0.0,1.0],\"y\":[0.0,1.0]},\"hovertemplate\":\"label=%{label}<br>value=%{value}<extra></extra>\",\"labels\":[\"B\",\"M\"],\"legendgroup\":\"\",\"name\":\"\",\"showlegend\":true,\"values\":[357,212],\"type\":\"pie\"}],                        {\"template\":{\"data\":{\"histogram2dcontour\":[{\"type\":\"histogram2dcontour\",\"colorbar\":{\"outlinewidth\":0,\"ticks\":\"\"},\"colorscale\":[[0.0,\"#0d0887\"],[0.1111111111111111,\"#46039f\"],[0.2222222222222222,\"#7201a8\"],[0.3333333333333333,\"#9c179e\"],[0.4444444444444444,\"#bd3786\"],[0.5555555555555556,\"#d8576b\"],[0.6666666666666666,\"#ed7953\"],[0.7777777777777778,\"#fb9f3a\"],[0.8888888888888888,\"#fdca26\"],[1.0,\"#f0f921\"]]}],\"choropleth\":[{\"type\":\"choropleth\",\"colorbar\":{\"outlinewidth\":0,\"ticks\":\"\"}}],\"histogram2d\":[{\"type\":\"histogram2d\",\"colorbar\":{\"outlinewidth\":0,\"ticks\":\"\"},\"colorscale\":[[0.0,\"#0d0887\"],[0.1111111111111111,\"#46039f\"],[0.2222222222222222,\"#7201a8\"],[0.3333333333333333,\"#9c179e\"],[0.4444444444444444,\"#bd3786\"],[0.5555555555555556,\"#d8576b\"],[0.6666666666666666,\"#ed7953\"],[0.7777777777777778,\"#fb9f3a\"],[0.8888888888888888,\"#fdca26\"],[1.0,\"#f0f921\"]]}],\"heatmap\":[{\"type\":\"heatmap\",\"colorbar\":{\"outlinewidth\":0,\"ticks\":\"\"},\"colorscale\":[[0.0,\"#0d0887\"],[0.1111111111111111,\"#46039f\"],[0.2222222222222222,\"#7201a8\"],[0.3333333333333333,\"#9c179e\"],[0.4444444444444444,\"#bd3786\"],[0.5555555555555556,\"#d8576b\"],[0.6666666666666666,\"#ed7953\"],[0.7777777777777778,\"#fb9f3a\"],[0.8888888888888888,\"#fdca26\"],[1.0,\"#f0f921\"]]}],\"heatmapgl\":[{\"type\":\"heatmapgl\",\"colorbar\":{\"outlinewidth\":0,\"ticks\":\"\"},\"colorscale\":[[0.0,\"#0d0887\"],[0.1111111111111111,\"#46039f\"],[0.2222222222222222,\"#7201a8\"],[0.3333333333333333,\"#9c179e\"],[0.4444444444444444,\"#bd3786\"],[0.5555555555555556,\"#d8576b\"],[0.6666666666666666,\"#ed7953\"],[0.7777777777777778,\"#fb9f3a\"],[0.8888888888888888,\"#fdca26\"],[1.0,\"#f0f921\"]]}],\"contourcarpet\":[{\"type\":\"contourcarpet\",\"colorbar\":{\"outlinewidth\":0,\"ticks\":\"\"}}],\"contour\":[{\"type\":\"contour\",\"colorbar\":{\"outlinewidth\":0,\"ticks\":\"\"},\"colorscale\":[[0.0,\"#0d0887\"],[0.1111111111111111,\"#46039f\"],[0.2222222222222222,\"#7201a8\"],[0.3333333333333333,\"#9c179e\"],[0.4444444444444444,\"#bd3786\"],[0.5555555555555556,\"#d8576b\"],[0.6666666666666666,\"#ed7953\"],[0.7777777777777778,\"#fb9f3a\"],[0.8888888888888888,\"#fdca26\"],[1.0,\"#f0f921\"]]}],\"surface\":[{\"type\":\"surface\",\"colorbar\":{\"outlinewidth\":0,\"ticks\":\"\"},\"colorscale\":[[0.0,\"#0d0887\"],[0.1111111111111111,\"#46039f\"],[0.2222222222222222,\"#7201a8\"],[0.3333333333333333,\"#9c179e\"],[0.4444444444444444,\"#bd3786\"],[0.5555555555555556,\"#d8576b\"],[0.6666666666666666,\"#ed7953\"],[0.7777777777777778,\"#fb9f3a\"],[0.8888888888888888,\"#fdca26\"],[1.0,\"#f0f921\"]]}],\"mesh3d\":[{\"type\":\"mesh3d\",\"colorbar\":{\"outlinewidth\":0,\"ticks\":\"\"}}],\"scatter\":[{\"fillpattern\":{\"fillmode\":\"overlay\",\"size\":10,\"solidity\":0.2},\"type\":\"scatter\"}],\"parcoords\":[{\"type\":\"parcoords\",\"line\":{\"colorbar\":{\"outlinewidth\":0,\"ticks\":\"\"}}}],\"scatterpolargl\":[{\"type\":\"scatterpolargl\",\"marker\":{\"colorbar\":{\"outlinewidth\":0,\"ticks\":\"\"}}}],\"bar\":[{\"error_x\":{\"color\":\"#2a3f5f\"},\"error_y\":{\"color\":\"#2a3f5f\"},\"marker\":{\"line\":{\"color\":\"#E5ECF6\",\"width\":0.5},\"pattern\":{\"fillmode\":\"overlay\",\"size\":10,\"solidity\":0.2}},\"type\":\"bar\"}],\"scattergeo\":[{\"type\":\"scattergeo\",\"marker\":{\"colorbar\":{\"outlinewidth\":0,\"ticks\":\"\"}}}],\"scatterpolar\":[{\"type\":\"scatterpolar\",\"marker\":{\"colorbar\":{\"outlinewidth\":0,\"ticks\":\"\"}}}],\"histogram\":[{\"marker\":{\"pattern\":{\"fillmode\":\"overlay\",\"size\":10,\"solidity\":0.2}},\"type\":\"histogram\"}],\"scattergl\":[{\"type\":\"scattergl\",\"marker\":{\"colorbar\":{\"outlinewidth\":0,\"ticks\":\"\"}}}],\"scatter3d\":[{\"type\":\"scatter3d\",\"line\":{\"colorbar\":{\"outlinewidth\":0,\"ticks\":\"\"}},\"marker\":{\"colorbar\":{\"outlinewidth\":0,\"ticks\":\"\"}}}],\"scattermapbox\":[{\"type\":\"scattermapbox\",\"marker\":{\"colorbar\":{\"outlinewidth\":0,\"ticks\":\"\"}}}],\"scatterternary\":[{\"type\":\"scatterternary\",\"marker\":{\"colorbar\":{\"outlinewidth\":0,\"ticks\":\"\"}}}],\"scattercarpet\":[{\"type\":\"scattercarpet\",\"marker\":{\"colorbar\":{\"outlinewidth\":0,\"ticks\":\"\"}}}],\"carpet\":[{\"aaxis\":{\"endlinecolor\":\"#2a3f5f\",\"gridcolor\":\"white\",\"linecolor\":\"white\",\"minorgridcolor\":\"white\",\"startlinecolor\":\"#2a3f5f\"},\"baxis\":{\"endlinecolor\":\"#2a3f5f\",\"gridcolor\":\"white\",\"linecolor\":\"white\",\"minorgridcolor\":\"white\",\"startlinecolor\":\"#2a3f5f\"},\"type\":\"carpet\"}],\"table\":[{\"cells\":{\"fill\":{\"color\":\"#EBF0F8\"},\"line\":{\"color\":\"white\"}},\"header\":{\"fill\":{\"color\":\"#C8D4E3\"},\"line\":{\"color\":\"white\"}},\"type\":\"table\"}],\"barpolar\":[{\"marker\":{\"line\":{\"color\":\"#E5ECF6\",\"width\":0.5},\"pattern\":{\"fillmode\":\"overlay\",\"size\":10,\"solidity\":0.2}},\"type\":\"barpolar\"}],\"pie\":[{\"automargin\":true,\"type\":\"pie\"}]},\"layout\":{\"autotypenumbers\":\"strict\",\"colorway\":[\"#636efa\",\"#EF553B\",\"#00cc96\",\"#ab63fa\",\"#FFA15A\",\"#19d3f3\",\"#FF6692\",\"#B6E880\",\"#FF97FF\",\"#FECB52\"],\"font\":{\"color\":\"#2a3f5f\"},\"hovermode\":\"closest\",\"hoverlabel\":{\"align\":\"left\"},\"paper_bgcolor\":\"white\",\"plot_bgcolor\":\"#E5ECF6\",\"polar\":{\"bgcolor\":\"#E5ECF6\",\"angularaxis\":{\"gridcolor\":\"white\",\"linecolor\":\"white\",\"ticks\":\"\"},\"radialaxis\":{\"gridcolor\":\"white\",\"linecolor\":\"white\",\"ticks\":\"\"}},\"ternary\":{\"bgcolor\":\"#E5ECF6\",\"aaxis\":{\"gridcolor\":\"white\",\"linecolor\":\"white\",\"ticks\":\"\"},\"baxis\":{\"gridcolor\":\"white\",\"linecolor\":\"white\",\"ticks\":\"\"},\"caxis\":{\"gridcolor\":\"white\",\"linecolor\":\"white\",\"ticks\":\"\"}},\"coloraxis\":{\"colorbar\":{\"outlinewidth\":0,\"ticks\":\"\"}},\"colorscale\":{\"sequential\":[[0.0,\"#0d0887\"],[0.1111111111111111,\"#46039f\"],[0.2222222222222222,\"#7201a8\"],[0.3333333333333333,\"#9c179e\"],[0.4444444444444444,\"#bd3786\"],[0.5555555555555556,\"#d8576b\"],[0.6666666666666666,\"#ed7953\"],[0.7777777777777778,\"#fb9f3a\"],[0.8888888888888888,\"#fdca26\"],[1.0,\"#f0f921\"]],\"sequentialminus\":[[0.0,\"#0d0887\"],[0.1111111111111111,\"#46039f\"],[0.2222222222222222,\"#7201a8\"],[0.3333333333333333,\"#9c179e\"],[0.4444444444444444,\"#bd3786\"],[0.5555555555555556,\"#d8576b\"],[0.6666666666666666,\"#ed7953\"],[0.7777777777777778,\"#fb9f3a\"],[0.8888888888888888,\"#fdca26\"],[1.0,\"#f0f921\"]],\"diverging\":[[0,\"#8e0152\"],[0.1,\"#c51b7d\"],[0.2,\"#de77ae\"],[0.3,\"#f1b6da\"],[0.4,\"#fde0ef\"],[0.5,\"#f7f7f7\"],[0.6,\"#e6f5d0\"],[0.7,\"#b8e186\"],[0.8,\"#7fbc41\"],[0.9,\"#4d9221\"],[1,\"#276419\"]]},\"xaxis\":{\"gridcolor\":\"white\",\"linecolor\":\"white\",\"ticks\":\"\",\"title\":{\"standoff\":15},\"zerolinecolor\":\"white\",\"automargin\":true,\"zerolinewidth\":2},\"yaxis\":{\"gridcolor\":\"white\",\"linecolor\":\"white\",\"ticks\":\"\",\"title\":{\"standoff\":15},\"zerolinecolor\":\"white\",\"automargin\":true,\"zerolinewidth\":2},\"scene\":{\"xaxis\":{\"backgroundcolor\":\"#E5ECF6\",\"gridcolor\":\"white\",\"linecolor\":\"white\",\"showbackground\":true,\"ticks\":\"\",\"zerolinecolor\":\"white\",\"gridwidth\":2},\"yaxis\":{\"backgroundcolor\":\"#E5ECF6\",\"gridcolor\":\"white\",\"linecolor\":\"white\",\"showbackground\":true,\"ticks\":\"\",\"zerolinecolor\":\"white\",\"gridwidth\":2},\"zaxis\":{\"backgroundcolor\":\"#E5ECF6\",\"gridcolor\":\"white\",\"linecolor\":\"white\",\"showbackground\":true,\"ticks\":\"\",\"zerolinecolor\":\"white\",\"gridwidth\":2}},\"shapedefaults\":{\"line\":{\"color\":\"#2a3f5f\"}},\"annotationdefaults\":{\"arrowcolor\":\"#2a3f5f\",\"arrowhead\":0,\"arrowwidth\":1},\"geo\":{\"bgcolor\":\"white\",\"landcolor\":\"#E5ECF6\",\"subunitcolor\":\"white\",\"showland\":true,\"showlakes\":true,\"lakecolor\":\"white\"},\"title\":{\"x\":0.05},\"mapbox\":{\"style\":\"light\"}}},\"legend\":{\"tracegroupgap\":0},\"margin\":{\"t\":60}},                        {\"responsive\": true}                    ).then(function(){\n",
              "                            \n",
              "var gd = document.getElementById('13f5c542-c809-40db-94f5-e37743b4581e');\n",
              "var x = new MutationObserver(function (mutations, observer) {{\n",
              "        var display = window.getComputedStyle(gd).display;\n",
              "        if (!display || display === 'none') {{\n",
              "            console.log([gd, 'removed!']);\n",
              "            Plotly.purge(gd);\n",
              "            observer.disconnect();\n",
              "        }}\n",
              "}});\n",
              "\n",
              "// Listen for the removal of the full notebook cells\n",
              "var notebookContainer = gd.closest('#notebook-container');\n",
              "if (notebookContainer) {{\n",
              "    x.observe(notebookContainer, {childList: true});\n",
              "}}\n",
              "\n",
              "// Listen for the clearing of the current output cell\n",
              "var outputEl = gd.closest('.output');\n",
              "if (outputEl) {{\n",
              "    x.observe(outputEl, {childList: true});\n",
              "}}\n",
              "\n",
              "                        })                };                });            </script>        </div>"
            ]
          },
          "metadata": {},
          "output_type": "display_data"
        }
      ],
      "source": [
        "import plotly.express as px\n",
        "from plotly.offline import init_notebook_mode, iplot\n",
        "init_notebook_mode(connected=True)\n",
        "fig = px.pie(df, values=df['diagnosis'].value_counts().values, names=df['diagnosis'].value_counts().index)\n",
        "fig.show()"
      ]
    },
    {
      "cell_type": "markdown",
      "metadata": {
        "id": "jQ5eGVXNnxmn"
      },
      "source": [
        "Our target vaoues are slightly imbalanced so we may not need to use oversampling or undersampling techniques."
      ]
    },
    {
      "cell_type": "code",
      "execution_count": null,
      "metadata": {
        "id": "GX_UORMFnxmn"
      },
      "outputs": [],
      "source": []
    },
    {
      "cell_type": "markdown",
      "metadata": {
        "id": "5Dy2DXxDnxmo"
      },
      "source": [
        "# Feature selection with correlation matrix"
      ]
    },
    {
      "cell_type": "code",
      "execution_count": null,
      "metadata": {
        "execution": {
          "iopub.execute_input": "2022-10-15T19:53:20.048486Z",
          "iopub.status.busy": "2022-10-15T19:53:20.048067Z",
          "iopub.status.idle": "2022-10-15T19:53:24.726819Z",
          "shell.execute_reply": "2022-10-15T19:53:24.725477Z",
          "shell.execute_reply.started": "2022-10-15T19:53:20.048442Z"
        },
        "id": "BkScTGpOnxmp",
        "outputId": "40252487-2f7e-45b9-bc50-f64c77c909a9"
      },
      "outputs": [
        {
          "data": {
            "text/plain": [
              "Text(0.5, 1.05, 'Correlation of df Features')"
            ]
          },
          "execution_count": 9,
          "metadata": {},
          "output_type": "execute_result"
        },
        {
          "data": {
            "image/png": "[encoded data removed]",
            "text/plain": [
              "<Figure size 1008x1008 with 2 Axes>"
            ]
          },
          "metadata": {
            "needs_background": "light"
          },
          "output_type": "display_data"
        }
      ],
      "source": [
        "corr = df.iloc[:,2:].corr()\n",
        "colormap = sns.diverging_palette(220, 10, as_cmap = True)\n",
        "plt.figure(figsize=(14,14))\n",
        "sns.heatmap(corr, cbar = True,  square = True, annot=True, fmt= '.2f',annot_kws={'size': 8},\n",
        "            cmap = colormap, linewidths=0.1, linecolor='white')\n",
        "plt.title('Correlation of df Features', y=1.05, size=15)"
      ]
    },
    {
      "cell_type": "markdown",
      "metadata": {
        "id": "m45vharknxmq"
      },
      "source": [
        "As we can see many features are correlated to each other so we will remove highly correlated features bigger than 0.95"
      ]
    },
    {
      "cell_type": "code",
      "execution_count": null,
      "metadata": {
        "execution": {
          "iopub.execute_input": "2022-10-15T19:53:24.729851Z",
          "iopub.status.busy": "2022-10-15T19:53:24.729402Z",
          "iopub.status.idle": "2022-10-15T19:53:24.756044Z",
          "shell.execute_reply": "2022-10-15T19:53:24.754677Z",
          "shell.execute_reply.started": "2022-10-15T19:53:24.729808Z"
        },
        "id": "kBTkqTPSnxmq",
        "outputId": "d27e787b-1859-42d4-835c-8e9afd258332"
      },
      "outputs": [
        {
          "name": "stdout",
          "output_type": "stream",
          "text": [
            "['perimeter_mean', 'area_mean', 'perimeter_se', 'area_se', 'radius_worst', 'perimeter_worst', 'area_worst']\n"
          ]
        },
        {
          "name": "stderr",
          "output_type": "stream",
          "text": [
            "C:\\Users\\LENOVO\\AppData\\Local\\Temp/ipykernel_8580/616785541.py:7: DeprecationWarning:\n",
            "\n",
            "`np.bool` is a deprecated alias for the builtin `bool`. To silence this warning, use `bool` by itself. Doing this will not modify any behavior and is safe. If you specifically wanted the numpy scalar type, use `np.bool_` here.\n",
            "Deprecated in NumPy 1.20; for more details and guidance: https://numpy.org/devdocs/release/1.20.0-notes.html#deprecations\n",
            "\n"
          ]
        }
      ],
      "source": [
        "import numpy as np\n",
        "\n",
        "# Create correlation matrix\n",
        "corr_matrix = df.corr().abs()\n",
        "\n",
        "# Select upper triangle of correlation matrix\n",
        "upper = corr_matrix.where(np.triu(np.ones(corr_matrix.shape), k=1).astype(np.bool))\n",
        "\n",
        "# Find features with correlation greater than 0.95\n",
        "to_drop = [column for column in upper.columns if any(upper[column] > 0.95)]\n",
        "print(to_drop)\n",
        "# Drop features \n",
        "df.drop(to_drop, axis=1, inplace=True)"
      ]
    },
    {
      "cell_type": "markdown",
      "metadata": {
        "execution": {
          "iopub.execute_input": "2022-10-13T16:43:35.519324Z",
          "iopub.status.busy": "2022-10-13T16:43:35.517561Z",
          "iopub.status.idle": "2022-10-13T16:43:35.526558Z",
          "shell.execute_reply": "2022-10-13T16:43:35.525168Z",
          "shell.execute_reply.started": "2022-10-13T16:43:35.519259Z"
        },
        "id": "R2Twmu-Snxmr"
      },
      "source": [
        "We have now **26** features"
      ]
    },
    {
      "cell_type": "code",
      "execution_count": null,
      "metadata": {
        "execution": {
          "iopub.execute_input": "2022-10-15T19:53:24.757976Z",
          "iopub.status.busy": "2022-10-15T19:53:24.757451Z",
          "iopub.status.idle": "2022-10-15T19:53:24.765629Z",
          "shell.execute_reply": "2022-10-15T19:53:24.764631Z",
          "shell.execute_reply.started": "2022-10-15T19:53:24.757847Z"
        },
        "id": "EM6mgG7wnxms",
        "outputId": "0764d089-8309-428e-8e0d-9817dc392886"
      },
      "outputs": [
        {
          "data": {
            "text/plain": [
              "26"
            ]
          },
          "execution_count": 11,
          "metadata": {},
          "output_type": "execute_result"
        }
      ],
      "source": [
        "len(df.columns)"
      ]
    },
    {
      "cell_type": "markdown",
      "metadata": {
        "id": "vjgSSVNMnxms"
      },
      "source": [
        "# Checking formissing values"
      ]
    },
    {
      "cell_type": "code",
      "execution_count": null,
      "metadata": {
        "execution": {
          "iopub.execute_input": "2022-10-15T19:53:24.76895Z",
          "iopub.status.busy": "2022-10-15T19:53:24.767803Z",
          "iopub.status.idle": "2022-10-15T19:53:24.783309Z",
          "shell.execute_reply": "2022-10-15T19:53:24.78217Z",
          "shell.execute_reply.started": "2022-10-15T19:53:24.768866Z"
        },
        "id": "Yta9Wcq2nxmt",
        "outputId": "39d99528-5e79-4577-ece5-0f6988c40503"
      },
      "outputs": [
        {
          "data": {
            "text/plain": [
              "id                           0\n",
              "diagnosis                    0\n",
              "radius_mean                  0\n",
              "texture_mean                 0\n",
              "smoothness_mean              0\n",
              "compactness_mean             0\n",
              "concavity_mean               0\n",
              "concave points_mean          0\n",
              "symmetry_mean                0\n",
              "fractal_dimension_mean       0\n",
              "radius_se                    0\n",
              "texture_se                   0\n",
              "smoothness_se                0\n",
              "compactness_se               0\n",
              "concavity_se                 0\n",
              "concave points_se            0\n",
              "symmetry_se                  0\n",
              "fractal_dimension_se         0\n",
              "texture_worst                0\n",
              "smoothness_worst             0\n",
              "compactness_worst            0\n",
              "concavity_worst              0\n",
              "concave points_worst         0\n",
              "symmetry_worst               0\n",
              "fractal_dimension_worst      0\n",
              "Unnamed: 32                569\n",
              "dtype: int64"
            ]
          },
          "execution_count": 12,
          "metadata": {},
          "output_type": "execute_result"
        }
      ],
      "source": [
        "df.isnull().sum()"
      ]
    },
    {
      "cell_type": "markdown",
      "metadata": {
        "id": "JBofbabynxmu"
      },
      "source": [
        "We don`t need \"Unnamed: 32\"  and id columns so we can drop them "
      ]
    },
    {
      "cell_type": "code",
      "execution_count": null,
      "metadata": {
        "execution": {
          "iopub.execute_input": "2022-10-15T19:53:24.78568Z",
          "iopub.status.busy": "2022-10-15T19:53:24.784748Z",
          "iopub.status.idle": "2022-10-15T19:53:24.795338Z",
          "shell.execute_reply": "2022-10-15T19:53:24.794347Z",
          "shell.execute_reply.started": "2022-10-15T19:53:24.785641Z"
        },
        "id": "OU1Qka5jnxmu"
      },
      "outputs": [],
      "source": [
        "#droping feature\n",
        "df.drop(['Unnamed: 32','id'],axis=1,inplace=True)"
      ]
    },
    {
      "cell_type": "code",
      "execution_count": null,
      "metadata": {
        "execution": {
          "iopub.execute_input": "2022-10-15T19:53:24.797216Z",
          "iopub.status.busy": "2022-10-15T19:53:24.796904Z",
          "iopub.status.idle": "2022-10-15T19:53:24.810141Z",
          "shell.execute_reply": "2022-10-15T19:53:24.80869Z",
          "shell.execute_reply.started": "2022-10-15T19:53:24.797186Z"
        },
        "id": "k0Hq4Pcrnxmv"
      },
      "outputs": [],
      "source": [
        "# independent variables\n",
        "x = df.drop('diagnosis',axis=1)\n",
        "#dependent variables\n",
        "y = df.diagnosis"
      ]
    },
    {
      "cell_type": "markdown",
      "metadata": {
        "id": "6QAJtykBnxmw"
      },
      "source": [
        "# Encoding"
      ]
    },
    {
      "cell_type": "markdown",
      "metadata": {
        "id": "7cyL7tqxnxmx"
      },
      "source": [
        "We will handle categorical values using LabelEncoder so we can use them in ANN"
      ]
    },
    {
      "cell_type": "code",
      "execution_count": null,
      "metadata": {
        "execution": {
          "iopub.execute_input": "2022-10-15T19:53:24.812216Z",
          "iopub.status.busy": "2022-10-15T19:53:24.811582Z",
          "iopub.status.idle": "2022-10-15T19:53:24.823338Z",
          "shell.execute_reply": "2022-10-15T19:53:24.822154Z",
          "shell.execute_reply.started": "2022-10-15T19:53:24.81217Z"
        },
        "id": "qCxqdrXSnxmy"
      },
      "outputs": [],
      "source": [
        "from sklearn.preprocessing import LabelEncoder\n",
        "#creating the object\n",
        "lb = LabelEncoder()\n",
        "y = lb.fit_transform(y)"
      ]
    },
    {
      "cell_type": "markdown",
      "metadata": {
        "id": "81Uo_2vSnxmy"
      },
      "source": [
        "# Splitting Data"
      ]
    },
    {
      "cell_type": "code",
      "execution_count": null,
      "metadata": {
        "execution": {
          "iopub.execute_input": "2022-10-15T19:53:27.572644Z",
          "iopub.status.busy": "2022-10-15T19:53:27.572182Z",
          "iopub.status.idle": "2022-10-15T19:53:27.581114Z",
          "shell.execute_reply": "2022-10-15T19:53:27.579996Z",
          "shell.execute_reply.started": "2022-10-15T19:53:27.572599Z"
        },
        "id": "dfLWTVCKnxmz"
      },
      "outputs": [],
      "source": [
        "from sklearn.model_selection import train_test_split\n",
        "xtrain,xtest,ytrain,ytest = train_test_split(x,y,test_size=0.2,random_state=40)"
      ]
    },
    {
      "cell_type": "markdown",
      "metadata": {
        "id": "rQ9JDW6Wnxmz"
      },
      "source": [
        "# Scaling the Data"
      ]
    },
    {
      "cell_type": "markdown",
      "metadata": {
        "id": "eKT5Z52qnxmz"
      },
      "source": [
        "When we create the artificial neural network, then we have to scale the data into smaller numbers because the deep learning algorithm multiplies the weights and input data of the nodes and it takes lots of time, So for reducing that time we scale the data.\n",
        "\n",
        "We will scalling the data with StandardScaler"
      ]
    },
    {
      "cell_type": "code",
      "execution_count": null,
      "metadata": {
        "execution": {
          "iopub.execute_input": "2022-10-15T19:53:27.583454Z",
          "iopub.status.busy": "2022-10-15T19:53:27.583123Z",
          "iopub.status.idle": "2022-10-15T19:53:27.598239Z",
          "shell.execute_reply": "2022-10-15T19:53:27.597072Z",
          "shell.execute_reply.started": "2022-10-15T19:53:27.583425Z"
        },
        "id": "AJ4KVR2Vnxm0"
      },
      "outputs": [],
      "source": [
        "#importing StandardScaler\n",
        "from sklearn.preprocessing import StandardScaler\n",
        "#creating object\n",
        "sc = StandardScaler()\n",
        "xtrain = sc.fit_transform(xtrain)\n",
        "xtest = sc.transform(xtest)"
      ]
    },
    {
      "cell_type": "markdown",
      "metadata": {
        "id": "O0Ot1HVNnxm0"
      },
      "source": [
        "### What are artificial neural networks?\n",
        "\n",
        "An artificial neuron network (ANN) is a computational model based on the structure and functions of biological neural networks. Information that flows through the network affects the structure of the ANN because a neural network changes - or learns, in a sense - based on that input and output. ANNs are considered nonlinear statistical data modeling tools where the complex relationships between inputs and outputs are modeled or patterns are found. ANN is also known as a neural network.\n",
        "\n",
        "A single neuron is known as a perceptron. It consists of a layer of inputs(corresponds to columns of a dataframe). Each input has a weight which controls the magnitude of an input. The summation of the products of these input values and weights is fed to the activation function. Activation functions are really important for a Artificial Neural Network to learn and make sense of something really complicated and Non-linear complex functional mappings between the inputs and response variable."
      ]
    },
    {
      "cell_type": "markdown",
      "metadata": {
        "id": "QY4aWimnnxm1"
      },
      "source": [
        "![ai-artificial-neural-network-alex-castrounis.png](attachment:ce2a1faa-aec3-49a3-9838-fb93ad3361dc.png)"
      ]
    },
    {
      "cell_type": "markdown",
      "metadata": {
        "id": "UNB9wdownxm1"
      },
      "source": [
        "we will import Keras and its packages."
      ]
    },
    {
      "cell_type": "code",
      "execution_count": null,
      "metadata": {
        "execution": {
          "iopub.execute_input": "2022-10-15T19:53:31.105044Z",
          "iopub.status.busy": "2022-10-15T19:53:31.104614Z",
          "iopub.status.idle": "2022-10-15T19:53:31.110884Z",
          "shell.execute_reply": "2022-10-15T19:53:31.10983Z",
          "shell.execute_reply.started": "2022-10-15T19:53:31.105009Z"
        },
        "id": "dQXHhq4Onxm2"
      },
      "outputs": [],
      "source": [
        "#importing keras\n",
        "import keras\n",
        "#importing sequential module\n",
        "from keras.models import Sequential\n",
        "# import dense module for hidden layers\n",
        "from keras.layers import Dense\n",
        "#importing activation functions\n",
        "from keras.layers import LeakyReLU,PReLU,ELU\n",
        "from keras.layers import Dropout"
      ]
    },
    {
      "cell_type": "markdown",
      "metadata": {
        "id": "Amv_nITPnxm2"
      },
      "source": [
        "# Creating Layers\n",
        "After importing those libraries, we create the three types of layers:\n",
        "\n",
        "- Input layer\n",
        "- Hidden layer\n",
        "- Output layer"
      ]
    },
    {
      "cell_type": "code",
      "execution_count": null,
      "metadata": {
        "id": "C1a3TAjgnxm3"
      },
      "outputs": [],
      "source": [
        "fun = [\"'relu'\",\"'sigmoid'\",\"'softmax'\"]"
      ]
    },
    {
      "cell_type": "code",
      "execution_count": null,
      "metadata": {
        "id": "JmzOW8GNnxm3"
      },
      "outputs": [],
      "source": [
        "#from tensorflow.keras.layers import BatchNormalization\n",
        "#CREATING THE ANN AS SEQUENCE OF LAYERS\n",
        "#ann =Sequential()\n",
        "\n",
        "#for i in fun:\n",
        "  #  print(ann.add(Dense(units = 30,activation = i)))\n",
        "  #  ann.add(BatchNormalization())\n",
        "  #  ann.add(Dropout(0.5))"
      ]
    },
    {
      "cell_type": "code",
      "execution_count": null,
      "metadata": {
        "id": "OCF8-ZyMnxm3"
      },
      "outputs": [],
      "source": [
        "#for i in fun:\n",
        " #   print(i)"
      ]
    },
    {
      "cell_type": "markdown",
      "metadata": {
        "id": "4H9H9kpCnxm4"
      },
      "source": [
        "# 1.RELU"
      ]
    },
    {
      "cell_type": "code",
      "execution_count": null,
      "metadata": {
        "execution": {
          "iopub.execute_input": "2022-10-15T19:53:31.11994Z",
          "iopub.status.busy": "2022-10-15T19:53:31.118747Z",
          "iopub.status.idle": "2022-10-15T19:53:31.14121Z",
          "shell.execute_reply": "2022-10-15T19:53:31.140017Z",
          "shell.execute_reply.started": "2022-10-15T19:53:31.119851Z"
        },
        "id": "DNcLE37anxm4"
      },
      "outputs": [],
      "source": [
        "from tensorflow.keras.layers import BatchNormalization\n",
        "#CREATING THE ANN AS SEQUENCE OF LAYERS\n",
        "ann =Sequential()\n",
        "\n",
        "#ADDING FIRST HIDDEN LAYER WITH 30 NEURONS, THE INPUT LAYER WILL BE ADDED AUTOMATICALLY,\n",
        "ann.add(Dense(units = 30,activation = 'relu'))\n",
        "ann.add(BatchNormalization())\n",
        "ann.add(Dropout(0.5))\n",
        "\n",
        "\n",
        "\n",
        "#ADDING OUTPUT LAYER WITH 1 NEURON , AS THIS IS A BINARY CLASSIFICATION\n",
        "ann.add(Dense(units = 1,activation = 'sigmoid'))"
      ]
    },
    {
      "cell_type": "markdown",
      "metadata": {
        "id": "Jq0iMVRMnxm5"
      },
      "source": [
        "# Compiling and Fitting"
      ]
    },
    {
      "cell_type": "markdown",
      "metadata": {
        "id": "m-TEdhN9nxm5"
      },
      "source": [
        "Optimizer is chosen as adam for gradient descent.\n",
        "\n",
        "Binary_crossentropy is the loss function used.\n",
        "\n",
        "We use sigmoid function in output layer\n",
        "\n",
        "Sigmoid function is used when dealing with classfication problems with 2 types of results.(Submax function is used for 3 or more classification results)\n"
      ]
    },
    {
      "cell_type": "markdown",
      "metadata": {
        "id": "dd5Idd_knxm5"
      },
      "source": [
        "![download.png](attachment:4369040a-b9e8-4c46-9f2d-d527a3bad265.png)"
      ]
    },
    {
      "cell_type": "code",
      "execution_count": null,
      "metadata": {
        "execution": {
          "iopub.execute_input": "2022-10-15T19:53:31.144852Z",
          "iopub.status.busy": "2022-10-15T19:53:31.144155Z",
          "iopub.status.idle": "2022-10-15T19:53:40.607133Z",
          "shell.execute_reply": "2022-10-15T19:53:40.605419Z",
          "shell.execute_reply.started": "2022-10-15T19:53:31.144812Z"
        },
        "scrolled": false,
        "id": "2YX1Ca3knxm6",
        "outputId": "1ab16be9-f4a3-44ec-c929-81f79032371b"
      },
      "outputs": [
        {
          "name": "stdout",
          "output_type": "stream",
          "text": [
            "Epoch 1/100\n",
            "15/15 [==============================] - 1s 14ms/step - loss: 0.5275 - accuracy: 0.8000 - val_loss: 0.4215 - val_accuracy: 0.8684\n",
            "Epoch 2/100\n",
            "15/15 [==============================] - 0s 5ms/step - loss: 0.4641 - accuracy: 0.8110 - val_loss: 0.3465 - val_accuracy: 0.9298\n",
            "Epoch 3/100\n",
            "15/15 [==============================] - 0s 7ms/step - loss: 0.3347 - accuracy: 0.8681 - val_loss: 0.2922 - val_accuracy: 0.9561\n",
            "Epoch 4/100\n",
            "15/15 [==============================] - 0s 6ms/step - loss: 0.3060 - accuracy: 0.8857 - val_loss: 0.2505 - val_accuracy: 0.9737\n",
            "Epoch 5/100\n",
            "15/15 [==============================] - 0s 5ms/step - loss: 0.2719 - accuracy: 0.8945 - val_loss: 0.2182 - val_accuracy: 0.9737\n",
            "Epoch 6/100\n",
            "15/15 [==============================] - 0s 6ms/step - loss: 0.2291 - accuracy: 0.9209 - val_loss: 0.1939 - val_accuracy: 0.9825\n",
            "Epoch 7/100\n",
            "15/15 [==============================] - 0s 6ms/step - loss: 0.2006 - accuracy: 0.9231 - val_loss: 0.1751 - val_accuracy: 0.9825\n",
            "Epoch 8/100\n",
            "15/15 [==============================] - 0s 6ms/step - loss: 0.2038 - accuracy: 0.9253 - val_loss: 0.1613 - val_accuracy: 0.9912\n",
            "Epoch 9/100\n",
            "15/15 [==============================] - 0s 5ms/step - loss: 0.1899 - accuracy: 0.9407 - val_loss: 0.1467 - val_accuracy: 0.9912\n",
            "Epoch 10/100\n",
            "15/15 [==============================] - 0s 3ms/step - loss: 0.1915 - accuracy: 0.9253 - val_loss: 0.1338 - val_accuracy: 0.9912\n",
            "Epoch 11/100\n",
            "15/15 [==============================] - 0s 3ms/step - loss: 0.1742 - accuracy: 0.9473 - val_loss: 0.1247 - val_accuracy: 0.9912\n",
            "Epoch 12/100\n",
            "15/15 [==============================] - 0s 4ms/step - loss: 0.1699 - accuracy: 0.9341 - val_loss: 0.1170 - val_accuracy: 0.9825\n",
            "Epoch 13/100\n",
            "15/15 [==============================] - 0s 4ms/step - loss: 0.1603 - accuracy: 0.9429 - val_loss: 0.1107 - val_accuracy: 0.9825\n",
            "Epoch 14/100\n",
            "15/15 [==============================] - 0s 6ms/step - loss: 0.1879 - accuracy: 0.9253 - val_loss: 0.1054 - val_accuracy: 0.9825\n",
            "Epoch 15/100\n",
            "15/15 [==============================] - 0s 11ms/step - loss: 0.1621 - accuracy: 0.9516 - val_loss: 0.0995 - val_accuracy: 0.9825\n",
            "Epoch 16/100\n",
            "15/15 [==============================] - 0s 8ms/step - loss: 0.1453 - accuracy: 0.9560 - val_loss: 0.1000 - val_accuracy: 0.9825\n",
            "Epoch 17/100\n",
            "15/15 [==============================] - 0s 7ms/step - loss: 0.1339 - accuracy: 0.9582 - val_loss: 0.0979 - val_accuracy: 0.9825\n",
            "Epoch 18/100\n",
            "15/15 [==============================] - 0s 6ms/step - loss: 0.1261 - accuracy: 0.9670 - val_loss: 0.0924 - val_accuracy: 0.9825\n",
            "Epoch 19/100\n",
            "15/15 [==============================] - 0s 7ms/step - loss: 0.1503 - accuracy: 0.9495 - val_loss: 0.0889 - val_accuracy: 0.9825\n",
            "Epoch 20/100\n",
            "15/15 [==============================] - 0s 7ms/step - loss: 0.1682 - accuracy: 0.9341 - val_loss: 0.0860 - val_accuracy: 0.9825\n",
            "Epoch 21/100\n",
            "15/15 [==============================] - 0s 9ms/step - loss: 0.1428 - accuracy: 0.9495 - val_loss: 0.0841 - val_accuracy: 0.9825\n",
            "Epoch 22/100\n",
            "15/15 [==============================] - 0s 10ms/step - loss: 0.1772 - accuracy: 0.9407 - val_loss: 0.0818 - val_accuracy: 0.9825\n",
            "Epoch 23/100\n",
            "15/15 [==============================] - 0s 12ms/step - loss: 0.1312 - accuracy: 0.9604 - val_loss: 0.0815 - val_accuracy: 0.9825\n",
            "Epoch 24/100\n",
            "15/15 [==============================] - 0s 18ms/step - loss: 0.1341 - accuracy: 0.9582 - val_loss: 0.0809 - val_accuracy: 0.9825\n",
            "Epoch 25/100\n",
            "15/15 [==============================] - 0s 15ms/step - loss: 0.1305 - accuracy: 0.9582 - val_loss: 0.0799 - val_accuracy: 0.9825\n",
            "Epoch 26/100\n",
            "15/15 [==============================] - 0s 11ms/step - loss: 0.1183 - accuracy: 0.9648 - val_loss: 0.0786 - val_accuracy: 0.9825\n",
            "Epoch 27/100\n",
            "15/15 [==============================] - 0s 15ms/step - loss: 0.1116 - accuracy: 0.9560 - val_loss: 0.0786 - val_accuracy: 0.9825\n",
            "Epoch 28/100\n",
            "15/15 [==============================] - 0s 15ms/step - loss: 0.1103 - accuracy: 0.9670 - val_loss: 0.0799 - val_accuracy: 0.9825\n",
            "Epoch 29/100\n",
            "15/15 [==============================] - 0s 13ms/step - loss: 0.1308 - accuracy: 0.9495 - val_loss: 0.0803 - val_accuracy: 0.9825\n",
            "Epoch 30/100\n",
            "15/15 [==============================] - 0s 9ms/step - loss: 0.0999 - accuracy: 0.9648 - val_loss: 0.0805 - val_accuracy: 0.9737\n",
            "Epoch 31/100\n",
            "15/15 [==============================] - 0s 9ms/step - loss: 0.0970 - accuracy: 0.9670 - val_loss: 0.0806 - val_accuracy: 0.9649\n",
            "Epoch 32/100\n",
            "15/15 [==============================] - 0s 10ms/step - loss: 0.1048 - accuracy: 0.9582 - val_loss: 0.0797 - val_accuracy: 0.9737\n",
            "Epoch 33/100\n",
            "15/15 [==============================] - 0s 21ms/step - loss: 0.1065 - accuracy: 0.9670 - val_loss: 0.0787 - val_accuracy: 0.9649\n",
            "Epoch 34/100\n",
            "15/15 [==============================] - 0s 20ms/step - loss: 0.1007 - accuracy: 0.9604 - val_loss: 0.0770 - val_accuracy: 0.9737\n",
            "Epoch 35/100\n",
            "15/15 [==============================] - 0s 12ms/step - loss: 0.1075 - accuracy: 0.9736 - val_loss: 0.0756 - val_accuracy: 0.9737\n",
            "Epoch 36/100\n",
            "15/15 [==============================] - 0s 11ms/step - loss: 0.0788 - accuracy: 0.9714 - val_loss: 0.0743 - val_accuracy: 0.9737\n",
            "Epoch 37/100\n",
            "15/15 [==============================] - 0s 13ms/step - loss: 0.0822 - accuracy: 0.9692 - val_loss: 0.0732 - val_accuracy: 0.9737\n",
            "Epoch 38/100\n",
            "15/15 [==============================] - 0s 10ms/step - loss: 0.0990 - accuracy: 0.9736 - val_loss: 0.0728 - val_accuracy: 0.9737\n",
            "Epoch 39/100\n",
            "15/15 [==============================] - 0s 9ms/step - loss: 0.0777 - accuracy: 0.9714 - val_loss: 0.0730 - val_accuracy: 0.9737\n",
            "Epoch 40/100\n",
            "15/15 [==============================] - 0s 7ms/step - loss: 0.0873 - accuracy: 0.9758 - val_loss: 0.0754 - val_accuracy: 0.9649\n",
            "Epoch 41/100\n",
            "15/15 [==============================] - 0s 9ms/step - loss: 0.0929 - accuracy: 0.9670 - val_loss: 0.0743 - val_accuracy: 0.9649\n",
            "Epoch 42/100\n",
            "15/15 [==============================] - 0s 9ms/step - loss: 0.0899 - accuracy: 0.9736 - val_loss: 0.0700 - val_accuracy: 0.9737\n",
            "Epoch 43/100\n",
            "15/15 [==============================] - 0s 10ms/step - loss: 0.0897 - accuracy: 0.9714 - val_loss: 0.0679 - val_accuracy: 0.9737\n",
            "Epoch 44/100\n",
            "15/15 [==============================] - 0s 11ms/step - loss: 0.1150 - accuracy: 0.9560 - val_loss: 0.0694 - val_accuracy: 0.9737\n",
            "Epoch 45/100\n",
            "15/15 [==============================] - 0s 9ms/step - loss: 0.1012 - accuracy: 0.9648 - val_loss: 0.0672 - val_accuracy: 0.9737\n",
            "Epoch 46/100\n",
            "15/15 [==============================] - 0s 9ms/step - loss: 0.0874 - accuracy: 0.9714 - val_loss: 0.0659 - val_accuracy: 0.9737\n",
            "Epoch 47/100\n",
            "15/15 [==============================] - 0s 9ms/step - loss: 0.0987 - accuracy: 0.9758 - val_loss: 0.0645 - val_accuracy: 0.9737\n",
            "Epoch 48/100\n",
            "15/15 [==============================] - 0s 9ms/step - loss: 0.0937 - accuracy: 0.9670 - val_loss: 0.0644 - val_accuracy: 0.9825\n",
            "Epoch 49/100\n",
            "15/15 [==============================] - 0s 9ms/step - loss: 0.0821 - accuracy: 0.9736 - val_loss: 0.0648 - val_accuracy: 0.9825\n",
            "Epoch 50/100\n",
            "15/15 [==============================] - 0s 8ms/step - loss: 0.0717 - accuracy: 0.9692 - val_loss: 0.0668 - val_accuracy: 0.9737\n",
            "Epoch 51/100\n",
            "15/15 [==============================] - 0s 9ms/step - loss: 0.0716 - accuracy: 0.9802 - val_loss: 0.0677 - val_accuracy: 0.9737\n",
            "Epoch 52/100\n",
            "15/15 [==============================] - 0s 9ms/step - loss: 0.0860 - accuracy: 0.9714 - val_loss: 0.0679 - val_accuracy: 0.9737\n",
            "Epoch 53/100\n",
            "15/15 [==============================] - 0s 9ms/step - loss: 0.0813 - accuracy: 0.9714 - val_loss: 0.0702 - val_accuracy: 0.9737\n",
            "Epoch 54/100\n",
            "15/15 [==============================] - 0s 9ms/step - loss: 0.0713 - accuracy: 0.9758 - val_loss: 0.0697 - val_accuracy: 0.9737\n",
            "Epoch 55/100\n",
            "15/15 [==============================] - 0s 9ms/step - loss: 0.0916 - accuracy: 0.9626 - val_loss: 0.0705 - val_accuracy: 0.9737\n",
            "Epoch 56/100\n",
            "15/15 [==============================] - 0s 9ms/step - loss: 0.0987 - accuracy: 0.9582 - val_loss: 0.0700 - val_accuracy: 0.9737\n",
            "Epoch 57/100\n",
            "15/15 [==============================] - 0s 10ms/step - loss: 0.0747 - accuracy: 0.9780 - val_loss: 0.0739 - val_accuracy: 0.9737\n",
            "Epoch 58/100\n",
            "15/15 [==============================] - 0s 12ms/step - loss: 0.0744 - accuracy: 0.9736 - val_loss: 0.0739 - val_accuracy: 0.9737\n",
            "Epoch 59/100\n",
            "15/15 [==============================] - 0s 13ms/step - loss: 0.0783 - accuracy: 0.9736 - val_loss: 0.0743 - val_accuracy: 0.9737\n",
            "Epoch 60/100\n",
            "15/15 [==============================] - 0s 13ms/step - loss: 0.0735 - accuracy: 0.9780 - val_loss: 0.0754 - val_accuracy: 0.9649\n",
            "Epoch 61/100\n",
            "15/15 [==============================] - 0s 15ms/step - loss: 0.0884 - accuracy: 0.9670 - val_loss: 0.0709 - val_accuracy: 0.9737\n",
            "Epoch 62/100\n",
            "15/15 [==============================] - 0s 14ms/step - loss: 0.1038 - accuracy: 0.9670 - val_loss: 0.0725 - val_accuracy: 0.9649\n",
            "Epoch 63/100\n",
            "15/15 [==============================] - 0s 14ms/step - loss: 0.0808 - accuracy: 0.9824 - val_loss: 0.0735 - val_accuracy: 0.9649\n",
            "Epoch 64/100\n",
            "15/15 [==============================] - 0s 14ms/step - loss: 0.1459 - accuracy: 0.9495 - val_loss: 0.0692 - val_accuracy: 0.9737\n",
            "Epoch 65/100\n",
            "15/15 [==============================] - 0s 15ms/step - loss: 0.0850 - accuracy: 0.9714 - val_loss: 0.0734 - val_accuracy: 0.9649\n",
            "Epoch 66/100\n",
            "15/15 [==============================] - 0s 13ms/step - loss: 0.0650 - accuracy: 0.9868 - val_loss: 0.0779 - val_accuracy: 0.9649\n",
            "Epoch 67/100\n",
            "15/15 [==============================] - 0s 11ms/step - loss: 0.0764 - accuracy: 0.9714 - val_loss: 0.0747 - val_accuracy: 0.9649\n",
            "Epoch 68/100\n",
            "15/15 [==============================] - 0s 13ms/step - loss: 0.0858 - accuracy: 0.9626 - val_loss: 0.0690 - val_accuracy: 0.9737\n",
            "Epoch 69/100\n",
            "15/15 [==============================] - 0s 14ms/step - loss: 0.0837 - accuracy: 0.9670 - val_loss: 0.0693 - val_accuracy: 0.9737\n",
            "Epoch 70/100\n",
            "15/15 [==============================] - 0s 12ms/step - loss: 0.0652 - accuracy: 0.9824 - val_loss: 0.0705 - val_accuracy: 0.9737\n",
            "Epoch 71/100\n",
            "15/15 [==============================] - 0s 11ms/step - loss: 0.0688 - accuracy: 0.9780 - val_loss: 0.0728 - val_accuracy: 0.9649\n",
            "Epoch 72/100\n",
            "15/15 [==============================] - 0s 10ms/step - loss: 0.0909 - accuracy: 0.9604 - val_loss: 0.0673 - val_accuracy: 0.9825\n",
            "Epoch 73/100\n",
            "15/15 [==============================] - 0s 10ms/step - loss: 0.0579 - accuracy: 0.9846 - val_loss: 0.0637 - val_accuracy: 0.9825\n",
            "Epoch 74/100\n",
            "15/15 [==============================] - 0s 12ms/step - loss: 0.0938 - accuracy: 0.9670 - val_loss: 0.0650 - val_accuracy: 0.9737\n",
            "Epoch 75/100\n",
            "15/15 [==============================] - 0s 15ms/step - loss: 0.0768 - accuracy: 0.9780 - val_loss: 0.0664 - val_accuracy: 0.9649\n",
            "Epoch 76/100\n",
            "15/15 [==============================] - 0s 10ms/step - loss: 0.0775 - accuracy: 0.9714 - val_loss: 0.0690 - val_accuracy: 0.9649\n",
            "Epoch 77/100\n",
            "15/15 [==============================] - 0s 11ms/step - loss: 0.0885 - accuracy: 0.9736 - val_loss: 0.0664 - val_accuracy: 0.9649\n",
            "Epoch 78/100\n",
            "15/15 [==============================] - 0s 10ms/step - loss: 0.0537 - accuracy: 0.9758 - val_loss: 0.0684 - val_accuracy: 0.9649\n",
            "Epoch 79/100\n",
            "15/15 [==============================] - 0s 11ms/step - loss: 0.0734 - accuracy: 0.9758 - val_loss: 0.0716 - val_accuracy: 0.9649\n",
            "Epoch 80/100\n",
            "15/15 [==============================] - 0s 13ms/step - loss: 0.0710 - accuracy: 0.9736 - val_loss: 0.0723 - val_accuracy: 0.9649\n",
            "Epoch 81/100\n",
            "15/15 [==============================] - 0s 10ms/step - loss: 0.0805 - accuracy: 0.9714 - val_loss: 0.0697 - val_accuracy: 0.9649\n",
            "Epoch 82/100\n",
            "15/15 [==============================] - 0s 9ms/step - loss: 0.0775 - accuracy: 0.9692 - val_loss: 0.0682 - val_accuracy: 0.9737\n",
            "Epoch 83/100\n",
            "15/15 [==============================] - 0s 10ms/step - loss: 0.0665 - accuracy: 0.9824 - val_loss: 0.0667 - val_accuracy: 0.9737\n",
            "Epoch 84/100\n",
            "15/15 [==============================] - 0s 9ms/step - loss: 0.0628 - accuracy: 0.9758 - val_loss: 0.0698 - val_accuracy: 0.9649\n",
            "Epoch 85/100\n",
            "15/15 [==============================] - 0s 7ms/step - loss: 0.0618 - accuracy: 0.9736 - val_loss: 0.0787 - val_accuracy: 0.9649\n",
            "Epoch 86/100\n",
            "15/15 [==============================] - 0s 10ms/step - loss: 0.0589 - accuracy: 0.9692 - val_loss: 0.0776 - val_accuracy: 0.9649\n",
            "Epoch 87/100\n",
            "15/15 [==============================] - 0s 15ms/step - loss: 0.0552 - accuracy: 0.9802 - val_loss: 0.0705 - val_accuracy: 0.9649\n",
            "Epoch 88/100\n",
            "15/15 [==============================] - 0s 12ms/step - loss: 0.0846 - accuracy: 0.9648 - val_loss: 0.0676 - val_accuracy: 0.9649\n",
            "Epoch 89/100\n",
            "15/15 [==============================] - 0s 11ms/step - loss: 0.0662 - accuracy: 0.9736 - val_loss: 0.0694 - val_accuracy: 0.9649\n",
            "Epoch 90/100\n",
            "15/15 [==============================] - 0s 10ms/step - loss: 0.0509 - accuracy: 0.9890 - val_loss: 0.0692 - val_accuracy: 0.9649\n",
            "Epoch 91/100\n",
            "15/15 [==============================] - 0s 10ms/step - loss: 0.0564 - accuracy: 0.9736 - val_loss: 0.0671 - val_accuracy: 0.9649\n",
            "Epoch 92/100\n",
            "15/15 [==============================] - 0s 14ms/step - loss: 0.0734 - accuracy: 0.9714 - val_loss: 0.0685 - val_accuracy: 0.9649\n",
            "Epoch 93/100\n",
            "15/15 [==============================] - 0s 10ms/step - loss: 0.0697 - accuracy: 0.9736 - val_loss: 0.0702 - val_accuracy: 0.9649\n",
            "Epoch 94/100\n",
            "15/15 [==============================] - 0s 10ms/step - loss: 0.0606 - accuracy: 0.9780 - val_loss: 0.0698 - val_accuracy: 0.9649\n",
            "Epoch 95/100\n",
            "15/15 [==============================] - 0s 9ms/step - loss: 0.0511 - accuracy: 0.9802 - val_loss: 0.0718 - val_accuracy: 0.9649\n",
            "Epoch 96/100\n",
            "15/15 [==============================] - 0s 10ms/step - loss: 0.0795 - accuracy: 0.9670 - val_loss: 0.0712 - val_accuracy: 0.9649\n",
            "Epoch 97/100\n",
            "15/15 [==============================] - 0s 10ms/step - loss: 0.0712 - accuracy: 0.9736 - val_loss: 0.0767 - val_accuracy: 0.9649\n",
            "Epoch 98/100\n",
            "15/15 [==============================] - 0s 17ms/step - loss: 0.0635 - accuracy: 0.9780 - val_loss: 0.0737 - val_accuracy: 0.9649\n",
            "Epoch 98: early stopping\n"
          ]
        }
      ],
      "source": [
        "#COMPILING THE ANN USING STOCHASTIC GRADIENT DESCENT (optimizer = 'adam')\n",
        "ann.compile(optimizer = 'adam', loss = 'binary_crossentropy', metrics = ['accuracy'])\n",
        "\n",
        "#setting callbacks for monitoring maximum accuracy\n",
        "from tensorflow.keras.callbacks import EarlyStopping\n",
        "early_stop = EarlyStopping(monitor='val_loss', mode='min', verbose=1, patience=25)\n",
        "\n",
        "#TRAINING THE ANN WITH BATCH SIZE OF 32 (THIS IS A BATCH LEARNING)\n",
        "model=ann.fit(xtrain, ytrain,batch_size = 32, validation_data=(xtest, ytest),epochs =100,callbacks = [early_stop])"
      ]
    },
    {
      "cell_type": "markdown",
      "metadata": {
        "id": "okzvnkv_nxm7"
      },
      "source": [
        "Let us see summary of our model"
      ]
    },
    {
      "cell_type": "code",
      "execution_count": null,
      "metadata": {
        "execution": {
          "iopub.execute_input": "2022-10-15T19:53:40.609439Z",
          "iopub.status.busy": "2022-10-15T19:53:40.60908Z",
          "iopub.status.idle": "2022-10-15T19:53:40.616528Z",
          "shell.execute_reply": "2022-10-15T19:53:40.615464Z",
          "shell.execute_reply.started": "2022-10-15T19:53:40.609406Z"
        },
        "id": "SwJuXRQqnxm7",
        "outputId": "635ef2e9-c2d6-40a8-e925-04d659d3175b"
      },
      "outputs": [
        {
          "name": "stdout",
          "output_type": "stream",
          "text": [
            "Model: \"sequential\"\n",
            "_________________________________________________________________\n",
            " Layer (type)                Output Shape              Param #   \n",
            "=================================================================\n",
            " dense (Dense)               (None, 30)                720       \n",
            "                                                                 \n",
            " batch_normalization (BatchN  (None, 30)               120       \n",
            " ormalization)                                                   \n",
            "                                                                 \n",
            " dropout (Dropout)           (None, 30)                0         \n",
            "                                                                 \n",
            " dense_1 (Dense)             (None, 1)                 31        \n",
            "                                                                 \n",
            "=================================================================\n",
            "Total params: 871\n",
            "Trainable params: 811\n",
            "Non-trainable params: 60\n",
            "_________________________________________________________________\n"
          ]
        }
      ],
      "source": [
        "#taking summary of layers\n",
        "ann.summary()"
      ]
    },
    {
      "cell_type": "code",
      "execution_count": null,
      "metadata": {
        "execution": {
          "iopub.execute_input": "2022-10-15T19:53:40.619585Z",
          "iopub.status.busy": "2022-10-15T19:53:40.618584Z",
          "iopub.status.idle": "2022-10-15T19:53:40.912783Z",
          "shell.execute_reply": "2022-10-15T19:53:40.9112Z",
          "shell.execute_reply.started": "2022-10-15T19:53:40.619547Z"
        },
        "id": "09kMUC7cnxm7",
        "outputId": "8d91d5a6-3653-4ddd-b7d3-831543386be9"
      },
      "outputs": [
        {
          "data": {
            "text/plain": [
              "Text(0.5, 1.0, 'model accuracy')"
            ]
          },
          "execution_count": 25,
          "metadata": {},
          "output_type": "execute_result"
        },
        {
          "data": {
            "image/png": "[encoded data removed]",
            "text/plain": [
              "<Figure size 432x288 with 1 Axes>"
            ]
          },
          "metadata": {
            "needs_background": "light"
          },
          "output_type": "display_data"
        }
      ],
      "source": [
        "losses = pd.DataFrame(ann.history.history)\n",
        "losses.plot()\n",
        "plt.title('model accuracy')"
      ]
    },
    {
      "cell_type": "code",
      "execution_count": null,
      "metadata": {
        "execution": {
          "iopub.execute_input": "2022-10-15T19:53:40.915059Z",
          "iopub.status.busy": "2022-10-15T19:53:40.914523Z",
          "iopub.status.idle": "2022-10-15T19:53:41.071262Z",
          "shell.execute_reply": "2022-10-15T19:53:41.069975Z",
          "shell.execute_reply.started": "2022-10-15T19:53:40.915023Z"
        },
        "id": "8yzobPQ0nxm8",
        "outputId": "43d38fc0-3582-47db-e18e-b7d63ca1e756"
      },
      "outputs": [
        {
          "name": "stdout",
          "output_type": "stream",
          "text": [
            "4/4 [==============================] - 0s 6ms/step\n"
          ]
        }
      ],
      "source": [
        "#now testing for Test data\n",
        "y_pred = ann.predict(xtest)\n",
        "#converting values\n",
        "y_pred = (y_pred>0.5)"
      ]
    },
    {
      "cell_type": "code",
      "execution_count": null,
      "metadata": {
        "execution": {
          "iopub.execute_input": "2022-10-15T19:53:41.07349Z",
          "iopub.status.busy": "2022-10-15T19:53:41.072657Z",
          "iopub.status.idle": "2022-10-15T19:53:41.082729Z",
          "shell.execute_reply": "2022-10-15T19:53:41.081367Z",
          "shell.execute_reply.started": "2022-10-15T19:53:41.073448Z"
        },
        "id": "G2rY3kTbnxm8",
        "outputId": "5afde130-272e-4621-8c72-f085964d6103"
      },
      "outputs": [
        {
          "name": "stdout",
          "output_type": "stream",
          "text": [
            "[[73  2]\n",
            " [ 2 37]]\n",
            "score is: 0.9649122807017544\n"
          ]
        }
      ],
      "source": [
        "from sklearn.metrics import confusion_matrix\n",
        "from sklearn.metrics import accuracy_score\n",
        "cm = confusion_matrix(ytest,y_pred)\n",
        "score1 = accuracy_score(ytest,y_pred)\n",
        "print(cm)\n",
        "print('score is:',score1)"
      ]
    },
    {
      "cell_type": "code",
      "execution_count": null,
      "metadata": {
        "execution": {
          "iopub.execute_input": "2022-10-15T19:53:41.084728Z",
          "iopub.status.busy": "2022-10-15T19:53:41.084374Z",
          "iopub.status.idle": "2022-10-15T19:53:41.099645Z",
          "shell.execute_reply": "2022-10-15T19:53:41.09828Z",
          "shell.execute_reply.started": "2022-10-15T19:53:41.084673Z"
        },
        "id": "CFtF6Lq4nxm9",
        "outputId": "8540c1ff-f05a-43f2-f96f-6a30a01f12f7"
      },
      "outputs": [
        {
          "name": "stdout",
          "output_type": "stream",
          "text": [
            "              precision    recall  f1-score   support\n",
            "\n",
            "           0       0.97      0.97      0.97        75\n",
            "           1       0.95      0.95      0.95        39\n",
            "\n",
            "    accuracy                           0.96       114\n",
            "   macro avg       0.96      0.96      0.96       114\n",
            "weighted avg       0.96      0.96      0.96       114\n",
            "\n"
          ]
        }
      ],
      "source": [
        "from sklearn.metrics import classification_report,confusion_matrix\n",
        "print(classification_report(ytest,y_pred))"
      ]
    },
    {
      "cell_type": "code",
      "execution_count": null,
      "metadata": {
        "execution": {
          "iopub.execute_input": "2022-10-15T19:53:41.102054Z",
          "iopub.status.busy": "2022-10-15T19:53:41.101491Z",
          "iopub.status.idle": "2022-10-15T19:53:41.369311Z",
          "shell.execute_reply": "2022-10-15T19:53:41.368006Z",
          "shell.execute_reply.started": "2022-10-15T19:53:41.102016Z"
        },
        "id": "V98REftYnxm-",
        "outputId": "47cf594f-e5b1-49ba-bd16-4fe6dba038f7"
      },
      "outputs": [
        {
          "data": {
            "image/png": "[encoded data removed]",
            "text/plain": [
              "<Figure size 1008x504 with 2 Axes>"
            ]
          },
          "metadata": {
            "needs_background": "light"
          },
          "output_type": "display_data"
        }
      ],
      "source": [
        "# creating heatmap of comfussion matrix\n",
        "plt.figure(figsize=[14,7])\n",
        "sns.heatmap(cm,annot=True)\n",
        "plt.show()"
      ]
    },
    {
      "cell_type": "markdown",
      "metadata": {
        "id": "JPVP0nv-nxm-"
      },
      "source": [
        "# 2.Sigmoid"
      ]
    },
    {
      "cell_type": "code",
      "execution_count": null,
      "metadata": {
        "id": "H6v3Xy_Enxm-"
      },
      "outputs": [],
      "source": [
        "from tensorflow.keras.layers import BatchNormalization\n",
        "#CREATING THE ANN AS SEQUENCE OF LAYERS\n",
        "ann =Sequential()\n",
        "\n",
        "#ADDING FIRST HIDDEN LAYER WITH 30 NEURONS, THE INPUT LAYER WILL BE ADDED AUTOMATICALLY,\n",
        "ann.add(Dense(units = 30,activation = 'sigmoid'))\n",
        "ann.add(BatchNormalization())\n",
        "ann.add(Dropout(0.5))\n",
        "\n",
        "\n",
        "\n",
        "#ADDING OUTPUT LAYER WITH 1 NEURON , AS THIS IS A BINARY CLASSIFICATION\n",
        "ann.add(Dense(units = 1,activation = 'sigmoid'))"
      ]
    },
    {
      "cell_type": "code",
      "execution_count": null,
      "metadata": {
        "id": "3cvz1nrOnxm_",
        "outputId": "24afd008-b231-4b09-e744-d8778f28c940"
      },
      "outputs": [
        {
          "name": "stdout",
          "output_type": "stream",
          "text": [
            "Epoch 1/100\n",
            "15/15 [==============================] - 2s 26ms/step - loss: 0.4044 - accuracy: 0.8242 - val_loss: 0.5238 - val_accuracy: 0.6579\n",
            "Epoch 2/100\n",
            "15/15 [==============================] - 0s 6ms/step - loss: 0.2963 - accuracy: 0.8703 - val_loss: 0.4729 - val_accuracy: 0.7018\n",
            "Epoch 3/100\n",
            "15/15 [==============================] - 0s 7ms/step - loss: 0.2844 - accuracy: 0.8901 - val_loss: 0.4286 - val_accuracy: 0.7193\n",
            "Epoch 4/100\n",
            "15/15 [==============================] - 0s 6ms/step - loss: 0.2256 - accuracy: 0.9099 - val_loss: 0.3906 - val_accuracy: 0.7632\n",
            "Epoch 5/100\n",
            "15/15 [==============================] - 0s 7ms/step - loss: 0.2077 - accuracy: 0.9143 - val_loss: 0.3569 - val_accuracy: 0.8070\n",
            "Epoch 6/100\n",
            "15/15 [==============================] - 0s 7ms/step - loss: 0.2117 - accuracy: 0.9077 - val_loss: 0.3257 - val_accuracy: 0.8421\n",
            "Epoch 7/100\n",
            "15/15 [==============================] - 0s 8ms/step - loss: 0.1840 - accuracy: 0.9187 - val_loss: 0.2970 - val_accuracy: 0.8684\n",
            "Epoch 8/100\n",
            "15/15 [==============================] - 0s 6ms/step - loss: 0.1568 - accuracy: 0.9363 - val_loss: 0.2698 - val_accuracy: 0.8947\n",
            "Epoch 9/100\n",
            "15/15 [==============================] - 0s 8ms/step - loss: 0.1497 - accuracy: 0.9407 - val_loss: 0.2466 - val_accuracy: 0.9211\n",
            "Epoch 10/100\n",
            "15/15 [==============================] - 0s 7ms/step - loss: 0.1623 - accuracy: 0.9231 - val_loss: 0.2309 - val_accuracy: 0.9386\n",
            "Epoch 11/100\n",
            "15/15 [==============================] - 0s 7ms/step - loss: 0.1479 - accuracy: 0.9495 - val_loss: 0.2133 - val_accuracy: 0.9474\n",
            "Epoch 12/100\n",
            "15/15 [==============================] - 0s 8ms/step - loss: 0.1303 - accuracy: 0.9473 - val_loss: 0.1952 - val_accuracy: 0.9474\n",
            "Epoch 13/100\n",
            "15/15 [==============================] - 0s 6ms/step - loss: 0.1313 - accuracy: 0.9495 - val_loss: 0.1774 - val_accuracy: 0.9649\n",
            "Epoch 14/100\n",
            "15/15 [==============================] - 0s 9ms/step - loss: 0.1269 - accuracy: 0.9516 - val_loss: 0.1635 - val_accuracy: 0.9737\n",
            "Epoch 15/100\n",
            "15/15 [==============================] - 0s 13ms/step - loss: 0.0942 - accuracy: 0.9714 - val_loss: 0.1524 - val_accuracy: 0.9737\n",
            "Epoch 16/100\n",
            "15/15 [==============================] - 0s 11ms/step - loss: 0.1415 - accuracy: 0.9451 - val_loss: 0.1452 - val_accuracy: 0.9737\n",
            "Epoch 17/100\n",
            "15/15 [==============================] - 0s 18ms/step - loss: 0.1578 - accuracy: 0.9385 - val_loss: 0.1422 - val_accuracy: 0.9737\n",
            "Epoch 18/100\n",
            "15/15 [==============================] - 0s 11ms/step - loss: 0.1104 - accuracy: 0.9604 - val_loss: 0.1338 - val_accuracy: 0.9737\n",
            "Epoch 19/100\n",
            "15/15 [==============================] - 0s 12ms/step - loss: 0.0987 - accuracy: 0.9670 - val_loss: 0.1261 - val_accuracy: 0.9737\n",
            "Epoch 20/100\n",
            "15/15 [==============================] - 0s 13ms/step - loss: 0.1357 - accuracy: 0.9560 - val_loss: 0.1219 - val_accuracy: 0.9737\n",
            "Epoch 21/100\n",
            "15/15 [==============================] - 0s 15ms/step - loss: 0.1190 - accuracy: 0.9582 - val_loss: 0.1194 - val_accuracy: 0.9737\n",
            "Epoch 22/100\n",
            "15/15 [==============================] - 0s 10ms/step - loss: 0.0968 - accuracy: 0.9648 - val_loss: 0.1170 - val_accuracy: 0.9737\n",
            "Epoch 23/100\n",
            "15/15 [==============================] - 0s 14ms/step - loss: 0.1088 - accuracy: 0.9670 - val_loss: 0.1186 - val_accuracy: 0.9561\n",
            "Epoch 24/100\n",
            "15/15 [==============================] - 0s 13ms/step - loss: 0.1216 - accuracy: 0.9429 - val_loss: 0.1163 - val_accuracy: 0.9561\n",
            "Epoch 25/100\n",
            "15/15 [==============================] - 0s 15ms/step - loss: 0.0995 - accuracy: 0.9648 - val_loss: 0.1140 - val_accuracy: 0.9561\n",
            "Epoch 26/100\n",
            "15/15 [==============================] - 0s 17ms/step - loss: 0.1146 - accuracy: 0.9648 - val_loss: 0.1127 - val_accuracy: 0.9561\n",
            "Epoch 27/100\n",
            "15/15 [==============================] - 0s 23ms/step - loss: 0.1104 - accuracy: 0.9538 - val_loss: 0.1082 - val_accuracy: 0.9649\n",
            "Epoch 28/100\n",
            "15/15 [==============================] - 0s 15ms/step - loss: 0.1060 - accuracy: 0.9648 - val_loss: 0.1056 - val_accuracy: 0.9737\n",
            "Epoch 29/100\n",
            "15/15 [==============================] - 0s 12ms/step - loss: 0.1078 - accuracy: 0.9582 - val_loss: 0.1065 - val_accuracy: 0.9737\n",
            "Epoch 30/100\n",
            "15/15 [==============================] - 0s 16ms/step - loss: 0.1318 - accuracy: 0.9495 - val_loss: 0.1068 - val_accuracy: 0.9737\n",
            "Epoch 31/100\n",
            "15/15 [==============================] - 0s 14ms/step - loss: 0.1122 - accuracy: 0.9670 - val_loss: 0.1050 - val_accuracy: 0.9737\n",
            "Epoch 32/100\n",
            "15/15 [==============================] - 0s 14ms/step - loss: 0.1002 - accuracy: 0.9648 - val_loss: 0.1069 - val_accuracy: 0.9649\n",
            "Epoch 33/100\n",
            "15/15 [==============================] - 0s 12ms/step - loss: 0.1056 - accuracy: 0.9626 - val_loss: 0.1076 - val_accuracy: 0.9474\n",
            "Epoch 34/100\n",
            "15/15 [==============================] - 0s 10ms/step - loss: 0.1015 - accuracy: 0.9604 - val_loss: 0.1061 - val_accuracy: 0.9649\n",
            "Epoch 35/100\n",
            "15/15 [==============================] - 0s 13ms/step - loss: 0.1099 - accuracy: 0.9582 - val_loss: 0.1071 - val_accuracy: 0.9649\n",
            "Epoch 36/100\n",
            "15/15 [==============================] - 0s 10ms/step - loss: 0.0762 - accuracy: 0.9736 - val_loss: 0.1090 - val_accuracy: 0.9649\n",
            "Epoch 37/100\n",
            "15/15 [==============================] - 0s 13ms/step - loss: 0.0844 - accuracy: 0.9626 - val_loss: 0.1075 - val_accuracy: 0.9649\n",
            "Epoch 38/100\n",
            "15/15 [==============================] - 0s 13ms/step - loss: 0.0912 - accuracy: 0.9714 - val_loss: 0.1070 - val_accuracy: 0.9649\n",
            "Epoch 39/100\n",
            "15/15 [==============================] - 0s 12ms/step - loss: 0.0951 - accuracy: 0.9692 - val_loss: 0.1101 - val_accuracy: 0.9649\n",
            "Epoch 40/100\n",
            "15/15 [==============================] - 0s 13ms/step - loss: 0.1057 - accuracy: 0.9648 - val_loss: 0.1115 - val_accuracy: 0.9649\n",
            "Epoch 41/100\n",
            "15/15 [==============================] - 0s 12ms/step - loss: 0.1139 - accuracy: 0.9648 - val_loss: 0.1083 - val_accuracy: 0.9649\n",
            "Epoch 42/100\n",
            "15/15 [==============================] - 0s 10ms/step - loss: 0.1172 - accuracy: 0.9560 - val_loss: 0.1111 - val_accuracy: 0.9649\n",
            "Epoch 43/100\n",
            "15/15 [==============================] - 0s 10ms/step - loss: 0.1022 - accuracy: 0.9626 - val_loss: 0.1138 - val_accuracy: 0.9649\n",
            "Epoch 44/100\n",
            "15/15 [==============================] - 0s 10ms/step - loss: 0.0932 - accuracy: 0.9736 - val_loss: 0.1174 - val_accuracy: 0.9649\n",
            "Epoch 45/100\n",
            "15/15 [==============================] - 0s 12ms/step - loss: 0.0830 - accuracy: 0.9736 - val_loss: 0.1204 - val_accuracy: 0.9561\n",
            "Epoch 46/100\n",
            "15/15 [==============================] - 0s 12ms/step - loss: 0.0805 - accuracy: 0.9648 - val_loss: 0.1174 - val_accuracy: 0.9649\n",
            "Epoch 47/100\n",
            "15/15 [==============================] - 0s 13ms/step - loss: 0.0750 - accuracy: 0.9758 - val_loss: 0.1154 - val_accuracy: 0.9649\n",
            "Epoch 48/100\n",
            "15/15 [==============================] - 0s 10ms/step - loss: 0.1038 - accuracy: 0.9626 - val_loss: 0.1154 - val_accuracy: 0.9649\n",
            "Epoch 49/100\n",
            "15/15 [==============================] - 0s 10ms/step - loss: 0.0853 - accuracy: 0.9648 - val_loss: 0.1150 - val_accuracy: 0.9649\n",
            "Epoch 50/100\n",
            "15/15 [==============================] - 0s 14ms/step - loss: 0.0997 - accuracy: 0.9714 - val_loss: 0.1158 - val_accuracy: 0.9649\n",
            "Epoch 51/100\n",
            "15/15 [==============================] - 0s 9ms/step - loss: 0.0814 - accuracy: 0.9736 - val_loss: 0.1151 - val_accuracy: 0.9649\n",
            "Epoch 52/100\n",
            "15/15 [==============================] - 0s 9ms/step - loss: 0.1014 - accuracy: 0.9582 - val_loss: 0.1154 - val_accuracy: 0.9649\n",
            "Epoch 53/100\n",
            "15/15 [==============================] - 0s 10ms/step - loss: 0.0904 - accuracy: 0.9736 - val_loss: 0.1162 - val_accuracy: 0.9649\n",
            "Epoch 54/100\n",
            "15/15 [==============================] - 0s 7ms/step - loss: 0.1432 - accuracy: 0.9473 - val_loss: 0.1179 - val_accuracy: 0.9649\n",
            "Epoch 55/100\n",
            "15/15 [==============================] - 0s 9ms/step - loss: 0.0966 - accuracy: 0.9582 - val_loss: 0.1186 - val_accuracy: 0.9649\n",
            "Epoch 56/100\n",
            "15/15 [==============================] - 0s 9ms/step - loss: 0.0874 - accuracy: 0.9692 - val_loss: 0.1218 - val_accuracy: 0.9649\n",
            "Epoch 56: early stopping\n"
          ]
        }
      ],
      "source": [
        "#COMPILING THE ANN USING STOCHASTIC GRADIENT DESCENT (optimizer = 'adam')\n",
        "ann.compile(optimizer = 'adam', loss = 'binary_crossentropy', metrics = ['accuracy'])\n",
        "\n",
        "#setting callbacks for monitoring maximum accuracy\n",
        "from tensorflow.keras.callbacks import EarlyStopping\n",
        "early_stop = EarlyStopping(monitor='val_loss', mode='min', verbose=1, patience=25)\n",
        "\n",
        "#TRAINING THE ANN WITH BATCH SIZE OF 32 (THIS IS A BATCH LEARNING)\n",
        "model=ann.fit(xtrain, ytrain,batch_size = 32, validation_data=(xtest, ytest),epochs =100,callbacks = [early_stop])"
      ]
    },
    {
      "cell_type": "code",
      "execution_count": null,
      "metadata": {
        "id": "F_PlHey4nxnA",
        "outputId": "8d95e1bd-ca4b-49ee-f944-b5ea1cf14110"
      },
      "outputs": [
        {
          "name": "stdout",
          "output_type": "stream",
          "text": [
            "Model: \"sequential_1\"\n",
            "_________________________________________________________________\n",
            " Layer (type)                Output Shape              Param #   \n",
            "=================================================================\n",
            " dense_2 (Dense)             (None, 30)                720       \n",
            "                                                                 \n",
            " batch_normalization_1 (Batc  (None, 30)               120       \n",
            " hNormalization)                                                 \n",
            "                                                                 \n",
            " dropout_1 (Dropout)         (None, 30)                0         \n",
            "                                                                 \n",
            " dense_3 (Dense)             (None, 1)                 31        \n",
            "                                                                 \n",
            "=================================================================\n",
            "Total params: 871\n",
            "Trainable params: 811\n",
            "Non-trainable params: 60\n",
            "_________________________________________________________________\n"
          ]
        }
      ],
      "source": [
        "#taking summary of layers\n",
        "ann.summary()"
      ]
    },
    {
      "cell_type": "code",
      "execution_count": null,
      "metadata": {
        "id": "x8eRgU0anxnA",
        "outputId": "ed69cf9d-9edd-4635-82a4-a67986df0196"
      },
      "outputs": [
        {
          "data": {
            "text/plain": [
              "<AxesSubplot:>"
            ]
          },
          "execution_count": 33,
          "metadata": {},
          "output_type": "execute_result"
        },
        {
          "data": {
            "image/png": "[encoded data removed]",
            "text/plain": [
              "<Figure size 432x288 with 1 Axes>"
            ]
          },
          "metadata": {
            "needs_background": "light"
          },
          "output_type": "display_data"
        }
      ],
      "source": [
        "losses = pd.DataFrame(ann.history.history)\n",
        "losses.plot()"
      ]
    },
    {
      "cell_type": "code",
      "execution_count": null,
      "metadata": {
        "id": "XXFTwIqZnxnB",
        "outputId": "68e1c69b-96a3-4c4c-8a30-fb6752c4045f"
      },
      "outputs": [
        {
          "name": "stdout",
          "output_type": "stream",
          "text": [
            "4/4 [==============================] - 0s 5ms/step\n"
          ]
        }
      ],
      "source": [
        "#now testing for Test data\n",
        "y_pred = ann.predict(xtest)\n",
        "#converting values\n",
        "y_pred = (y_pred>0.5)"
      ]
    },
    {
      "cell_type": "code",
      "execution_count": null,
      "metadata": {
        "id": "Zd3Nf6pOnxnB",
        "outputId": "e09882b1-07d4-4a45-97ba-c54def067fec"
      },
      "outputs": [
        {
          "name": "stdout",
          "output_type": "stream",
          "text": [
            "[[73  2]\n",
            " [ 2 37]]\n",
            "score is: 0.9649122807017544\n"
          ]
        }
      ],
      "source": [
        "from sklearn.metrics import confusion_matrix\n",
        "from sklearn.metrics import accuracy_score\n",
        "cm = confusion_matrix(ytest,y_pred)\n",
        "score2 = accuracy_score(ytest,y_pred)\n",
        "print(cm)\n",
        "print('score is:',score2)"
      ]
    },
    {
      "cell_type": "code",
      "execution_count": null,
      "metadata": {
        "id": "75_fCEfVnxnC",
        "outputId": "9ad1b980-7367-4061-cc18-d4b8d8968b76"
      },
      "outputs": [
        {
          "name": "stdout",
          "output_type": "stream",
          "text": [
            "              precision    recall  f1-score   support\n",
            "\n",
            "           0       0.97      0.97      0.97        75\n",
            "           1       0.95      0.95      0.95        39\n",
            "\n",
            "    accuracy                           0.96       114\n",
            "   macro avg       0.96      0.96      0.96       114\n",
            "weighted avg       0.96      0.96      0.96       114\n",
            "\n"
          ]
        }
      ],
      "source": [
        "from sklearn.metrics import classification_report,confusion_matrix\n",
        "print(classification_report(ytest,y_pred))"
      ]
    },
    {
      "cell_type": "code",
      "execution_count": null,
      "metadata": {
        "id": "BWnQknSbnxnC",
        "outputId": "c6337708-19e4-4a97-a68a-43e46e9f75d0"
      },
      "outputs": [
        {
          "data": {
            "image/png": "[encoded data removed]",
            "text/plain": [
              "<Figure size 1008x504 with 2 Axes>"
            ]
          },
          "metadata": {
            "needs_background": "light"
          },
          "output_type": "display_data"
        }
      ],
      "source": [
        "# creating heatmap of comfussion matrix\n",
        "plt.figure(figsize=[14,7])\n",
        "sns.heatmap(cm,annot=True)\n",
        "plt.show()"
      ]
    },
    {
      "cell_type": "code",
      "execution_count": null,
      "metadata": {
        "id": "r5UMxXSKnxnD"
      },
      "outputs": [],
      "source": []
    },
    {
      "cell_type": "markdown",
      "metadata": {
        "id": "qdA4kdPTnxnD"
      },
      "source": [
        "# 3.Tanh"
      ]
    },
    {
      "cell_type": "code",
      "execution_count": null,
      "metadata": {
        "id": "xRnTA1F2nxnD"
      },
      "outputs": [],
      "source": [
        "from tensorflow.keras.layers import BatchNormalization\n",
        "#CREATING THE ANN AS SEQUENCE OF LAYERS\n",
        "ann =Sequential()\n",
        "\n",
        "#ADDING FIRST HIDDEN LAYER WITH 30 NEURONS, THE INPUT LAYER WILL BE ADDED AUTOMATICALLY,\n",
        "ann.add(Dense(units = 30,activation = 'tanh'))\n",
        "ann.add(BatchNormalization())\n",
        "ann.add(Dropout(0.5))\n",
        "\n",
        "\n",
        "\n",
        "#ADDING OUTPUT LAYER WITH 1 NEURON , AS THIS IS A BINARY CLASSIFICATION\n",
        "ann.add(Dense(units = 1,activation = 'sigmoid'))"
      ]
    },
    {
      "cell_type": "code",
      "execution_count": null,
      "metadata": {
        "id": "LBMcDQRznxnE",
        "outputId": "045c68c2-d6bf-4752-8cfd-f2022f4d3a7e"
      },
      "outputs": [
        {
          "name": "stdout",
          "output_type": "stream",
          "text": [
            "Epoch 1/100\n",
            "15/15 [==============================] - 2s 20ms/step - loss: 0.8222 - accuracy: 0.5978 - val_loss: 0.5471 - val_accuracy: 0.7807\n",
            "Epoch 2/100\n",
            "15/15 [==============================] - 0s 11ms/step - loss: 0.6154 - accuracy: 0.6879 - val_loss: 0.4108 - val_accuracy: 0.8772\n",
            "Epoch 3/100\n",
            "15/15 [==============================] - 0s 13ms/step - loss: 0.4482 - accuracy: 0.7824 - val_loss: 0.3326 - val_accuracy: 0.8947\n",
            "Epoch 4/100\n",
            "15/15 [==============================] - 0s 10ms/step - loss: 0.3503 - accuracy: 0.8549 - val_loss: 0.2864 - val_accuracy: 0.9123\n",
            "Epoch 5/100\n",
            "15/15 [==============================] - 0s 9ms/step - loss: 0.3081 - accuracy: 0.8703 - val_loss: 0.2510 - val_accuracy: 0.9386\n",
            "Epoch 6/100\n",
            "15/15 [==============================] - 0s 10ms/step - loss: 0.2634 - accuracy: 0.8901 - val_loss: 0.2212 - val_accuracy: 0.9474\n",
            "Epoch 7/100\n",
            "15/15 [==============================] - 0s 11ms/step - loss: 0.2453 - accuracy: 0.9077 - val_loss: 0.2016 - val_accuracy: 0.9561\n",
            "Epoch 8/100\n",
            "15/15 [==============================] - 0s 12ms/step - loss: 0.2088 - accuracy: 0.9165 - val_loss: 0.1841 - val_accuracy: 0.9561\n",
            "Epoch 9/100\n",
            "15/15 [==============================] - 0s 10ms/step - loss: 0.2115 - accuracy: 0.9209 - val_loss: 0.1714 - val_accuracy: 0.9561\n",
            "Epoch 10/100\n",
            "15/15 [==============================] - 0s 12ms/step - loss: 0.1981 - accuracy: 0.9319 - val_loss: 0.1612 - val_accuracy: 0.9474\n",
            "Epoch 11/100\n",
            "15/15 [==============================] - 0s 12ms/step - loss: 0.2264 - accuracy: 0.9187 - val_loss: 0.1527 - val_accuracy: 0.9474\n",
            "Epoch 12/100\n",
            "15/15 [==============================] - 0s 15ms/step - loss: 0.1744 - accuracy: 0.9495 - val_loss: 0.1434 - val_accuracy: 0.9649\n",
            "Epoch 13/100\n",
            "15/15 [==============================] - 0s 9ms/step - loss: 0.1373 - accuracy: 0.9538 - val_loss: 0.1375 - val_accuracy: 0.9561\n",
            "Epoch 14/100\n",
            "15/15 [==============================] - 0s 8ms/step - loss: 0.1701 - accuracy: 0.9451 - val_loss: 0.1288 - val_accuracy: 0.9649\n",
            "Epoch 15/100\n",
            "15/15 [==============================] - 0s 7ms/step - loss: 0.1314 - accuracy: 0.9516 - val_loss: 0.1235 - val_accuracy: 0.9649\n",
            "Epoch 16/100\n",
            "15/15 [==============================] - 0s 8ms/step - loss: 0.1469 - accuracy: 0.9495 - val_loss: 0.1182 - val_accuracy: 0.9649\n",
            "Epoch 17/100\n",
            "15/15 [==============================] - 0s 9ms/step - loss: 0.1055 - accuracy: 0.9670 - val_loss: 0.1131 - val_accuracy: 0.9649\n",
            "Epoch 18/100\n",
            "15/15 [==============================] - 0s 6ms/step - loss: 0.1341 - accuracy: 0.9495 - val_loss: 0.1079 - val_accuracy: 0.9649\n",
            "Epoch 19/100\n",
            "15/15 [==============================] - 0s 6ms/step - loss: 0.1674 - accuracy: 0.9451 - val_loss: 0.1095 - val_accuracy: 0.9649\n",
            "Epoch 20/100\n",
            "15/15 [==============================] - 0s 8ms/step - loss: 0.1503 - accuracy: 0.9560 - val_loss: 0.1128 - val_accuracy: 0.9737\n",
            "Epoch 21/100\n",
            "15/15 [==============================] - 0s 6ms/step - loss: 0.1161 - accuracy: 0.9582 - val_loss: 0.1126 - val_accuracy: 0.9737\n",
            "Epoch 22/100\n",
            "15/15 [==============================] - 0s 6ms/step - loss: 0.1123 - accuracy: 0.9604 - val_loss: 0.1106 - val_accuracy: 0.9737\n",
            "Epoch 23/100\n",
            "15/15 [==============================] - 0s 6ms/step - loss: 0.1048 - accuracy: 0.9604 - val_loss: 0.1039 - val_accuracy: 0.9737\n",
            "Epoch 24/100\n",
            "15/15 [==============================] - 0s 6ms/step - loss: 0.1275 - accuracy: 0.9495 - val_loss: 0.1017 - val_accuracy: 0.9737\n",
            "Epoch 25/100\n",
            "15/15 [==============================] - 0s 7ms/step - loss: 0.0918 - accuracy: 0.9736 - val_loss: 0.0998 - val_accuracy: 0.9737\n",
            "Epoch 26/100\n",
            "15/15 [==============================] - 0s 7ms/step - loss: 0.1187 - accuracy: 0.9560 - val_loss: 0.1016 - val_accuracy: 0.9737\n",
            "Epoch 27/100\n",
            "15/15 [==============================] - 0s 6ms/step - loss: 0.0891 - accuracy: 0.9692 - val_loss: 0.1036 - val_accuracy: 0.9737\n",
            "Epoch 28/100\n",
            "15/15 [==============================] - 0s 6ms/step - loss: 0.0925 - accuracy: 0.9670 - val_loss: 0.1036 - val_accuracy: 0.9737\n",
            "Epoch 29/100\n",
            "15/15 [==============================] - 0s 6ms/step - loss: 0.0924 - accuracy: 0.9626 - val_loss: 0.0997 - val_accuracy: 0.9737\n",
            "Epoch 30/100\n",
            "15/15 [==============================] - 0s 6ms/step - loss: 0.1111 - accuracy: 0.9648 - val_loss: 0.0953 - val_accuracy: 0.9737\n",
            "Epoch 31/100\n",
            "15/15 [==============================] - 0s 7ms/step - loss: 0.0833 - accuracy: 0.9670 - val_loss: 0.0949 - val_accuracy: 0.9737\n",
            "Epoch 32/100\n",
            "15/15 [==============================] - 0s 6ms/step - loss: 0.1275 - accuracy: 0.9538 - val_loss: 0.0957 - val_accuracy: 0.9737\n",
            "Epoch 33/100\n",
            "15/15 [==============================] - 0s 8ms/step - loss: 0.0991 - accuracy: 0.9626 - val_loss: 0.0987 - val_accuracy: 0.9561\n",
            "Epoch 34/100\n",
            "15/15 [==============================] - 0s 8ms/step - loss: 0.0700 - accuracy: 0.9846 - val_loss: 0.0993 - val_accuracy: 0.9561\n",
            "Epoch 35/100\n",
            "15/15 [==============================] - 0s 9ms/step - loss: 0.1111 - accuracy: 0.9538 - val_loss: 0.0938 - val_accuracy: 0.9649\n",
            "Epoch 36/100\n",
            "15/15 [==============================] - 0s 9ms/step - loss: 0.0946 - accuracy: 0.9626 - val_loss: 0.0922 - val_accuracy: 0.9649\n",
            "Epoch 37/100\n",
            "15/15 [==============================] - 0s 8ms/step - loss: 0.0869 - accuracy: 0.9736 - val_loss: 0.0906 - val_accuracy: 0.9649\n",
            "Epoch 38/100\n",
            "15/15 [==============================] - 0s 9ms/step - loss: 0.1198 - accuracy: 0.9560 - val_loss: 0.0923 - val_accuracy: 0.9649\n",
            "Epoch 39/100\n",
            "15/15 [==============================] - 0s 8ms/step - loss: 0.1087 - accuracy: 0.9451 - val_loss: 0.0912 - val_accuracy: 0.9649\n",
            "Epoch 40/100\n",
            "15/15 [==============================] - 0s 10ms/step - loss: 0.0956 - accuracy: 0.9692 - val_loss: 0.0915 - val_accuracy: 0.9649\n",
            "Epoch 41/100\n",
            "15/15 [==============================] - 0s 8ms/step - loss: 0.0872 - accuracy: 0.9714 - val_loss: 0.0943 - val_accuracy: 0.9649\n",
            "Epoch 42/100\n",
            "15/15 [==============================] - 0s 11ms/step - loss: 0.0743 - accuracy: 0.9692 - val_loss: 0.0949 - val_accuracy: 0.9649\n",
            "Epoch 43/100\n",
            "15/15 [==============================] - 0s 9ms/step - loss: 0.0857 - accuracy: 0.9714 - val_loss: 0.0953 - val_accuracy: 0.9649\n",
            "Epoch 44/100\n",
            "15/15 [==============================] - 0s 16ms/step - loss: 0.0817 - accuracy: 0.9670 - val_loss: 0.0929 - val_accuracy: 0.9649\n",
            "Epoch 45/100\n",
            "15/15 [==============================] - 0s 16ms/step - loss: 0.0740 - accuracy: 0.9736 - val_loss: 0.0938 - val_accuracy: 0.9649\n",
            "Epoch 46/100\n",
            "15/15 [==============================] - 0s 9ms/step - loss: 0.0717 - accuracy: 0.9670 - val_loss: 0.0939 - val_accuracy: 0.9649\n",
            "Epoch 47/100\n",
            "15/15 [==============================] - 0s 11ms/step - loss: 0.0596 - accuracy: 0.9780 - val_loss: 0.0934 - val_accuracy: 0.9649\n",
            "Epoch 48/100\n",
            "15/15 [==============================] - 0s 9ms/step - loss: 0.0841 - accuracy: 0.9714 - val_loss: 0.0952 - val_accuracy: 0.9649\n",
            "Epoch 49/100\n",
            "15/15 [==============================] - 0s 8ms/step - loss: 0.1017 - accuracy: 0.9648 - val_loss: 0.0937 - val_accuracy: 0.9649\n",
            "Epoch 50/100\n",
            "15/15 [==============================] - 0s 6ms/step - loss: 0.0786 - accuracy: 0.9736 - val_loss: 0.0933 - val_accuracy: 0.9649\n",
            "Epoch 51/100\n",
            "15/15 [==============================] - 0s 6ms/step - loss: 0.0724 - accuracy: 0.9780 - val_loss: 0.0927 - val_accuracy: 0.9649\n",
            "Epoch 52/100\n",
            "15/15 [==============================] - 0s 6ms/step - loss: 0.0926 - accuracy: 0.9604 - val_loss: 0.0945 - val_accuracy: 0.9649\n",
            "Epoch 53/100\n",
            "15/15 [==============================] - 0s 6ms/step - loss: 0.1280 - accuracy: 0.9516 - val_loss: 0.0964 - val_accuracy: 0.9737\n",
            "Epoch 54/100\n",
            "15/15 [==============================] - 0s 6ms/step - loss: 0.0783 - accuracy: 0.9648 - val_loss: 0.0982 - val_accuracy: 0.9737\n",
            "Epoch 55/100\n",
            "15/15 [==============================] - 0s 6ms/step - loss: 0.0604 - accuracy: 0.9802 - val_loss: 0.0981 - val_accuracy: 0.9649\n",
            "Epoch 56/100\n",
            "15/15 [==============================] - 0s 6ms/step - loss: 0.0642 - accuracy: 0.9758 - val_loss: 0.0962 - val_accuracy: 0.9649\n",
            "Epoch 57/100\n",
            "15/15 [==============================] - 0s 8ms/step - loss: 0.0705 - accuracy: 0.9802 - val_loss: 0.0909 - val_accuracy: 0.9737\n",
            "Epoch 58/100\n",
            "15/15 [==============================] - 0s 7ms/step - loss: 0.0894 - accuracy: 0.9692 - val_loss: 0.0923 - val_accuracy: 0.9649\n",
            "Epoch 59/100\n",
            "15/15 [==============================] - 0s 8ms/step - loss: 0.0777 - accuracy: 0.9670 - val_loss: 0.0936 - val_accuracy: 0.9649\n",
            "Epoch 60/100\n",
            "15/15 [==============================] - 0s 6ms/step - loss: 0.0684 - accuracy: 0.9758 - val_loss: 0.0945 - val_accuracy: 0.9649\n",
            "Epoch 61/100\n",
            "15/15 [==============================] - 0s 6ms/step - loss: 0.1038 - accuracy: 0.9560 - val_loss: 0.0922 - val_accuracy: 0.9649\n",
            "Epoch 62/100\n",
            "15/15 [==============================] - 0s 6ms/step - loss: 0.0736 - accuracy: 0.9758 - val_loss: 0.0933 - val_accuracy: 0.9649\n",
            "Epoch 62: early stopping\n"
          ]
        }
      ],
      "source": [
        "#COMPILING THE ANN USING STOCHASTIC GRADIENT DESCENT (optimizer = 'adam')\n",
        "ann.compile(optimizer = 'adam', loss = 'binary_crossentropy', metrics = ['accuracy'])\n",
        "\n",
        "#setting callbacks for monitoring maximum accuracy\n",
        "from tensorflow.keras.callbacks import EarlyStopping\n",
        "early_stop = EarlyStopping(monitor='val_loss', mode='min', verbose=1, patience=25)\n",
        "\n",
        "#TRAINING THE ANN WITH BATCH SIZE OF 32 (THIS IS A BATCH LEARNING)\n",
        "model=ann.fit(xtrain, ytrain,batch_size = 32, validation_data=(xtest, ytest),epochs =100,callbacks = [early_stop])"
      ]
    },
    {
      "cell_type": "code",
      "execution_count": null,
      "metadata": {
        "id": "iuV55SLnnxnF",
        "outputId": "ace60a44-0181-4872-8611-ff699cd2862c"
      },
      "outputs": [
        {
          "name": "stdout",
          "output_type": "stream",
          "text": [
            "Model: \"sequential_2\"\n",
            "_________________________________________________________________\n",
            " Layer (type)                Output Shape              Param #   \n",
            "=================================================================\n",
            " dense_4 (Dense)             (None, 30)                720       \n",
            "                                                                 \n",
            " batch_normalization_2 (Batc  (None, 30)               120       \n",
            " hNormalization)                                                 \n",
            "                                                                 \n",
            " dropout_2 (Dropout)         (None, 30)                0         \n",
            "                                                                 \n",
            " dense_5 (Dense)             (None, 1)                 31        \n",
            "                                                                 \n",
            "=================================================================\n",
            "Total params: 871\n",
            "Trainable params: 811\n",
            "Non-trainable params: 60\n",
            "_________________________________________________________________\n"
          ]
        }
      ],
      "source": [
        "#taking summary of layers\n",
        "ann.summary()"
      ]
    },
    {
      "cell_type": "code",
      "execution_count": null,
      "metadata": {
        "id": "fd2KvrCcnxnF",
        "outputId": "34b9056f-703a-4909-a7ad-ce165ba7738e"
      },
      "outputs": [
        {
          "data": {
            "text/plain": [
              "<AxesSubplot:>"
            ]
          },
          "execution_count": 41,
          "metadata": {},
          "output_type": "execute_result"
        },
        {
          "data": {
            "image/png": "[encoded data removed]",
            "text/plain": [
              "<Figure size 432x288 with 1 Axes>"
            ]
          },
          "metadata": {
            "needs_background": "light"
          },
          "output_type": "display_data"
        }
      ],
      "source": [
        "losses = pd.DataFrame(ann.history.history)\n",
        "losses.plot()"
      ]
    },
    {
      "cell_type": "code",
      "execution_count": null,
      "metadata": {
        "id": "wBb97X8hnxnG",
        "outputId": "8b1f253e-789b-45db-9331-0b0ec2098a91"
      },
      "outputs": [
        {
          "name": "stdout",
          "output_type": "stream",
          "text": [
            "4/4 [==============================] - 0s 3ms/step\n"
          ]
        }
      ],
      "source": [
        "#now testing for Test data\n",
        "y_pred = ann.predict(xtest)\n",
        "#converting values\n",
        "y_pred = (y_pred>0.5)"
      ]
    },
    {
      "cell_type": "code",
      "execution_count": null,
      "metadata": {
        "id": "uQ3GIshsnxnH",
        "outputId": "eada6780-c68e-45fd-c1e5-56ce3907924a"
      },
      "outputs": [
        {
          "name": "stdout",
          "output_type": "stream",
          "text": [
            "[[73  2]\n",
            " [ 2 37]]\n",
            "score is: 0.9649122807017544\n"
          ]
        }
      ],
      "source": [
        "from sklearn.metrics import confusion_matrix\n",
        "from sklearn.metrics import accuracy_score\n",
        "cm = confusion_matrix(ytest,y_pred)\n",
        "score3 = accuracy_score(ytest,y_pred)\n",
        "print(cm)\n",
        "print('score is:',score3)"
      ]
    },
    {
      "cell_type": "code",
      "execution_count": null,
      "metadata": {
        "id": "xmz4LxqrnxnH",
        "outputId": "21057745-878f-46a1-9723-4cc962a4c023"
      },
      "outputs": [
        {
          "name": "stdout",
          "output_type": "stream",
          "text": [
            "              precision    recall  f1-score   support\n",
            "\n",
            "           0       0.97      0.97      0.97        75\n",
            "           1       0.95      0.95      0.95        39\n",
            "\n",
            "    accuracy                           0.96       114\n",
            "   macro avg       0.96      0.96      0.96       114\n",
            "weighted avg       0.96      0.96      0.96       114\n",
            "\n"
          ]
        }
      ],
      "source": [
        "from sklearn.metrics import classification_report,confusion_matrix\n",
        "print(classification_report(ytest,y_pred))"
      ]
    },
    {
      "cell_type": "code",
      "execution_count": null,
      "metadata": {
        "id": "cPLfEpRYnxnI",
        "outputId": "ac04b2fe-b290-48d5-d2b6-40a0d1fb1b57"
      },
      "outputs": [
        {
          "data": {
            "image/png": "[encoded data removed]",
            "text/plain": [
              "<Figure size 1008x504 with 2 Axes>"
            ]
          },
          "metadata": {
            "needs_background": "light"
          },
          "output_type": "display_data"
        }
      ],
      "source": [
        "# creating heatmap of comfussion matrix\n",
        "plt.figure(figsize=[14,7])\n",
        "sns.heatmap(cm,annot=True)\n",
        "plt.show()"
      ]
    },
    {
      "cell_type": "code",
      "execution_count": null,
      "metadata": {
        "id": "GDO73HydnxnI"
      },
      "outputs": [],
      "source": []
    },
    {
      "cell_type": "code",
      "execution_count": null,
      "metadata": {
        "id": "oVuOk7RjnxnJ"
      },
      "outputs": [],
      "source": []
    },
    {
      "cell_type": "markdown",
      "metadata": {
        "id": "5tcadJrynxnJ"
      },
      "source": [
        "# 4.SOFTMAX"
      ]
    },
    {
      "cell_type": "code",
      "execution_count": null,
      "metadata": {
        "id": "GYW3yDGknxnJ"
      },
      "outputs": [],
      "source": [
        "from tensorflow.keras.layers import BatchNormalization\n",
        "#CREATING THE ANN AS SEQUENCE OF LAYERS\n",
        "ann =Sequential()\n",
        "\n",
        "#ADDING FIRST HIDDEN LAYER WITH 30 NEURONS, THE INPUT LAYER WILL BE ADDED AUTOMATICALLY,\n",
        "ann.add(Dense(units = 30,activation = 'softmax'))\n",
        "ann.add(BatchNormalization())\n",
        "ann.add(Dropout(0.5))\n",
        "\n",
        "\n",
        "\n",
        "#ADDING OUTPUT LAYER WITH 1 NEURON , AS THIS IS A BINARY CLASSIFICATION\n",
        "ann.add(Dense(units = 1,activation = 'sigmoid'))"
      ]
    },
    {
      "cell_type": "code",
      "execution_count": null,
      "metadata": {
        "id": "ihURsDD_nxnK",
        "outputId": "ad21af78-d791-4532-8632-9c68c7ef56e1"
      },
      "outputs": [
        {
          "name": "stdout",
          "output_type": "stream",
          "text": [
            "Epoch 1/100\n",
            "15/15 [==============================] - 1s 19ms/step - loss: 0.7446 - accuracy: 0.5385 - val_loss: 0.6625 - val_accuracy: 0.7632\n",
            "Epoch 2/100\n",
            "15/15 [==============================] - 0s 5ms/step - loss: 0.5437 - accuracy: 0.7341 - val_loss: 0.6413 - val_accuracy: 0.7368\n",
            "Epoch 3/100\n",
            "15/15 [==============================] - 0s 5ms/step - loss: 0.4303 - accuracy: 0.8044 - val_loss: 0.6221 - val_accuracy: 0.7105\n",
            "Epoch 4/100\n",
            "15/15 [==============================] - 0s 5ms/step - loss: 0.3784 - accuracy: 0.8462 - val_loss: 0.6060 - val_accuracy: 0.6754\n",
            "Epoch 5/100\n",
            "15/15 [==============================] - 0s 5ms/step - loss: 0.3302 - accuracy: 0.8791 - val_loss: 0.5920 - val_accuracy: 0.6754\n",
            "Epoch 6/100\n",
            "15/15 [==============================] - 0s 5ms/step - loss: 0.2638 - accuracy: 0.9143 - val_loss: 0.5782 - val_accuracy: 0.6667\n",
            "Epoch 7/100\n",
            "15/15 [==============================] - 0s 5ms/step - loss: 0.2548 - accuracy: 0.9077 - val_loss: 0.5655 - val_accuracy: 0.6667\n",
            "Epoch 8/100\n",
            "15/15 [==============================] - 0s 5ms/step - loss: 0.2412 - accuracy: 0.9055 - val_loss: 0.5523 - val_accuracy: 0.6667\n",
            "Epoch 9/100\n",
            "15/15 [==============================] - 0s 7ms/step - loss: 0.2346 - accuracy: 0.9187 - val_loss: 0.5395 - val_accuracy: 0.6667\n",
            "Epoch 10/100\n",
            "15/15 [==============================] - 0s 8ms/step - loss: 0.2035 - accuracy: 0.9341 - val_loss: 0.5265 - val_accuracy: 0.6754\n",
            "Epoch 11/100\n",
            "15/15 [==============================] - 0s 8ms/step - loss: 0.1854 - accuracy: 0.9363 - val_loss: 0.5130 - val_accuracy: 0.7193\n",
            "Epoch 12/100\n",
            "15/15 [==============================] - 0s 9ms/step - loss: 0.1737 - accuracy: 0.9495 - val_loss: 0.4991 - val_accuracy: 0.7281\n",
            "Epoch 13/100\n",
            "15/15 [==============================] - 0s 8ms/step - loss: 0.1843 - accuracy: 0.9407 - val_loss: 0.4855 - val_accuracy: 0.7368\n",
            "Epoch 14/100\n",
            "15/15 [==============================] - 0s 9ms/step - loss: 0.1833 - accuracy: 0.9363 - val_loss: 0.4708 - val_accuracy: 0.7632\n",
            "Epoch 15/100\n",
            "15/15 [==============================] - 0s 10ms/step - loss: 0.1809 - accuracy: 0.9253 - val_loss: 0.4545 - val_accuracy: 0.7982\n",
            "Epoch 16/100\n",
            "15/15 [==============================] - 0s 9ms/step - loss: 0.1454 - accuracy: 0.9538 - val_loss: 0.4395 - val_accuracy: 0.8158\n",
            "Epoch 17/100\n",
            "15/15 [==============================] - 0s 6ms/step - loss: 0.1482 - accuracy: 0.9516 - val_loss: 0.4228 - val_accuracy: 0.8421\n",
            "Epoch 18/100\n",
            "15/15 [==============================] - 0s 6ms/step - loss: 0.1394 - accuracy: 0.9648 - val_loss: 0.4059 - val_accuracy: 0.8509\n",
            "Epoch 19/100\n",
            "15/15 [==============================] - 0s 10ms/step - loss: 0.1475 - accuracy: 0.9538 - val_loss: 0.3876 - val_accuracy: 0.8684\n",
            "Epoch 20/100\n",
            "15/15 [==============================] - 0s 9ms/step - loss: 0.1305 - accuracy: 0.9516 - val_loss: 0.3697 - val_accuracy: 0.8772\n",
            "Epoch 21/100\n",
            "15/15 [==============================] - 0s 8ms/step - loss: 0.1082 - accuracy: 0.9692 - val_loss: 0.3531 - val_accuracy: 0.9035\n",
            "Epoch 22/100\n",
            "15/15 [==============================] - 0s 7ms/step - loss: 0.1130 - accuracy: 0.9692 - val_loss: 0.3330 - val_accuracy: 0.9035\n",
            "Epoch 23/100\n",
            "15/15 [==============================] - 0s 9ms/step - loss: 0.1103 - accuracy: 0.9714 - val_loss: 0.3125 - val_accuracy: 0.9123\n",
            "Epoch 24/100\n",
            "15/15 [==============================] - 0s 16ms/step - loss: 0.1227 - accuracy: 0.9538 - val_loss: 0.2935 - val_accuracy: 0.9211\n",
            "Epoch 25/100\n",
            "15/15 [==============================] - 0s 10ms/step - loss: 0.0951 - accuracy: 0.9692 - val_loss: 0.2752 - val_accuracy: 0.9386\n",
            "Epoch 26/100\n",
            "15/15 [==============================] - 0s 10ms/step - loss: 0.1025 - accuracy: 0.9692 - val_loss: 0.2562 - val_accuracy: 0.9649\n",
            "Epoch 27/100\n",
            "15/15 [==============================] - 0s 13ms/step - loss: 0.1124 - accuracy: 0.9538 - val_loss: 0.2376 - val_accuracy: 0.9649\n",
            "Epoch 28/100\n",
            "15/15 [==============================] - 0s 13ms/step - loss: 0.1144 - accuracy: 0.9582 - val_loss: 0.2203 - val_accuracy: 0.9737\n",
            "Epoch 29/100\n",
            "15/15 [==============================] - 0s 12ms/step - loss: 0.1270 - accuracy: 0.9604 - val_loss: 0.2036 - val_accuracy: 0.9737\n",
            "Epoch 30/100\n",
            "15/15 [==============================] - 0s 11ms/step - loss: 0.1185 - accuracy: 0.9604 - val_loss: 0.1899 - val_accuracy: 0.9737\n",
            "Epoch 31/100\n",
            "15/15 [==============================] - 0s 13ms/step - loss: 0.1136 - accuracy: 0.9692 - val_loss: 0.1776 - val_accuracy: 0.9737\n",
            "Epoch 32/100\n",
            "15/15 [==============================] - 0s 14ms/step - loss: 0.0922 - accuracy: 0.9714 - val_loss: 0.1614 - val_accuracy: 0.9737\n",
            "Epoch 33/100\n",
            "15/15 [==============================] - 0s 11ms/step - loss: 0.1054 - accuracy: 0.9714 - val_loss: 0.1501 - val_accuracy: 0.9737\n",
            "Epoch 34/100\n",
            "15/15 [==============================] - 0s 8ms/step - loss: 0.0950 - accuracy: 0.9780 - val_loss: 0.1426 - val_accuracy: 0.9737\n",
            "Epoch 35/100\n",
            "15/15 [==============================] - 0s 8ms/step - loss: 0.1049 - accuracy: 0.9780 - val_loss: 0.1351 - val_accuracy: 0.9737\n",
            "Epoch 36/100\n",
            "15/15 [==============================] - 0s 7ms/step - loss: 0.0872 - accuracy: 0.9736 - val_loss: 0.1295 - val_accuracy: 0.9737\n",
            "Epoch 37/100\n",
            "15/15 [==============================] - 0s 6ms/step - loss: 0.0981 - accuracy: 0.9604 - val_loss: 0.1243 - val_accuracy: 0.9737\n",
            "Epoch 38/100\n",
            "15/15 [==============================] - 0s 6ms/step - loss: 0.0780 - accuracy: 0.9736 - val_loss: 0.1215 - val_accuracy: 0.9737\n",
            "Epoch 39/100\n",
            "15/15 [==============================] - 0s 7ms/step - loss: 0.0807 - accuracy: 0.9714 - val_loss: 0.1174 - val_accuracy: 0.9737\n",
            "Epoch 40/100\n",
            "15/15 [==============================] - 0s 6ms/step - loss: 0.0799 - accuracy: 0.9692 - val_loss: 0.1154 - val_accuracy: 0.9737\n",
            "Epoch 41/100\n",
            "15/15 [==============================] - 0s 5ms/step - loss: 0.0977 - accuracy: 0.9626 - val_loss: 0.1127 - val_accuracy: 0.9737\n",
            "Epoch 42/100\n",
            "15/15 [==============================] - 0s 5ms/step - loss: 0.0816 - accuracy: 0.9648 - val_loss: 0.1107 - val_accuracy: 0.9737\n",
            "Epoch 43/100\n",
            "15/15 [==============================] - 0s 5ms/step - loss: 0.0944 - accuracy: 0.9604 - val_loss: 0.1092 - val_accuracy: 0.9737\n",
            "Epoch 44/100\n",
            "15/15 [==============================] - 0s 5ms/step - loss: 0.0956 - accuracy: 0.9626 - val_loss: 0.1074 - val_accuracy: 0.9737\n",
            "Epoch 45/100\n",
            "15/15 [==============================] - 0s 6ms/step - loss: 0.0728 - accuracy: 0.9802 - val_loss: 0.1074 - val_accuracy: 0.9825\n",
            "Epoch 46/100\n",
            "15/15 [==============================] - 0s 5ms/step - loss: 0.0643 - accuracy: 0.9824 - val_loss: 0.1068 - val_accuracy: 0.9825\n",
            "Epoch 47/100\n",
            "15/15 [==============================] - 0s 5ms/step - loss: 0.0776 - accuracy: 0.9758 - val_loss: 0.1058 - val_accuracy: 0.9825\n",
            "Epoch 48/100\n",
            "15/15 [==============================] - 0s 5ms/step - loss: 0.0851 - accuracy: 0.9736 - val_loss: 0.1059 - val_accuracy: 0.9737\n",
            "Epoch 49/100\n",
            "15/15 [==============================] - 0s 5ms/step - loss: 0.0813 - accuracy: 0.9736 - val_loss: 0.1060 - val_accuracy: 0.9737\n",
            "Epoch 50/100\n",
            "15/15 [==============================] - 0s 5ms/step - loss: 0.0841 - accuracy: 0.9670 - val_loss: 0.1053 - val_accuracy: 0.9825\n",
            "Epoch 51/100\n",
            "15/15 [==============================] - 0s 5ms/step - loss: 0.0934 - accuracy: 0.9670 - val_loss: 0.1051 - val_accuracy: 0.9825\n",
            "Epoch 52/100\n",
            "15/15 [==============================] - 0s 5ms/step - loss: 0.0749 - accuracy: 0.9802 - val_loss: 0.1070 - val_accuracy: 0.9825\n",
            "Epoch 53/100\n",
            "15/15 [==============================] - 0s 5ms/step - loss: 0.0889 - accuracy: 0.9692 - val_loss: 0.1086 - val_accuracy: 0.9737\n",
            "Epoch 54/100\n",
            "15/15 [==============================] - 0s 5ms/step - loss: 0.0716 - accuracy: 0.9780 - val_loss: 0.1094 - val_accuracy: 0.9737\n",
            "Epoch 55/100\n",
            "15/15 [==============================] - 0s 5ms/step - loss: 0.0847 - accuracy: 0.9626 - val_loss: 0.1096 - val_accuracy: 0.9737\n",
            "Epoch 56/100\n",
            "15/15 [==============================] - 0s 5ms/step - loss: 0.0839 - accuracy: 0.9648 - val_loss: 0.1107 - val_accuracy: 0.9737\n",
            "Epoch 57/100\n",
            "15/15 [==============================] - 0s 6ms/step - loss: 0.0616 - accuracy: 0.9736 - val_loss: 0.1127 - val_accuracy: 0.9737\n",
            "Epoch 58/100\n",
            "15/15 [==============================] - 0s 6ms/step - loss: 0.0693 - accuracy: 0.9780 - val_loss: 0.1135 - val_accuracy: 0.9737\n",
            "Epoch 59/100\n",
            "15/15 [==============================] - 0s 6ms/step - loss: 0.0729 - accuracy: 0.9692 - val_loss: 0.1136 - val_accuracy: 0.9737\n",
            "Epoch 60/100\n",
            "15/15 [==============================] - 0s 6ms/step - loss: 0.0758 - accuracy: 0.9758 - val_loss: 0.1152 - val_accuracy: 0.9737\n",
            "Epoch 61/100\n",
            "15/15 [==============================] - 0s 7ms/step - loss: 0.0668 - accuracy: 0.9780 - val_loss: 0.1167 - val_accuracy: 0.9737\n",
            "Epoch 62/100\n",
            "15/15 [==============================] - 0s 7ms/step - loss: 0.0898 - accuracy: 0.9670 - val_loss: 0.1165 - val_accuracy: 0.9737\n",
            "Epoch 63/100\n",
            "15/15 [==============================] - 0s 8ms/step - loss: 0.0813 - accuracy: 0.9692 - val_loss: 0.1171 - val_accuracy: 0.9649\n",
            "Epoch 64/100\n",
            "15/15 [==============================] - 0s 8ms/step - loss: 0.0842 - accuracy: 0.9670 - val_loss: 0.1201 - val_accuracy: 0.9561\n",
            "Epoch 65/100\n",
            "15/15 [==============================] - 0s 8ms/step - loss: 0.0684 - accuracy: 0.9758 - val_loss: 0.1212 - val_accuracy: 0.9561\n",
            "Epoch 66/100\n",
            "15/15 [==============================] - 0s 8ms/step - loss: 0.0746 - accuracy: 0.9758 - val_loss: 0.1217 - val_accuracy: 0.9649\n",
            "Epoch 67/100\n",
            "15/15 [==============================] - 0s 8ms/step - loss: 0.0562 - accuracy: 0.9868 - val_loss: 0.1234 - val_accuracy: 0.9649\n",
            "Epoch 68/100\n",
            "15/15 [==============================] - 0s 10ms/step - loss: 0.0769 - accuracy: 0.9736 - val_loss: 0.1252 - val_accuracy: 0.9649\n",
            "Epoch 69/100\n",
            "15/15 [==============================] - 0s 10ms/step - loss: 0.0852 - accuracy: 0.9648 - val_loss: 0.1259 - val_accuracy: 0.9561\n",
            "Epoch 70/100\n",
            "15/15 [==============================] - 0s 14ms/step - loss: 0.0536 - accuracy: 0.9868 - val_loss: 0.1252 - val_accuracy: 0.9649\n",
            "Epoch 71/100\n",
            "15/15 [==============================] - 0s 11ms/step - loss: 0.0760 - accuracy: 0.9736 - val_loss: 0.1276 - val_accuracy: 0.9649\n",
            "Epoch 72/100\n",
            "15/15 [==============================] - 0s 8ms/step - loss: 0.0646 - accuracy: 0.9736 - val_loss: 0.1269 - val_accuracy: 0.9649\n",
            "Epoch 73/100\n",
            "15/15 [==============================] - 0s 11ms/step - loss: 0.0551 - accuracy: 0.9758 - val_loss: 0.1261 - val_accuracy: 0.9649\n",
            "Epoch 74/100\n",
            "15/15 [==============================] - 0s 10ms/step - loss: 0.0692 - accuracy: 0.9758 - val_loss: 0.1262 - val_accuracy: 0.9649\n",
            "Epoch 75/100\n",
            "15/15 [==============================] - 0s 9ms/step - loss: 0.0667 - accuracy: 0.9692 - val_loss: 0.1263 - val_accuracy: 0.9737\n",
            "Epoch 76/100\n",
            "15/15 [==============================] - 0s 7ms/step - loss: 0.0823 - accuracy: 0.9626 - val_loss: 0.1275 - val_accuracy: 0.9649\n",
            "Epoch 76: early stopping\n"
          ]
        }
      ],
      "source": [
        "#COMPILING THE ANN USING STOCHASTIC GRADIENT DESCENT (optimizer = 'adam')\n",
        "ann.compile(optimizer = 'adam', loss = 'binary_crossentropy', metrics = ['accuracy'])\n",
        "\n",
        "#setting callbacks for monitoring maximum accuracy\n",
        "from tensorflow.keras.callbacks import EarlyStopping\n",
        "early_stop = EarlyStopping(monitor='val_loss', mode='min', verbose=1, patience=25)\n",
        "\n",
        "#TRAINING THE ANN WITH BATCH SIZE OF 32 (THIS IS A BATCH LEARNING)\n",
        "model=ann.fit(xtrain, ytrain,batch_size = 32, validation_data=(xtest, ytest),epochs =100,callbacks = [early_stop])"
      ]
    },
    {
      "cell_type": "code",
      "execution_count": null,
      "metadata": {
        "scrolled": true,
        "id": "3UqM5wP4nxnK",
        "outputId": "47eddeb4-74f3-433c-a75a-5789c00859cc"
      },
      "outputs": [
        {
          "name": "stdout",
          "output_type": "stream",
          "text": [
            "Model: \"sequential_3\"\n",
            "_________________________________________________________________\n",
            " Layer (type)                Output Shape              Param #   \n",
            "=================================================================\n",
            " dense_6 (Dense)             (None, 30)                720       \n",
            "                                                                 \n",
            " batch_normalization_3 (Batc  (None, 30)               120       \n",
            " hNormalization)                                                 \n",
            "                                                                 \n",
            " dropout_3 (Dropout)         (None, 30)                0         \n",
            "                                                                 \n",
            " dense_7 (Dense)             (None, 1)                 31        \n",
            "                                                                 \n",
            "=================================================================\n",
            "Total params: 871\n",
            "Trainable params: 811\n",
            "Non-trainable params: 60\n",
            "_________________________________________________________________\n"
          ]
        }
      ],
      "source": [
        "#taking summary of layers\n",
        "ann.summary()"
      ]
    },
    {
      "cell_type": "code",
      "execution_count": null,
      "metadata": {
        "id": "W2yAjcWAnxnL",
        "outputId": "b1190a43-2ea0-48c5-ee5e-19a3c5413143"
      },
      "outputs": [
        {
          "data": {
            "text/plain": [
              "<AxesSubplot:>"
            ]
          },
          "execution_count": 49,
          "metadata": {},
          "output_type": "execute_result"
        },
        {
          "data": {
            "image/png": "[encoded data removed]",
            "text/plain": [
              "<Figure size 432x288 with 1 Axes>"
            ]
          },
          "metadata": {
            "needs_background": "light"
          },
          "output_type": "display_data"
        }
      ],
      "source": [
        "losses = pd.DataFrame(ann.history.history)\n",
        "losses.plot()"
      ]
    },
    {
      "cell_type": "code",
      "execution_count": null,
      "metadata": {
        "id": "xxUHABDwnxnL",
        "outputId": "6c8453e3-d6d0-4223-bf3e-221fb77131ed"
      },
      "outputs": [
        {
          "name": "stdout",
          "output_type": "stream",
          "text": [
            "4/4 [==============================] - 0s 4ms/step\n"
          ]
        }
      ],
      "source": [
        "#now testing for Test data\n",
        "y_pred = ann.predict(xtest)\n",
        "#converting values\n",
        "y_pred = (y_pred>0.5)"
      ]
    },
    {
      "cell_type": "code",
      "execution_count": null,
      "metadata": {
        "id": "491q677wnxnM",
        "outputId": "e1d8439b-e92e-4375-dfae-c92b35fca526"
      },
      "outputs": [
        {
          "name": "stdout",
          "output_type": "stream",
          "text": [
            "[[73  2]\n",
            " [ 2 37]]\n",
            "score is: 0.9649122807017544\n"
          ]
        }
      ],
      "source": [
        "from sklearn.metrics import confusion_matrix\n",
        "from sklearn.metrics import accuracy_score\n",
        "cm = confusion_matrix(ytest,y_pred)\n",
        "score4 = accuracy_score(ytest,y_pred)\n",
        "print(cm)\n",
        "print('score is:',score4)"
      ]
    },
    {
      "cell_type": "code",
      "execution_count": null,
      "metadata": {
        "id": "9DX5BirjnxnM",
        "outputId": "858ec811-de9f-492c-9de2-0af1e15e1b39"
      },
      "outputs": [
        {
          "name": "stdout",
          "output_type": "stream",
          "text": [
            "              precision    recall  f1-score   support\n",
            "\n",
            "           0       0.97      0.97      0.97        75\n",
            "           1       0.95      0.95      0.95        39\n",
            "\n",
            "    accuracy                           0.96       114\n",
            "   macro avg       0.96      0.96      0.96       114\n",
            "weighted avg       0.96      0.96      0.96       114\n",
            "\n"
          ]
        }
      ],
      "source": [
        "from sklearn.metrics import classification_report,confusion_matrix\n",
        "print(classification_report(ytest,y_pred))"
      ]
    },
    {
      "cell_type": "code",
      "execution_count": null,
      "metadata": {
        "id": "1Rh1pgAxnxnO",
        "outputId": "8428a3a5-838d-4f19-e60e-8352e47572c6"
      },
      "outputs": [
        {
          "data": {
            "image/png": "[encoded data removed]",
            "text/plain": [
              "<Figure size 1008x504 with 2 Axes>"
            ]
          },
          "metadata": {
            "needs_background": "light"
          },
          "output_type": "display_data"
        }
      ],
      "source": [
        "# creating heatmap of comfussion matrix\n",
        "plt.figure(figsize=[14,7])\n",
        "sns.heatmap(cm,annot=True)\n",
        "plt.show()"
      ]
    },
    {
      "cell_type": "code",
      "execution_count": null,
      "metadata": {
        "id": "m4weQJ-4nxnO"
      },
      "outputs": [],
      "source": []
    },
    {
      "cell_type": "code",
      "execution_count": null,
      "metadata": {
        "id": "3ifap8E6nxnO"
      },
      "outputs": [],
      "source": []
    },
    {
      "cell_type": "markdown",
      "metadata": {
        "id": "lbxHHKPanxnP"
      },
      "source": [
        "# 5.SOFTSIGN"
      ]
    },
    {
      "cell_type": "code",
      "execution_count": null,
      "metadata": {
        "id": "CuGPAGRsnxnP"
      },
      "outputs": [],
      "source": [
        "from tensorflow.keras.layers import BatchNormalization\n",
        "#CREATING THE ANN AS SEQUENCE OF LAYERS\n",
        "ann =Sequential()\n",
        "\n",
        "#ADDING FIRST HIDDEN LAYER WITH 30 NEURONS, THE INPUT LAYER WILL BE ADDED AUTOMATICALLY,\n",
        "ann.add(Dense(units = 30,activation = 'softsign'))\n",
        "ann.add(BatchNormalization())\n",
        "ann.add(Dropout(0.5))\n",
        "\n",
        "\n",
        "\n",
        "#ADDING OUTPUT LAYER WITH 1 NEURON , AS THIS IS A BINARY CLASSIFICATION\n",
        "ann.add(Dense(units = 1,activation = 'sigmoid'))"
      ]
    },
    {
      "cell_type": "code",
      "execution_count": null,
      "metadata": {
        "id": "OyrJ02FknxnP",
        "outputId": "6ecfbc49-8d85-4001-f9fd-f872e488af98"
      },
      "outputs": [
        {
          "name": "stdout",
          "output_type": "stream",
          "text": [
            "Epoch 1/100\n",
            "15/15 [==============================] - 3s 19ms/step - loss: 0.7492 - accuracy: 0.6505 - val_loss: 0.4989 - val_accuracy: 0.8246\n",
            "Epoch 2/100\n",
            "15/15 [==============================] - 0s 5ms/step - loss: 0.5432 - accuracy: 0.7714 - val_loss: 0.4033 - val_accuracy: 0.8947\n",
            "Epoch 3/100\n",
            "15/15 [==============================] - 0s 6ms/step - loss: 0.4487 - accuracy: 0.7890 - val_loss: 0.3393 - val_accuracy: 0.9123\n",
            "Epoch 4/100\n",
            "15/15 [==============================] - 0s 5ms/step - loss: 0.4033 - accuracy: 0.8220 - val_loss: 0.3009 - val_accuracy: 0.9211\n",
            "Epoch 5/100\n",
            "15/15 [==============================] - 0s 5ms/step - loss: 0.3017 - accuracy: 0.8769 - val_loss: 0.2695 - val_accuracy: 0.9298\n",
            "Epoch 6/100\n",
            "15/15 [==============================] - 0s 5ms/step - loss: 0.2698 - accuracy: 0.8879 - val_loss: 0.2424 - val_accuracy: 0.9298\n",
            "Epoch 7/100\n",
            "15/15 [==============================] - 0s 5ms/step - loss: 0.2574 - accuracy: 0.8901 - val_loss: 0.2213 - val_accuracy: 0.9298\n",
            "Epoch 8/100\n",
            "15/15 [==============================] - 0s 5ms/step - loss: 0.2142 - accuracy: 0.9231 - val_loss: 0.2027 - val_accuracy: 0.9386\n",
            "Epoch 9/100\n",
            "15/15 [==============================] - 0s 5ms/step - loss: 0.2457 - accuracy: 0.9055 - val_loss: 0.1861 - val_accuracy: 0.9474\n",
            "Epoch 10/100\n",
            "15/15 [==============================] - 0s 5ms/step - loss: 0.2116 - accuracy: 0.9055 - val_loss: 0.1745 - val_accuracy: 0.9474\n",
            "Epoch 11/100\n",
            "15/15 [==============================] - 0s 5ms/step - loss: 0.2060 - accuracy: 0.9297 - val_loss: 0.1672 - val_accuracy: 0.9474\n",
            "Epoch 12/100\n",
            "15/15 [==============================] - 0s 5ms/step - loss: 0.1882 - accuracy: 0.9319 - val_loss: 0.1574 - val_accuracy: 0.9474\n",
            "Epoch 13/100\n",
            "15/15 [==============================] - 0s 5ms/step - loss: 0.1640 - accuracy: 0.9385 - val_loss: 0.1488 - val_accuracy: 0.9561\n",
            "Epoch 14/100\n",
            "15/15 [==============================] - 0s 5ms/step - loss: 0.1768 - accuracy: 0.9495 - val_loss: 0.1429 - val_accuracy: 0.9561\n",
            "Epoch 15/100\n",
            "15/15 [==============================] - 0s 5ms/step - loss: 0.1465 - accuracy: 0.9429 - val_loss: 0.1380 - val_accuracy: 0.9649\n",
            "Epoch 16/100\n",
            "15/15 [==============================] - 0s 5ms/step - loss: 0.1801 - accuracy: 0.9319 - val_loss: 0.1334 - val_accuracy: 0.9649\n",
            "Epoch 17/100\n",
            "15/15 [==============================] - 0s 5ms/step - loss: 0.1552 - accuracy: 0.9341 - val_loss: 0.1290 - val_accuracy: 0.9649\n",
            "Epoch 18/100\n",
            "15/15 [==============================] - 0s 5ms/step - loss: 0.1373 - accuracy: 0.9495 - val_loss: 0.1254 - val_accuracy: 0.9649\n",
            "Epoch 19/100\n",
            "15/15 [==============================] - 0s 5ms/step - loss: 0.1224 - accuracy: 0.9626 - val_loss: 0.1225 - val_accuracy: 0.9649\n",
            "Epoch 20/100\n",
            "15/15 [==============================] - 0s 5ms/step - loss: 0.1184 - accuracy: 0.9560 - val_loss: 0.1210 - val_accuracy: 0.9474\n",
            "Epoch 21/100\n",
            "15/15 [==============================] - 0s 5ms/step - loss: 0.1237 - accuracy: 0.9495 - val_loss: 0.1173 - val_accuracy: 0.9561\n",
            "Epoch 22/100\n",
            "15/15 [==============================] - 0s 5ms/step - loss: 0.1261 - accuracy: 0.9429 - val_loss: 0.1147 - val_accuracy: 0.9649\n",
            "Epoch 23/100\n",
            "15/15 [==============================] - 0s 5ms/step - loss: 0.1203 - accuracy: 0.9516 - val_loss: 0.1158 - val_accuracy: 0.9649\n",
            "Epoch 24/100\n",
            "15/15 [==============================] - 0s 6ms/step - loss: 0.1184 - accuracy: 0.9626 - val_loss: 0.1138 - val_accuracy: 0.9561\n",
            "Epoch 25/100\n",
            "15/15 [==============================] - 0s 5ms/step - loss: 0.1487 - accuracy: 0.9582 - val_loss: 0.1126 - val_accuracy: 0.9474\n",
            "Epoch 26/100\n",
            "15/15 [==============================] - 0s 5ms/step - loss: 0.1046 - accuracy: 0.9582 - val_loss: 0.1116 - val_accuracy: 0.9474\n",
            "Epoch 27/100\n",
            "15/15 [==============================] - 0s 5ms/step - loss: 0.1174 - accuracy: 0.9626 - val_loss: 0.1105 - val_accuracy: 0.9474\n",
            "Epoch 28/100\n",
            "15/15 [==============================] - 0s 5ms/step - loss: 0.1134 - accuracy: 0.9692 - val_loss: 0.1100 - val_accuracy: 0.9474\n",
            "Epoch 29/100\n",
            "15/15 [==============================] - 0s 7ms/step - loss: 0.1218 - accuracy: 0.9516 - val_loss: 0.1108 - val_accuracy: 0.9561\n",
            "Epoch 30/100\n",
            "15/15 [==============================] - 0s 5ms/step - loss: 0.1156 - accuracy: 0.9582 - val_loss: 0.1087 - val_accuracy: 0.9561\n",
            "Epoch 31/100\n",
            "15/15 [==============================] - 0s 6ms/step - loss: 0.0992 - accuracy: 0.9604 - val_loss: 0.1067 - val_accuracy: 0.9561\n",
            "Epoch 32/100\n",
            "15/15 [==============================] - 0s 5ms/step - loss: 0.0899 - accuracy: 0.9670 - val_loss: 0.1060 - val_accuracy: 0.9561\n",
            "Epoch 33/100\n",
            "15/15 [==============================] - 0s 5ms/step - loss: 0.0886 - accuracy: 0.9692 - val_loss: 0.1058 - val_accuracy: 0.9561\n",
            "Epoch 34/100\n",
            "15/15 [==============================] - 0s 5ms/step - loss: 0.0813 - accuracy: 0.9714 - val_loss: 0.1060 - val_accuracy: 0.9561\n",
            "Epoch 35/100\n",
            "15/15 [==============================] - 0s 7ms/step - loss: 0.0959 - accuracy: 0.9692 - val_loss: 0.1064 - val_accuracy: 0.9561\n",
            "Epoch 36/100\n",
            "15/15 [==============================] - 0s 9ms/step - loss: 0.0806 - accuracy: 0.9802 - val_loss: 0.1072 - val_accuracy: 0.9561\n",
            "Epoch 37/100\n",
            "15/15 [==============================] - 0s 8ms/step - loss: 0.0787 - accuracy: 0.9736 - val_loss: 0.1049 - val_accuracy: 0.9561\n",
            "Epoch 38/100\n",
            "15/15 [==============================] - 0s 7ms/step - loss: 0.0948 - accuracy: 0.9714 - val_loss: 0.1031 - val_accuracy: 0.9561\n",
            "Epoch 39/100\n",
            "15/15 [==============================] - 0s 9ms/step - loss: 0.0950 - accuracy: 0.9736 - val_loss: 0.1023 - val_accuracy: 0.9561\n",
            "Epoch 40/100\n",
            "15/15 [==============================] - 0s 8ms/step - loss: 0.0987 - accuracy: 0.9714 - val_loss: 0.1029 - val_accuracy: 0.9649\n",
            "Epoch 41/100\n",
            "15/15 [==============================] - 0s 8ms/step - loss: 0.0896 - accuracy: 0.9802 - val_loss: 0.1063 - val_accuracy: 0.9649\n",
            "Epoch 42/100\n",
            "15/15 [==============================] - 0s 6ms/step - loss: 0.1016 - accuracy: 0.9692 - val_loss: 0.1060 - val_accuracy: 0.9561\n",
            "Epoch 43/100\n",
            "15/15 [==============================] - 0s 8ms/step - loss: 0.0907 - accuracy: 0.9648 - val_loss: 0.1058 - val_accuracy: 0.9561\n",
            "Epoch 44/100\n",
            "15/15 [==============================] - 0s 8ms/step - loss: 0.1188 - accuracy: 0.9604 - val_loss: 0.1074 - val_accuracy: 0.9649\n",
            "Epoch 45/100\n",
            "15/15 [==============================] - 0s 6ms/step - loss: 0.0709 - accuracy: 0.9714 - val_loss: 0.1070 - val_accuracy: 0.9649\n",
            "Epoch 46/100\n",
            "15/15 [==============================] - 0s 6ms/step - loss: 0.0637 - accuracy: 0.9780 - val_loss: 0.1056 - val_accuracy: 0.9649\n",
            "Epoch 47/100\n",
            "15/15 [==============================] - 0s 6ms/step - loss: 0.0701 - accuracy: 0.9780 - val_loss: 0.1058 - val_accuracy: 0.9649\n",
            "Epoch 48/100\n",
            "15/15 [==============================] - 0s 5ms/step - loss: 0.0783 - accuracy: 0.9648 - val_loss: 0.1054 - val_accuracy: 0.9561\n",
            "Epoch 49/100\n",
            "15/15 [==============================] - 0s 6ms/step - loss: 0.0778 - accuracy: 0.9736 - val_loss: 0.1070 - val_accuracy: 0.9561\n",
            "Epoch 50/100\n",
            "15/15 [==============================] - 0s 6ms/step - loss: 0.0769 - accuracy: 0.9736 - val_loss: 0.1061 - val_accuracy: 0.9561\n",
            "Epoch 51/100\n",
            "15/15 [==============================] - 0s 5ms/step - loss: 0.0870 - accuracy: 0.9626 - val_loss: 0.1081 - val_accuracy: 0.9474\n",
            "Epoch 52/100\n",
            "15/15 [==============================] - 0s 5ms/step - loss: 0.0786 - accuracy: 0.9714 - val_loss: 0.1070 - val_accuracy: 0.9561\n",
            "Epoch 53/100\n",
            "15/15 [==============================] - 0s 5ms/step - loss: 0.0804 - accuracy: 0.9714 - val_loss: 0.1071 - val_accuracy: 0.9561\n",
            "Epoch 54/100\n",
            "15/15 [==============================] - 0s 5ms/step - loss: 0.0705 - accuracy: 0.9802 - val_loss: 0.1077 - val_accuracy: 0.9561\n",
            "Epoch 55/100\n",
            "15/15 [==============================] - 0s 5ms/step - loss: 0.0753 - accuracy: 0.9648 - val_loss: 0.1086 - val_accuracy: 0.9561\n",
            "Epoch 56/100\n",
            "15/15 [==============================] - 0s 5ms/step - loss: 0.0897 - accuracy: 0.9714 - val_loss: 0.1092 - val_accuracy: 0.9561\n",
            "Epoch 57/100\n",
            "15/15 [==============================] - 0s 5ms/step - loss: 0.0766 - accuracy: 0.9780 - val_loss: 0.1101 - val_accuracy: 0.9737\n",
            "Epoch 58/100\n",
            "15/15 [==============================] - 0s 5ms/step - loss: 0.0828 - accuracy: 0.9736 - val_loss: 0.1143 - val_accuracy: 0.9561\n",
            "Epoch 59/100\n",
            "15/15 [==============================] - 0s 5ms/step - loss: 0.0690 - accuracy: 0.9780 - val_loss: 0.1133 - val_accuracy: 0.9737\n",
            "Epoch 60/100\n",
            "15/15 [==============================] - 0s 5ms/step - loss: 0.0892 - accuracy: 0.9670 - val_loss: 0.1130 - val_accuracy: 0.9649\n",
            "Epoch 61/100\n",
            "15/15 [==============================] - 0s 5ms/step - loss: 0.0879 - accuracy: 0.9736 - val_loss: 0.1111 - val_accuracy: 0.9737\n",
            "Epoch 62/100\n",
            "15/15 [==============================] - 0s 5ms/step - loss: 0.0956 - accuracy: 0.9714 - val_loss: 0.1068 - val_accuracy: 0.9561\n",
            "Epoch 63/100\n",
            "15/15 [==============================] - 0s 5ms/step - loss: 0.0693 - accuracy: 0.9736 - val_loss: 0.1059 - val_accuracy: 0.9561\n",
            "Epoch 64/100\n",
            "15/15 [==============================] - 0s 5ms/step - loss: 0.0676 - accuracy: 0.9692 - val_loss: 0.1050 - val_accuracy: 0.9561\n",
            "Epoch 64: early stopping\n"
          ]
        }
      ],
      "source": [
        "#COMPILING THE ANN USING STOCHASTIC GRADIENT DESCENT (optimizer = 'adam')\n",
        "ann.compile(optimizer = 'adam', loss = 'binary_crossentropy', metrics = ['accuracy'])\n",
        "\n",
        "#setting callbacks for monitoring maximum accuracy\n",
        "from tensorflow.keras.callbacks import EarlyStopping\n",
        "early_stop = EarlyStopping(monitor='val_loss', mode='min', verbose=1, patience=25)\n",
        "\n",
        "#TRAINING THE ANN WITH BATCH SIZE OF 32 (THIS IS A BATCH LEARNING)\n",
        "model=ann.fit(xtrain, ytrain,batch_size = 32, validation_data=(xtest, ytest),epochs =100,callbacks = [early_stop])"
      ]
    },
    {
      "cell_type": "code",
      "execution_count": null,
      "metadata": {
        "id": "zWEuPFCtnxnQ",
        "outputId": "a6c4199f-f855-41e3-8fd8-89f2d6843bda"
      },
      "outputs": [
        {
          "name": "stdout",
          "output_type": "stream",
          "text": [
            "Model: \"sequential_4\"\n",
            "_________________________________________________________________\n",
            " Layer (type)                Output Shape              Param #   \n",
            "=================================================================\n",
            " dense_8 (Dense)             (None, 30)                720       \n",
            "                                                                 \n",
            " batch_normalization_4 (Batc  (None, 30)               120       \n",
            " hNormalization)                                                 \n",
            "                                                                 \n",
            " dropout_4 (Dropout)         (None, 30)                0         \n",
            "                                                                 \n",
            " dense_9 (Dense)             (None, 1)                 31        \n",
            "                                                                 \n",
            "=================================================================\n",
            "Total params: 871\n",
            "Trainable params: 811\n",
            "Non-trainable params: 60\n",
            "_________________________________________________________________\n"
          ]
        }
      ],
      "source": [
        "#taking summary of layers\n",
        "ann.summary()"
      ]
    },
    {
      "cell_type": "code",
      "execution_count": null,
      "metadata": {
        "id": "pRXQHgAfnxnQ",
        "outputId": "c04337f0-ac23-49ba-959a-572b0c23a70f"
      },
      "outputs": [
        {
          "data": {
            "text/plain": [
              "<AxesSubplot:>"
            ]
          },
          "execution_count": 57,
          "metadata": {},
          "output_type": "execute_result"
        },
        {
          "data": {
            "image/png": "[encoded data removed]",
            "text/plain": [
              "<Figure size 432x288 with 1 Axes>"
            ]
          },
          "metadata": {
            "needs_background": "light"
          },
          "output_type": "display_data"
        }
      ],
      "source": [
        "losses = pd.DataFrame(ann.history.history)\n",
        "losses.plot()"
      ]
    },
    {
      "cell_type": "code",
      "execution_count": null,
      "metadata": {
        "id": "yyIktZttnxnR",
        "outputId": "7a94a002-5947-489f-b91d-06ba02a89b15"
      },
      "outputs": [
        {
          "name": "stdout",
          "output_type": "stream",
          "text": [
            "4/4 [==============================] - 0s 2ms/step\n"
          ]
        }
      ],
      "source": [
        "#now testing for Test data\n",
        "y_pred = ann.predict(xtest)\n",
        "#converting values\n",
        "y_pred = (y_pred>0.5)"
      ]
    },
    {
      "cell_type": "code",
      "execution_count": null,
      "metadata": {
        "id": "tVeGVFHRnxnR",
        "outputId": "0fabc837-ea1e-4b0c-adc4-cf6ff55a4f49"
      },
      "outputs": [
        {
          "name": "stdout",
          "output_type": "stream",
          "text": [
            "[[72  3]\n",
            " [ 2 37]]\n",
            "score is: 0.956140350877193\n"
          ]
        }
      ],
      "source": [
        "from sklearn.metrics import confusion_matrix\n",
        "from sklearn.metrics import accuracy_score\n",
        "cm = confusion_matrix(ytest,y_pred)\n",
        "score5 = accuracy_score(ytest,y_pred)\n",
        "print(cm)\n",
        "print('score is:',score5)"
      ]
    },
    {
      "cell_type": "code",
      "execution_count": null,
      "metadata": {
        "id": "wL2oVOXRnxnS",
        "outputId": "4b0dfa30-5a70-45f7-a2e5-b626fdbe558e"
      },
      "outputs": [
        {
          "name": "stdout",
          "output_type": "stream",
          "text": [
            "              precision    recall  f1-score   support\n",
            "\n",
            "           0       0.97      0.96      0.97        75\n",
            "           1       0.93      0.95      0.94        39\n",
            "\n",
            "    accuracy                           0.96       114\n",
            "   macro avg       0.95      0.95      0.95       114\n",
            "weighted avg       0.96      0.96      0.96       114\n",
            "\n"
          ]
        }
      ],
      "source": [
        "from sklearn.metrics import classification_report,confusion_matrix\n",
        "print(classification_report(ytest,y_pred))"
      ]
    },
    {
      "cell_type": "code",
      "execution_count": null,
      "metadata": {
        "id": "idgMtqOZnxnS",
        "outputId": "211b0556-d947-483f-c5ce-d771ba815623"
      },
      "outputs": [
        {
          "data": {
            "image/png": "[encoded data removed]",
            "text/plain": [
              "<Figure size 1008x504 with 2 Axes>"
            ]
          },
          "metadata": {
            "needs_background": "light"
          },
          "output_type": "display_data"
        }
      ],
      "source": [
        "# creating heatmap of comfussion matrix\n",
        "plt.figure(figsize=[14,7])\n",
        "sns.heatmap(cm,annot=True)\n",
        "plt.show()"
      ]
    },
    {
      "cell_type": "code",
      "execution_count": null,
      "metadata": {
        "id": "zrRxNqY8nxnT"
      },
      "outputs": [],
      "source": []
    },
    {
      "cell_type": "code",
      "execution_count": null,
      "metadata": {
        "id": "cuY11C5GnxnT"
      },
      "outputs": [],
      "source": []
    },
    {
      "cell_type": "markdown",
      "metadata": {
        "id": "YWvIxQaGnxnU"
      },
      "source": [
        "# 6.SWISH\n"
      ]
    },
    {
      "cell_type": "code",
      "execution_count": null,
      "metadata": {
        "id": "-SisLWHCnxnU"
      },
      "outputs": [],
      "source": [
        "from tensorflow.keras.layers import BatchNormalization\n",
        "#CREATING THE ANN AS SEQUENCE OF LAYERS\n",
        "ann =Sequential()\n",
        "\n",
        "#ADDING FIRST HIDDEN LAYER WITH 30 NEURONS, THE INPUT LAYER WILL BE ADDED AUTOMATICALLY,\n",
        "ann.add(Dense(units = 30,activation = 'swish'))\n",
        "ann.add(BatchNormalization())\n",
        "ann.add(Dropout(0.5))\n",
        "\n",
        "\n",
        "\n",
        "#ADDING OUTPUT LAYER WITH 1 NEURON , AS THIS IS A BINARY CLASSIFICATION\n",
        "ann.add(Dense(units = 1,activation = 'sigmoid'))"
      ]
    },
    {
      "cell_type": "code",
      "execution_count": null,
      "metadata": {
        "id": "Z2qQN-vYnxnU",
        "outputId": "d9ec8e74-dc0a-4d50-b870-bbc851b99eb2"
      },
      "outputs": [
        {
          "name": "stdout",
          "output_type": "stream",
          "text": [
            "Epoch 1/100\n",
            "15/15 [==============================] - 1s 17ms/step - loss: 1.2964 - accuracy: 0.3802 - val_loss: 0.7173 - val_accuracy: 0.5175\n",
            "Epoch 2/100\n",
            "15/15 [==============================] - 0s 4ms/step - loss: 0.8707 - accuracy: 0.5582 - val_loss: 0.5243 - val_accuracy: 0.8333\n",
            "Epoch 3/100\n",
            "15/15 [==============================] - 0s 4ms/step - loss: 0.5791 - accuracy: 0.7363 - val_loss: 0.4142 - val_accuracy: 0.9123\n",
            "Epoch 4/100\n",
            "15/15 [==============================] - 0s 5ms/step - loss: 0.4237 - accuracy: 0.7934 - val_loss: 0.3436 - val_accuracy: 0.9298\n",
            "Epoch 5/100\n",
            "15/15 [==============================] - 0s 5ms/step - loss: 0.4083 - accuracy: 0.8374 - val_loss: 0.2984 - val_accuracy: 0.9474\n",
            "Epoch 6/100\n",
            "15/15 [==============================] - 0s 5ms/step - loss: 0.3714 - accuracy: 0.8286 - val_loss: 0.2643 - val_accuracy: 0.9561\n",
            "Epoch 7/100\n",
            "15/15 [==============================] - 0s 5ms/step - loss: 0.2708 - accuracy: 0.8989 - val_loss: 0.2407 - val_accuracy: 0.9561\n",
            "Epoch 8/100\n",
            "15/15 [==============================] - 0s 5ms/step - loss: 0.2680 - accuracy: 0.8879 - val_loss: 0.2164 - val_accuracy: 0.9561\n",
            "Epoch 9/100\n",
            "15/15 [==============================] - 0s 5ms/step - loss: 0.2292 - accuracy: 0.9121 - val_loss: 0.1969 - val_accuracy: 0.9561\n",
            "Epoch 10/100\n",
            "15/15 [==============================] - 0s 5ms/step - loss: 0.2251 - accuracy: 0.9143 - val_loss: 0.1815 - val_accuracy: 0.9561\n",
            "Epoch 11/100\n",
            "15/15 [==============================] - 0s 5ms/step - loss: 0.2342 - accuracy: 0.9033 - val_loss: 0.1700 - val_accuracy: 0.9649\n",
            "Epoch 12/100\n",
            "15/15 [==============================] - 0s 9ms/step - loss: 0.2159 - accuracy: 0.9209 - val_loss: 0.1597 - val_accuracy: 0.9649\n",
            "Epoch 13/100\n",
            "15/15 [==============================] - 0s 9ms/step - loss: 0.2593 - accuracy: 0.8989 - val_loss: 0.1517 - val_accuracy: 0.9649\n",
            "Epoch 14/100\n",
            "15/15 [==============================] - 0s 6ms/step - loss: 0.1696 - accuracy: 0.9429 - val_loss: 0.1434 - val_accuracy: 0.9737\n",
            "Epoch 15/100\n",
            "15/15 [==============================] - 0s 6ms/step - loss: 0.1650 - accuracy: 0.9451 - val_loss: 0.1343 - val_accuracy: 0.9737\n",
            "Epoch 16/100\n",
            "15/15 [==============================] - 0s 6ms/step - loss: 0.1853 - accuracy: 0.9209 - val_loss: 0.1256 - val_accuracy: 0.9737\n",
            "Epoch 17/100\n",
            "15/15 [==============================] - 0s 6ms/step - loss: 0.1543 - accuracy: 0.9363 - val_loss: 0.1184 - val_accuracy: 0.9737\n",
            "Epoch 18/100\n",
            "15/15 [==============================] - 0s 6ms/step - loss: 0.1906 - accuracy: 0.9209 - val_loss: 0.1150 - val_accuracy: 0.9737\n",
            "Epoch 19/100\n",
            "15/15 [==============================] - 0s 6ms/step - loss: 0.1615 - accuracy: 0.9363 - val_loss: 0.1124 - val_accuracy: 0.9737\n",
            "Epoch 20/100\n",
            "15/15 [==============================] - 0s 6ms/step - loss: 0.1753 - accuracy: 0.9429 - val_loss: 0.1131 - val_accuracy: 0.9737\n",
            "Epoch 21/100\n",
            "15/15 [==============================] - 0s 5ms/step - loss: 0.1495 - accuracy: 0.9429 - val_loss: 0.1132 - val_accuracy: 0.9737\n",
            "Epoch 22/100\n",
            "15/15 [==============================] - 0s 5ms/step - loss: 0.1434 - accuracy: 0.9473 - val_loss: 0.1109 - val_accuracy: 0.9737\n",
            "Epoch 23/100\n",
            "15/15 [==============================] - 0s 8ms/step - loss: 0.1382 - accuracy: 0.9495 - val_loss: 0.1104 - val_accuracy: 0.9737\n",
            "Epoch 24/100\n",
            "15/15 [==============================] - 0s 9ms/step - loss: 0.1353 - accuracy: 0.9538 - val_loss: 0.1091 - val_accuracy: 0.9825\n",
            "Epoch 25/100\n",
            "15/15 [==============================] - 0s 8ms/step - loss: 0.1681 - accuracy: 0.9341 - val_loss: 0.1078 - val_accuracy: 0.9737\n",
            "Epoch 26/100\n",
            "15/15 [==============================] - 0s 7ms/step - loss: 0.1359 - accuracy: 0.9407 - val_loss: 0.1057 - val_accuracy: 0.9825\n",
            "Epoch 27/100\n",
            "15/15 [==============================] - 0s 6ms/step - loss: 0.1741 - accuracy: 0.9363 - val_loss: 0.1072 - val_accuracy: 0.9737\n",
            "Epoch 28/100\n",
            "15/15 [==============================] - 0s 7ms/step - loss: 0.1451 - accuracy: 0.9385 - val_loss: 0.1045 - val_accuracy: 0.9825\n",
            "Epoch 29/100\n",
            "15/15 [==============================] - 0s 7ms/step - loss: 0.1282 - accuracy: 0.9495 - val_loss: 0.1061 - val_accuracy: 0.9825\n",
            "Epoch 30/100\n",
            "15/15 [==============================] - 0s 8ms/step - loss: 0.1139 - accuracy: 0.9648 - val_loss: 0.1057 - val_accuracy: 0.9825\n",
            "Epoch 31/100\n",
            "15/15 [==============================] - 0s 6ms/step - loss: 0.1316 - accuracy: 0.9538 - val_loss: 0.1053 - val_accuracy: 0.9825\n",
            "Epoch 32/100\n",
            "15/15 [==============================] - 0s 5ms/step - loss: 0.1191 - accuracy: 0.9516 - val_loss: 0.1028 - val_accuracy: 0.9825\n",
            "Epoch 33/100\n",
            "15/15 [==============================] - 0s 5ms/step - loss: 0.1107 - accuracy: 0.9670 - val_loss: 0.1022 - val_accuracy: 0.9825\n",
            "Epoch 34/100\n",
            "15/15 [==============================] - 0s 5ms/step - loss: 0.1159 - accuracy: 0.9604 - val_loss: 0.1004 - val_accuracy: 0.9825\n",
            "Epoch 35/100\n",
            "15/15 [==============================] - 0s 6ms/step - loss: 0.1257 - accuracy: 0.9516 - val_loss: 0.1013 - val_accuracy: 0.9825\n",
            "Epoch 36/100\n",
            "15/15 [==============================] - 0s 9ms/step - loss: 0.1265 - accuracy: 0.9407 - val_loss: 0.1038 - val_accuracy: 0.9825\n",
            "Epoch 37/100\n",
            "15/15 [==============================] - 0s 9ms/step - loss: 0.0993 - accuracy: 0.9692 - val_loss: 0.1053 - val_accuracy: 0.9825\n",
            "Epoch 38/100\n",
            "15/15 [==============================] - 0s 7ms/step - loss: 0.1202 - accuracy: 0.9560 - val_loss: 0.1080 - val_accuracy: 0.9825\n",
            "Epoch 39/100\n",
            "15/15 [==============================] - 0s 6ms/step - loss: 0.0998 - accuracy: 0.9604 - val_loss: 0.1064 - val_accuracy: 0.9825\n",
            "Epoch 40/100\n",
            "15/15 [==============================] - 0s 5ms/step - loss: 0.1018 - accuracy: 0.9648 - val_loss: 0.1007 - val_accuracy: 0.9825\n",
            "Epoch 41/100\n",
            "15/15 [==============================] - 0s 5ms/step - loss: 0.1213 - accuracy: 0.9560 - val_loss: 0.0986 - val_accuracy: 0.9825\n",
            "Epoch 42/100\n",
            "15/15 [==============================] - 0s 5ms/step - loss: 0.0860 - accuracy: 0.9626 - val_loss: 0.0962 - val_accuracy: 0.9825\n",
            "Epoch 43/100\n",
            "15/15 [==============================] - 0s 5ms/step - loss: 0.1086 - accuracy: 0.9560 - val_loss: 0.0956 - val_accuracy: 0.9825\n",
            "Epoch 44/100\n",
            "15/15 [==============================] - 0s 5ms/step - loss: 0.0903 - accuracy: 0.9758 - val_loss: 0.0936 - val_accuracy: 0.9825\n",
            "Epoch 45/100\n",
            "15/15 [==============================] - 0s 5ms/step - loss: 0.1036 - accuracy: 0.9648 - val_loss: 0.0904 - val_accuracy: 0.9825\n",
            "Epoch 46/100\n",
            "15/15 [==============================] - 0s 6ms/step - loss: 0.1120 - accuracy: 0.9626 - val_loss: 0.0909 - val_accuracy: 0.9825\n",
            "Epoch 47/100\n",
            "15/15 [==============================] - 0s 8ms/step - loss: 0.0833 - accuracy: 0.9714 - val_loss: 0.0919 - val_accuracy: 0.9825\n",
            "Epoch 48/100\n",
            "15/15 [==============================] - 0s 6ms/step - loss: 0.1049 - accuracy: 0.9670 - val_loss: 0.0919 - val_accuracy: 0.9825\n",
            "Epoch 49/100\n",
            "15/15 [==============================] - 0s 5ms/step - loss: 0.1500 - accuracy: 0.9429 - val_loss: 0.0918 - val_accuracy: 0.9825\n",
            "Epoch 50/100\n",
            "15/15 [==============================] - 0s 5ms/step - loss: 0.1161 - accuracy: 0.9516 - val_loss: 0.0930 - val_accuracy: 0.9825\n",
            "Epoch 51/100\n",
            "15/15 [==============================] - 0s 5ms/step - loss: 0.1204 - accuracy: 0.9538 - val_loss: 0.0920 - val_accuracy: 0.9825\n",
            "Epoch 52/100\n",
            "15/15 [==============================] - 0s 9ms/step - loss: 0.1121 - accuracy: 0.9538 - val_loss: 0.1005 - val_accuracy: 0.9737\n",
            "Epoch 53/100\n",
            "15/15 [==============================] - 0s 8ms/step - loss: 0.1142 - accuracy: 0.9560 - val_loss: 0.0984 - val_accuracy: 0.9825\n",
            "Epoch 54/100\n",
            "15/15 [==============================] - 0s 9ms/step - loss: 0.0935 - accuracy: 0.9692 - val_loss: 0.1003 - val_accuracy: 0.9825\n",
            "Epoch 55/100\n",
            "15/15 [==============================] - 0s 7ms/step - loss: 0.1045 - accuracy: 0.9560 - val_loss: 0.0997 - val_accuracy: 0.9825\n",
            "Epoch 56/100\n",
            "15/15 [==============================] - 0s 6ms/step - loss: 0.0893 - accuracy: 0.9714 - val_loss: 0.0990 - val_accuracy: 0.9825\n",
            "Epoch 57/100\n",
            "15/15 [==============================] - 0s 6ms/step - loss: 0.0965 - accuracy: 0.9582 - val_loss: 0.0964 - val_accuracy: 0.9825\n",
            "Epoch 58/100\n",
            "15/15 [==============================] - 0s 6ms/step - loss: 0.1034 - accuracy: 0.9582 - val_loss: 0.0972 - val_accuracy: 0.9825\n",
            "Epoch 59/100\n",
            "15/15 [==============================] - 0s 5ms/step - loss: 0.0907 - accuracy: 0.9670 - val_loss: 0.0987 - val_accuracy: 0.9825\n",
            "Epoch 60/100\n",
            "15/15 [==============================] - 0s 7ms/step - loss: 0.0857 - accuracy: 0.9736 - val_loss: 0.0997 - val_accuracy: 0.9825\n",
            "Epoch 61/100\n",
            "15/15 [==============================] - 0s 9ms/step - loss: 0.0999 - accuracy: 0.9670 - val_loss: 0.1016 - val_accuracy: 0.9737\n",
            "Epoch 62/100\n",
            "15/15 [==============================] - 0s 7ms/step - loss: 0.0821 - accuracy: 0.9758 - val_loss: 0.0967 - val_accuracy: 0.9825\n",
            "Epoch 63/100\n",
            "15/15 [==============================] - 0s 6ms/step - loss: 0.0993 - accuracy: 0.9626 - val_loss: 0.0948 - val_accuracy: 0.9825\n",
            "Epoch 64/100\n",
            "15/15 [==============================] - 0s 5ms/step - loss: 0.0986 - accuracy: 0.9626 - val_loss: 0.0911 - val_accuracy: 0.9825\n",
            "Epoch 65/100\n",
            "15/15 [==============================] - 0s 5ms/step - loss: 0.0838 - accuracy: 0.9648 - val_loss: 0.0939 - val_accuracy: 0.9825\n",
            "Epoch 66/100\n",
            "15/15 [==============================] - 0s 5ms/step - loss: 0.0981 - accuracy: 0.9626 - val_loss: 0.0969 - val_accuracy: 0.9825\n",
            "Epoch 67/100\n",
            "15/15 [==============================] - 0s 5ms/step - loss: 0.0870 - accuracy: 0.9604 - val_loss: 0.0978 - val_accuracy: 0.9825\n",
            "Epoch 68/100\n",
            "15/15 [==============================] - 0s 5ms/step - loss: 0.0876 - accuracy: 0.9670 - val_loss: 0.0964 - val_accuracy: 0.9825\n",
            "Epoch 69/100\n",
            "15/15 [==============================] - 0s 5ms/step - loss: 0.0909 - accuracy: 0.9604 - val_loss: 0.0972 - val_accuracy: 0.9825\n",
            "Epoch 70/100\n",
            "15/15 [==============================] - 0s 5ms/step - loss: 0.1305 - accuracy: 0.9473 - val_loss: 0.0989 - val_accuracy: 0.9825\n",
            "Epoch 70: early stopping\n"
          ]
        }
      ],
      "source": [
        "#COMPILING THE ANN USING STOCHASTIC GRADIENT DESCENT (optimizer = 'adam')\n",
        "ann.compile(optimizer = 'adam', loss = 'binary_crossentropy', metrics = ['accuracy'])\n",
        "\n",
        "#setting callbacks for monitoring maximum accuracy\n",
        "from tensorflow.keras.callbacks import EarlyStopping\n",
        "early_stop = EarlyStopping(monitor='val_loss', mode='min', verbose=1, patience=25)\n",
        "\n",
        "#TRAINING THE ANN WITH BATCH SIZE OF 32 (THIS IS A BATCH LEARNING)\n",
        "model=ann.fit(xtrain, ytrain,batch_size = 32, validation_data=(xtest, ytest),epochs =100,callbacks = [early_stop])"
      ]
    },
    {
      "cell_type": "code",
      "execution_count": null,
      "metadata": {
        "id": "QC3HG5dSnxnV",
        "outputId": "22db5b51-5f18-4699-c8da-fa65162dbd37"
      },
      "outputs": [
        {
          "name": "stdout",
          "output_type": "stream",
          "text": [
            "Model: \"sequential_5\"\n",
            "_________________________________________________________________\n",
            " Layer (type)                Output Shape              Param #   \n",
            "=================================================================\n",
            " dense_10 (Dense)            (None, 30)                720       \n",
            "                                                                 \n",
            " batch_normalization_5 (Batc  (None, 30)               120       \n",
            " hNormalization)                                                 \n",
            "                                                                 \n",
            " dropout_5 (Dropout)         (None, 30)                0         \n",
            "                                                                 \n",
            " dense_11 (Dense)            (None, 1)                 31        \n",
            "                                                                 \n",
            "=================================================================\n",
            "Total params: 871\n",
            "Trainable params: 811\n",
            "Non-trainable params: 60\n",
            "_________________________________________________________________\n"
          ]
        }
      ],
      "source": [
        "#taking summary of layers\n",
        "ann.summary()"
      ]
    },
    {
      "cell_type": "code",
      "execution_count": null,
      "metadata": {
        "id": "Q8kG62kbnxnV",
        "outputId": "b50f86ec-e88c-474b-9110-9da4d16cd2b6"
      },
      "outputs": [
        {
          "data": {
            "text/plain": [
              "Text(0.5, 1.0, 'model accuracy')"
            ]
          },
          "execution_count": 65,
          "metadata": {},
          "output_type": "execute_result"
        },
        {
          "data": {
            "image/png": "[encoded data removed]",
            "text/plain": [
              "<Figure size 432x288 with 1 Axes>"
            ]
          },
          "metadata": {
            "needs_background": "light"
          },
          "output_type": "display_data"
        }
      ],
      "source": [
        "losses = pd.DataFrame(ann.history.history)\n",
        "losses.plot()\n",
        "plt.title('model accuracy')"
      ]
    },
    {
      "cell_type": "code",
      "execution_count": null,
      "metadata": {
        "id": "Y0gGM_WKnxnW",
        "outputId": "aa97925c-d1de-4b6d-c723-4e4c1d398410"
      },
      "outputs": [
        {
          "name": "stdout",
          "output_type": "stream",
          "text": [
            "4/4 [==============================] - 0s 2ms/step\n"
          ]
        }
      ],
      "source": [
        "#now testing for Test data\n",
        "y_pred = ann.predict(xtest)\n",
        "#converting values\n",
        "y_pred = (y_pred>0.5)"
      ]
    },
    {
      "cell_type": "code",
      "execution_count": null,
      "metadata": {
        "id": "bJRRfJZDnxnW",
        "outputId": "5cc9720f-3229-4ab4-ab74-126fec8035b1"
      },
      "outputs": [
        {
          "name": "stdout",
          "output_type": "stream",
          "text": [
            "[[75  0]\n",
            " [ 2 37]]\n",
            "score is: 0.9824561403508771\n"
          ]
        }
      ],
      "source": [
        "from sklearn.metrics import confusion_matrix\n",
        "from sklearn.metrics import accuracy_score\n",
        "cm = confusion_matrix(ytest,y_pred)\n",
        "score6 = accuracy_score(ytest,y_pred)\n",
        "print(cm)\n",
        "print('score is:',score6)"
      ]
    },
    {
      "cell_type": "code",
      "execution_count": null,
      "metadata": {
        "id": "PbqP1QBhnxnX",
        "outputId": "d919f67a-3fe6-4a2e-9834-b5fe44b6ec0c"
      },
      "outputs": [
        {
          "name": "stdout",
          "output_type": "stream",
          "text": [
            "              precision    recall  f1-score   support\n",
            "\n",
            "           0       0.97      0.99      0.98        75\n",
            "           1       0.97      0.95      0.96        39\n",
            "\n",
            "    accuracy                           0.97       114\n",
            "   macro avg       0.97      0.97      0.97       114\n",
            "weighted avg       0.97      0.97      0.97       114\n",
            "\n"
          ]
        },
        {
          "ename": "AttributeError",
          "evalue": "'NoneType' object has no attribute 'to_frame'",
          "output_type": "error",
          "traceback": [
            "\u001b[1;31m---------------------------------------------------------------------------\u001b[0m",
            "\u001b[1;31mAttributeError\u001b[0m                            Traceback (most recent call last)",
            "\u001b[1;32m~\\AppData\\Local\\Temp/ipykernel_8580/3216498937.py\u001b[0m in \u001b[0;36m<module>\u001b[1;34m\u001b[0m\n\u001b[0;32m      1\u001b[0m \u001b[1;32mfrom\u001b[0m \u001b[0msklearn\u001b[0m\u001b[1;33m.\u001b[0m\u001b[0mmetrics\u001b[0m \u001b[1;32mimport\u001b[0m \u001b[0mclassification_report\u001b[0m\u001b[1;33m,\u001b[0m\u001b[0mconfusion_matrix\u001b[0m\u001b[1;33m\u001b[0m\u001b[1;33m\u001b[0m\u001b[0m\n\u001b[1;32m----> 2\u001b[1;33m \u001b[0mprint\u001b[0m\u001b[1;33m(\u001b[0m\u001b[0mclassification_report\u001b[0m\u001b[1;33m(\u001b[0m\u001b[0mytest\u001b[0m\u001b[1;33m,\u001b[0m\u001b[0my_pred\u001b[0m\u001b[1;33m)\u001b[0m\u001b[1;33m)\u001b[0m\u001b[1;33m.\u001b[0m\u001b[0mto_frame\u001b[0m\u001b[1;33m(\u001b[0m\u001b[1;33m)\u001b[0m\u001b[1;33m\u001b[0m\u001b[1;33m\u001b[0m\u001b[0m\n\u001b[0m",
            "\u001b[1;31mAttributeError\u001b[0m: 'NoneType' object has no attribute 'to_frame'"
          ]
        }
      ],
      "source": [
        "from sklearn.metrics import classification_report,confusion_matrix\n",
        "print(classification_report(ytest,y_pred))"
      ]
    },
    {
      "cell_type": "code",
      "execution_count": null,
      "metadata": {
        "id": "RFQ1HUTUnxnX",
        "outputId": "3931a7c9-ce93-4677-b1ae-347e8bcf4c1c"
      },
      "outputs": [
        {
          "data": {
            "image/png": "[encoded data removed]",
            "text/plain": [
              "<Figure size 1008x504 with 2 Axes>"
            ]
          },
          "metadata": {
            "needs_background": "light"
          },
          "output_type": "display_data"
        }
      ],
      "source": [
        "# creating heatmap of comfussion matrix\n",
        "plt.figure(figsize=[14,7])\n",
        "sns.heatmap(cm,annot=True)\n",
        "plt.show()"
      ]
    },
    {
      "cell_type": "code",
      "execution_count": null,
      "metadata": {
        "id": "cjh1mORPnxnY"
      },
      "outputs": [],
      "source": []
    },
    {
      "cell_type": "code",
      "execution_count": null,
      "metadata": {
        "id": "9fUUHoRXnxnY"
      },
      "outputs": [],
      "source": []
    },
    {
      "cell_type": "code",
      "execution_count": null,
      "metadata": {
        "id": "18fmFSOdnxni",
        "outputId": "f3fe231d-8f13-4e94-b0ba-53f062b501e1"
      },
      "outputs": [
        {
          "name": "stdout",
          "output_type": "stream",
          "text": [
            "ACCURACY SCORE\n",
            "---------------\n",
            "Relu:\n",
            "0.9649122807017544\n",
            "Sigmoid:\n",
            "0.9649122807017544\n",
            "Tanh:\n",
            "0.9649122807017544\n",
            "Softmax:\n",
            "0.9649122807017544\n",
            "Softsign:\n",
            "0.956140350877193\n",
            "Swish:\n",
            "0.9824561403508771\n"
          ]
        }
      ],
      "source": [
        "print(\"ACCURACY SCORE\")\n",
        "print(\"---------------\")\n",
        "print(\"Relu:\")\n",
        "print(score1)\n",
        "print(\"Sigmoid:\")\n",
        "\n",
        "print(score2)\n",
        "print(\"Tanh:\")\n",
        "print(score3)\n",
        "print(\"Softmax:\")\n",
        "print(score4)\n",
        "print(\"Softsign:\")\n",
        "print(score5)\n",
        "print(\"Swish:\")\n",
        "print(score6)"
      ]
    },
    {
      "cell_type": "markdown",
      "metadata": {
        "id": "8PMkDJqznxnj"
      },
      "source": [
        "# ANN Visualizer "
      ]
    },
    {
      "cell_type": "code",
      "execution_count": null,
      "metadata": {
        "execution": {
          "iopub.execute_input": "2022-10-15T19:53:41.372922Z",
          "iopub.status.busy": "2022-10-15T19:53:41.372502Z",
          "iopub.status.idle": "2022-10-15T19:53:41.378127Z",
          "shell.execute_reply": "2022-10-15T19:53:41.376944Z",
          "shell.execute_reply.started": "2022-10-15T19:53:41.372842Z"
        },
        "id": "_KkdQWb4nxnk"
      },
      "outputs": [],
      "source": [
        "#!pip install keras\n",
        "#!pip install ann_visualizer\n",
        "#!pip install graphviz"
      ]
    },
    {
      "cell_type": "code",
      "execution_count": null,
      "metadata": {
        "execution": {
          "iopub.execute_input": "2022-10-15T19:53:41.380717Z",
          "iopub.status.busy": "2022-10-15T19:53:41.379691Z",
          "iopub.status.idle": "2022-10-15T19:53:41.39091Z",
          "shell.execute_reply": "2022-10-15T19:53:41.389775Z",
          "shell.execute_reply.started": "2022-10-15T19:53:41.38066Z"
        },
        "id": "gA4SJug-nxnk"
      },
      "outputs": [],
      "source": [
        "#from ann_visualizer.visualize import ann_viz;\n",
        "#from graphviz import Source\n",
        "#ann_viz(ann, view=True, filename='network.gv', title='My Neural Network')\n",
        "#Source.from_file('./network.gv')"
      ]
    },
    {
      "cell_type": "code",
      "execution_count": null,
      "metadata": {
        "id": "0re28_BFnxnl",
        "outputId": "d4e0651d-6c77-45de-eda5-fbfe4cc6b571"
      },
      "outputs": [
        {
          "name": "stdout",
          "output_type": "stream",
          "text": [
            "Epoch 1/100\n",
            "15/15 [==============================] - 1s 17ms/step - loss: 0.5622 - accuracy: 0.7429 - val_loss: 0.4430 - val_accuracy: 0.8421\n",
            "Epoch 2/100\n",
            "15/15 [==============================] - 0s 4ms/step - loss: 0.4954 - accuracy: 0.7780 - val_loss: 0.3652 - val_accuracy: 0.8860\n",
            "Epoch 3/100\n",
            "15/15 [==============================] - 0s 4ms/step - loss: 0.3733 - accuracy: 0.8396 - val_loss: 0.3097 - val_accuracy: 0.9035\n",
            "Epoch 4/100\n",
            "15/15 [==============================] - 0s 4ms/step - loss: 0.3342 - accuracy: 0.8593 - val_loss: 0.2726 - val_accuracy: 0.9211\n",
            "Epoch 5/100\n",
            "15/15 [==============================] - 0s 4ms/step - loss: 0.3154 - accuracy: 0.8879 - val_loss: 0.2436 - val_accuracy: 0.9298\n",
            "Epoch 6/100\n",
            "15/15 [==============================] - 0s 4ms/step - loss: 0.2565 - accuracy: 0.8901 - val_loss: 0.2242 - val_accuracy: 0.9474\n",
            "Epoch 7/100\n",
            "15/15 [==============================] - 0s 4ms/step - loss: 0.2379 - accuracy: 0.9033 - val_loss: 0.2086 - val_accuracy: 0.9474\n",
            "Epoch 8/100\n",
            "15/15 [==============================] - 0s 4ms/step - loss: 0.2275 - accuracy: 0.9099 - val_loss: 0.1952 - val_accuracy: 0.9561\n",
            "Epoch 9/100\n",
            "15/15 [==============================] - 0s 4ms/step - loss: 0.2238 - accuracy: 0.9231 - val_loss: 0.1818 - val_accuracy: 0.9561\n",
            "Epoch 10/100\n",
            "15/15 [==============================] - 0s 4ms/step - loss: 0.2177 - accuracy: 0.9011 - val_loss: 0.1703 - val_accuracy: 0.9561\n",
            "Epoch 11/100\n",
            "15/15 [==============================] - 0s 5ms/step - loss: 0.2055 - accuracy: 0.9231 - val_loss: 0.1617 - val_accuracy: 0.9561\n",
            "Epoch 12/100\n",
            "15/15 [==============================] - 0s 5ms/step - loss: 0.2062 - accuracy: 0.9275 - val_loss: 0.1545 - val_accuracy: 0.9561\n",
            "Epoch 13/100\n",
            "15/15 [==============================] - 0s 5ms/step - loss: 0.1814 - accuracy: 0.9385 - val_loss: 0.1483 - val_accuracy: 0.9649\n",
            "Epoch 14/100\n",
            "15/15 [==============================] - 0s 5ms/step - loss: 0.1699 - accuracy: 0.9407 - val_loss: 0.1442 - val_accuracy: 0.9649\n",
            "Epoch 15/100\n",
            "15/15 [==============================] - 0s 6ms/step - loss: 0.1479 - accuracy: 0.9495 - val_loss: 0.1387 - val_accuracy: 0.9649\n",
            "Epoch 16/100\n",
            "15/15 [==============================] - 0s 5ms/step - loss: 0.1452 - accuracy: 0.9495 - val_loss: 0.1371 - val_accuracy: 0.9649\n",
            "Epoch 17/100\n",
            "15/15 [==============================] - 0s 5ms/step - loss: 0.1592 - accuracy: 0.9319 - val_loss: 0.1336 - val_accuracy: 0.9649\n",
            "Epoch 18/100\n",
            "15/15 [==============================] - 0s 5ms/step - loss: 0.1576 - accuracy: 0.9363 - val_loss: 0.1293 - val_accuracy: 0.9649\n",
            "Epoch 19/100\n",
            "15/15 [==============================] - 0s 5ms/step - loss: 0.1514 - accuracy: 0.9473 - val_loss: 0.1270 - val_accuracy: 0.9649\n",
            "Epoch 20/100\n",
            "15/15 [==============================] - 0s 5ms/step - loss: 0.1409 - accuracy: 0.9538 - val_loss: 0.1242 - val_accuracy: 0.9649\n",
            "Epoch 21/100\n",
            "15/15 [==============================] - 0s 5ms/step - loss: 0.1295 - accuracy: 0.9560 - val_loss: 0.1205 - val_accuracy: 0.9649\n",
            "Epoch 22/100\n",
            "15/15 [==============================] - 0s 5ms/step - loss: 0.1128 - accuracy: 0.9626 - val_loss: 0.1194 - val_accuracy: 0.9649\n",
            "Epoch 23/100\n",
            "15/15 [==============================] - 0s 5ms/step - loss: 0.1155 - accuracy: 0.9714 - val_loss: 0.1164 - val_accuracy: 0.9649\n",
            "Epoch 24/100\n",
            "15/15 [==============================] - 0s 5ms/step - loss: 0.1183 - accuracy: 0.9648 - val_loss: 0.1157 - val_accuracy: 0.9649\n",
            "Epoch 25/100\n",
            "15/15 [==============================] - 0s 5ms/step - loss: 0.1320 - accuracy: 0.9407 - val_loss: 0.1136 - val_accuracy: 0.9649\n",
            "Epoch 26/100\n",
            "15/15 [==============================] - 0s 5ms/step - loss: 0.1125 - accuracy: 0.9604 - val_loss: 0.1122 - val_accuracy: 0.9649\n",
            "Epoch 27/100\n",
            "15/15 [==============================] - 0s 5ms/step - loss: 0.1305 - accuracy: 0.9451 - val_loss: 0.1093 - val_accuracy: 0.9649\n",
            "Epoch 28/100\n",
            "15/15 [==============================] - 0s 5ms/step - loss: 0.1122 - accuracy: 0.9560 - val_loss: 0.1080 - val_accuracy: 0.9649\n",
            "Epoch 29/100\n",
            "15/15 [==============================] - 0s 5ms/step - loss: 0.1321 - accuracy: 0.9451 - val_loss: 0.1077 - val_accuracy: 0.9649\n",
            "Epoch 30/100\n",
            "15/15 [==============================] - 0s 5ms/step - loss: 0.1202 - accuracy: 0.9582 - val_loss: 0.1086 - val_accuracy: 0.9649\n",
            "Epoch 31/100\n",
            "15/15 [==============================] - 0s 5ms/step - loss: 0.1171 - accuracy: 0.9516 - val_loss: 0.1100 - val_accuracy: 0.9649\n",
            "Epoch 32/100\n",
            "15/15 [==============================] - 0s 4ms/step - loss: 0.1076 - accuracy: 0.9648 - val_loss: 0.1078 - val_accuracy: 0.9649\n",
            "Epoch 33/100\n",
            "15/15 [==============================] - 0s 5ms/step - loss: 0.0864 - accuracy: 0.9692 - val_loss: 0.1044 - val_accuracy: 0.9649\n",
            "Epoch 34/100\n",
            "15/15 [==============================] - 0s 5ms/step - loss: 0.1252 - accuracy: 0.9451 - val_loss: 0.1032 - val_accuracy: 0.9649\n",
            "Epoch 35/100\n",
            "15/15 [==============================] - 0s 5ms/step - loss: 0.1224 - accuracy: 0.9538 - val_loss: 0.1064 - val_accuracy: 0.9649\n",
            "Epoch 36/100\n",
            "15/15 [==============================] - 0s 5ms/step - loss: 0.1104 - accuracy: 0.9582 - val_loss: 0.1065 - val_accuracy: 0.9649\n",
            "Epoch 37/100\n",
            "15/15 [==============================] - 0s 5ms/step - loss: 0.1415 - accuracy: 0.9319 - val_loss: 0.1050 - val_accuracy: 0.9649\n",
            "Epoch 38/100\n",
            "15/15 [==============================] - 0s 5ms/step - loss: 0.1139 - accuracy: 0.9516 - val_loss: 0.1026 - val_accuracy: 0.9649\n",
            "Epoch 39/100\n",
            "15/15 [==============================] - 0s 5ms/step - loss: 0.1066 - accuracy: 0.9648 - val_loss: 0.1024 - val_accuracy: 0.9649\n",
            "Epoch 40/100\n",
            "15/15 [==============================] - 0s 5ms/step - loss: 0.0951 - accuracy: 0.9670 - val_loss: 0.1012 - val_accuracy: 0.9649\n",
            "Epoch 41/100\n",
            "15/15 [==============================] - 0s 4ms/step - loss: 0.0894 - accuracy: 0.9692 - val_loss: 0.1024 - val_accuracy: 0.9649\n",
            "Epoch 42/100\n",
            "15/15 [==============================] - 0s 5ms/step - loss: 0.0907 - accuracy: 0.9670 - val_loss: 0.1034 - val_accuracy: 0.9649\n",
            "Epoch 43/100\n",
            "15/15 [==============================] - 0s 5ms/step - loss: 0.0994 - accuracy: 0.9648 - val_loss: 0.1041 - val_accuracy: 0.9737\n",
            "Epoch 44/100\n",
            "15/15 [==============================] - 0s 5ms/step - loss: 0.1044 - accuracy: 0.9692 - val_loss: 0.1037 - val_accuracy: 0.9737\n",
            "Epoch 45/100\n",
            "15/15 [==============================] - 0s 5ms/step - loss: 0.0887 - accuracy: 0.9714 - val_loss: 0.1024 - val_accuracy: 0.9737\n",
            "Epoch 46/100\n",
            "15/15 [==============================] - 0s 4ms/step - loss: 0.0914 - accuracy: 0.9670 - val_loss: 0.1009 - val_accuracy: 0.9649\n",
            "Epoch 47/100\n",
            "15/15 [==============================] - 0s 5ms/step - loss: 0.1084 - accuracy: 0.9648 - val_loss: 0.1005 - val_accuracy: 0.9649\n",
            "Epoch 48/100\n",
            "15/15 [==============================] - 0s 5ms/step - loss: 0.0757 - accuracy: 0.9714 - val_loss: 0.1003 - val_accuracy: 0.9649\n",
            "Epoch 49/100\n",
            "15/15 [==============================] - 0s 5ms/step - loss: 0.0975 - accuracy: 0.9648 - val_loss: 0.0986 - val_accuracy: 0.9737\n",
            "Epoch 50/100\n",
            "15/15 [==============================] - 0s 4ms/step - loss: 0.0900 - accuracy: 0.9670 - val_loss: 0.1004 - val_accuracy: 0.9737\n",
            "Epoch 51/100\n",
            "15/15 [==============================] - 0s 4ms/step - loss: 0.1044 - accuracy: 0.9692 - val_loss: 0.1006 - val_accuracy: 0.9737\n",
            "Epoch 52/100\n",
            "15/15 [==============================] - 0s 5ms/step - loss: 0.0938 - accuracy: 0.9604 - val_loss: 0.1024 - val_accuracy: 0.9737\n",
            "Epoch 53/100\n",
            "15/15 [==============================] - 0s 4ms/step - loss: 0.1076 - accuracy: 0.9582 - val_loss: 0.1041 - val_accuracy: 0.9737\n",
            "Epoch 54/100\n",
            "15/15 [==============================] - 0s 4ms/step - loss: 0.0787 - accuracy: 0.9736 - val_loss: 0.1032 - val_accuracy: 0.9737\n",
            "Epoch 55/100\n",
            "15/15 [==============================] - 0s 4ms/step - loss: 0.1017 - accuracy: 0.9648 - val_loss: 0.1011 - val_accuracy: 0.9737\n",
            "Epoch 56/100\n",
            "15/15 [==============================] - 0s 4ms/step - loss: 0.0923 - accuracy: 0.9626 - val_loss: 0.0995 - val_accuracy: 0.9737\n",
            "Epoch 57/100\n",
            "15/15 [==============================] - 0s 4ms/step - loss: 0.0813 - accuracy: 0.9780 - val_loss: 0.1029 - val_accuracy: 0.9737\n",
            "Epoch 58/100\n",
            "15/15 [==============================] - 0s 4ms/step - loss: 0.0903 - accuracy: 0.9626 - val_loss: 0.1105 - val_accuracy: 0.9649\n",
            "Epoch 59/100\n",
            "15/15 [==============================] - 0s 4ms/step - loss: 0.0862 - accuracy: 0.9692 - val_loss: 0.1097 - val_accuracy: 0.9737\n",
            "Epoch 60/100\n",
            "15/15 [==============================] - 0s 4ms/step - loss: 0.1008 - accuracy: 0.9648 - val_loss: 0.1078 - val_accuracy: 0.9737\n",
            "Epoch 61/100\n",
            "15/15 [==============================] - 0s 4ms/step - loss: 0.0773 - accuracy: 0.9758 - val_loss: 0.1096 - val_accuracy: 0.9737\n",
            "Epoch 62/100\n",
            "15/15 [==============================] - 0s 4ms/step - loss: 0.0815 - accuracy: 0.9736 - val_loss: 0.1129 - val_accuracy: 0.9649\n",
            "Epoch 63/100\n",
            "15/15 [==============================] - 0s 5ms/step - loss: 0.0688 - accuracy: 0.9736 - val_loss: 0.1154 - val_accuracy: 0.9649\n",
            "Epoch 64/100\n",
            "15/15 [==============================] - 0s 4ms/step - loss: 0.0629 - accuracy: 0.9780 - val_loss: 0.1153 - val_accuracy: 0.9649\n",
            "Epoch 65/100\n",
            "15/15 [==============================] - 0s 4ms/step - loss: 0.1028 - accuracy: 0.9648 - val_loss: 0.1123 - val_accuracy: 0.9737\n",
            "Epoch 66/100\n",
            "15/15 [==============================] - 0s 4ms/step - loss: 0.0908 - accuracy: 0.9626 - val_loss: 0.1121 - val_accuracy: 0.9737\n",
            "Epoch 67/100\n",
            "15/15 [==============================] - 0s 5ms/step - loss: 0.1046 - accuracy: 0.9516 - val_loss: 0.1114 - val_accuracy: 0.9737\n",
            "Epoch 68/100\n",
            "15/15 [==============================] - 0s 4ms/step - loss: 0.0896 - accuracy: 0.9670 - val_loss: 0.1115 - val_accuracy: 0.9737\n",
            "Epoch 69/100\n",
            "15/15 [==============================] - 0s 4ms/step - loss: 0.0750 - accuracy: 0.9692 - val_loss: 0.1088 - val_accuracy: 0.9737\n",
            "Epoch 70/100\n",
            "15/15 [==============================] - 0s 4ms/step - loss: 0.0704 - accuracy: 0.9714 - val_loss: 0.1106 - val_accuracy: 0.9649\n",
            "Epoch 71/100\n",
            "15/15 [==============================] - 0s 5ms/step - loss: 0.0823 - accuracy: 0.9780 - val_loss: 0.1124 - val_accuracy: 0.9649\n",
            "Epoch 72/100\n",
            "15/15 [==============================] - 0s 4ms/step - loss: 0.1264 - accuracy: 0.9538 - val_loss: 0.1138 - val_accuracy: 0.9649\n",
            "Epoch 73/100\n",
            "15/15 [==============================] - 0s 4ms/step - loss: 0.0804 - accuracy: 0.9670 - val_loss: 0.1197 - val_accuracy: 0.9649\n",
            "Epoch 74/100\n",
            "15/15 [==============================] - 0s 5ms/step - loss: 0.0801 - accuracy: 0.9714 - val_loss: 0.1204 - val_accuracy: 0.9649\n",
            "Epoch 74: early stopping\n",
            "4/4 [==============================] - 0s 2ms/step\n",
            "[[74  1]\n",
            " [ 3 36]]\n",
            "Epoch 1/100\n",
            "15/15 [==============================] - 1s 17ms/step - loss: 0.6269 - accuracy: 0.6593 - val_loss: 0.6513 - val_accuracy: 0.6579\n",
            "Epoch 2/100\n",
            "15/15 [==============================] - 0s 6ms/step - loss: 0.4707 - accuracy: 0.8000 - val_loss: 0.6401 - val_accuracy: 0.6579\n",
            "Epoch 3/100\n",
            "15/15 [==============================] - 0s 6ms/step - loss: 0.4031 - accuracy: 0.8593 - val_loss: 0.6275 - val_accuracy: 0.6579\n",
            "Epoch 4/100\n",
            "15/15 [==============================] - 0s 5ms/step - loss: 0.3362 - accuracy: 0.9033 - val_loss: 0.6138 - val_accuracy: 0.6579\n",
            "Epoch 5/100\n",
            "15/15 [==============================] - 0s 5ms/step - loss: 0.2497 - accuracy: 0.9604 - val_loss: 0.6004 - val_accuracy: 0.6579\n",
            "Epoch 6/100\n",
            "15/15 [==============================] - 0s 5ms/step - loss: 0.2019 - accuracy: 0.9670 - val_loss: 0.5857 - val_accuracy: 0.6579\n",
            "Epoch 7/100\n",
            "15/15 [==============================] - 0s 5ms/step - loss: 0.2020 - accuracy: 0.9560 - val_loss: 0.5697 - val_accuracy: 0.9035\n",
            "Epoch 8/100\n",
            "15/15 [==============================] - 0s 5ms/step - loss: 0.1550 - accuracy: 0.9714 - val_loss: 0.5555 - val_accuracy: 0.9649\n",
            "Epoch 9/100\n",
            "15/15 [==============================] - 0s 5ms/step - loss: 0.1431 - accuracy: 0.9758 - val_loss: 0.5388 - val_accuracy: 0.9649\n",
            "Epoch 10/100\n",
            "15/15 [==============================] - 0s 5ms/step - loss: 0.1699 - accuracy: 0.9648 - val_loss: 0.5223 - val_accuracy: 0.9737\n",
            "Epoch 11/100\n",
            "15/15 [==============================] - 0s 5ms/step - loss: 0.1973 - accuracy: 0.9473 - val_loss: 0.5041 - val_accuracy: 0.9649\n",
            "Epoch 12/100\n",
            "15/15 [==============================] - 0s 5ms/step - loss: 0.1268 - accuracy: 0.9670 - val_loss: 0.4874 - val_accuracy: 0.9649\n",
            "Epoch 13/100\n",
            "15/15 [==============================] - 0s 5ms/step - loss: 0.1473 - accuracy: 0.9626 - val_loss: 0.4695 - val_accuracy: 0.9649\n",
            "Epoch 14/100\n",
            "15/15 [==============================] - 0s 5ms/step - loss: 0.1260 - accuracy: 0.9604 - val_loss: 0.4514 - val_accuracy: 0.9649\n",
            "Epoch 15/100\n",
            "15/15 [==============================] - 0s 5ms/step - loss: 0.1027 - accuracy: 0.9802 - val_loss: 0.4332 - val_accuracy: 0.9649\n",
            "Epoch 16/100\n",
            "15/15 [==============================] - 0s 5ms/step - loss: 0.1269 - accuracy: 0.9692 - val_loss: 0.4139 - val_accuracy: 0.9737\n",
            "Epoch 17/100\n",
            "15/15 [==============================] - 0s 5ms/step - loss: 0.1252 - accuracy: 0.9758 - val_loss: 0.3938 - val_accuracy: 0.9737\n",
            "Epoch 18/100\n",
            "15/15 [==============================] - 0s 5ms/step - loss: 0.0849 - accuracy: 0.9846 - val_loss: 0.3717 - val_accuracy: 0.9737\n",
            "Epoch 19/100\n",
            "15/15 [==============================] - 0s 5ms/step - loss: 0.1229 - accuracy: 0.9626 - val_loss: 0.3492 - val_accuracy: 0.9737\n",
            "Epoch 20/100\n",
            "15/15 [==============================] - 0s 5ms/step - loss: 0.1364 - accuracy: 0.9648 - val_loss: 0.3336 - val_accuracy: 0.9737\n",
            "Epoch 21/100\n",
            "15/15 [==============================] - 0s 5ms/step - loss: 0.0891 - accuracy: 0.9824 - val_loss: 0.3125 - val_accuracy: 0.9737\n",
            "Epoch 22/100\n",
            "15/15 [==============================] - 0s 5ms/step - loss: 0.1260 - accuracy: 0.9670 - val_loss: 0.2939 - val_accuracy: 0.9737\n",
            "Epoch 23/100\n",
            "15/15 [==============================] - 0s 5ms/step - loss: 0.1368 - accuracy: 0.9714 - val_loss: 0.2767 - val_accuracy: 0.9737\n",
            "Epoch 24/100\n",
            "15/15 [==============================] - 0s 5ms/step - loss: 0.0904 - accuracy: 0.9824 - val_loss: 0.2576 - val_accuracy: 0.9737\n",
            "Epoch 25/100\n",
            "15/15 [==============================] - 0s 5ms/step - loss: 0.1219 - accuracy: 0.9626 - val_loss: 0.2383 - val_accuracy: 0.9737\n",
            "Epoch 26/100\n",
            "15/15 [==============================] - 0s 5ms/step - loss: 0.1390 - accuracy: 0.9648 - val_loss: 0.2212 - val_accuracy: 0.9737\n",
            "Epoch 27/100\n",
            "15/15 [==============================] - 0s 5ms/step - loss: 0.0852 - accuracy: 0.9758 - val_loss: 0.2048 - val_accuracy: 0.9737\n",
            "Epoch 28/100\n",
            "15/15 [==============================] - 0s 5ms/step - loss: 0.1048 - accuracy: 0.9736 - val_loss: 0.1898 - val_accuracy: 0.9737\n",
            "Epoch 29/100\n",
            "15/15 [==============================] - 0s 5ms/step - loss: 0.1322 - accuracy: 0.9626 - val_loss: 0.1766 - val_accuracy: 0.9737\n",
            "Epoch 30/100\n",
            "15/15 [==============================] - 0s 5ms/step - loss: 0.1058 - accuracy: 0.9824 - val_loss: 0.1636 - val_accuracy: 0.9737\n",
            "Epoch 31/100\n",
            "15/15 [==============================] - 0s 5ms/step - loss: 0.1134 - accuracy: 0.9670 - val_loss: 0.1526 - val_accuracy: 0.9737\n",
            "Epoch 32/100\n",
            "15/15 [==============================] - 0s 5ms/step - loss: 0.1270 - accuracy: 0.9648 - val_loss: 0.1435 - val_accuracy: 0.9737\n",
            "Epoch 33/100\n",
            "15/15 [==============================] - 0s 8ms/step - loss: 0.0904 - accuracy: 0.9758 - val_loss: 0.1359 - val_accuracy: 0.9737\n",
            "Epoch 34/100\n",
            "15/15 [==============================] - 0s 5ms/step - loss: 0.0720 - accuracy: 0.9824 - val_loss: 0.1285 - val_accuracy: 0.9825\n",
            "Epoch 35/100\n",
            "15/15 [==============================] - 0s 5ms/step - loss: 0.0986 - accuracy: 0.9670 - val_loss: 0.1223 - val_accuracy: 0.9825\n",
            "Epoch 36/100\n",
            "15/15 [==============================] - 0s 5ms/step - loss: 0.1056 - accuracy: 0.9626 - val_loss: 0.1176 - val_accuracy: 0.9737\n",
            "Epoch 37/100\n",
            "15/15 [==============================] - 0s 5ms/step - loss: 0.1395 - accuracy: 0.9604 - val_loss: 0.1120 - val_accuracy: 0.9737\n",
            "Epoch 38/100\n",
            "15/15 [==============================] - 0s 5ms/step - loss: 0.1086 - accuracy: 0.9626 - val_loss: 0.1081 - val_accuracy: 0.9737\n",
            "Epoch 39/100\n",
            "15/15 [==============================] - 0s 5ms/step - loss: 0.0743 - accuracy: 0.9802 - val_loss: 0.1033 - val_accuracy: 0.9825\n",
            "Epoch 40/100\n",
            "15/15 [==============================] - 0s 5ms/step - loss: 0.1030 - accuracy: 0.9582 - val_loss: 0.1007 - val_accuracy: 0.9825\n",
            "Epoch 41/100\n",
            "15/15 [==============================] - 0s 5ms/step - loss: 0.0906 - accuracy: 0.9714 - val_loss: 0.0991 - val_accuracy: 0.9737\n",
            "Epoch 42/100\n",
            "15/15 [==============================] - 0s 5ms/step - loss: 0.1010 - accuracy: 0.9648 - val_loss: 0.0985 - val_accuracy: 0.9737\n",
            "Epoch 43/100\n",
            "15/15 [==============================] - 0s 5ms/step - loss: 0.1081 - accuracy: 0.9670 - val_loss: 0.1009 - val_accuracy: 0.9737\n",
            "Epoch 44/100\n",
            "15/15 [==============================] - 0s 5ms/step - loss: 0.1016 - accuracy: 0.9780 - val_loss: 0.0990 - val_accuracy: 0.9737\n",
            "Epoch 45/100\n",
            "15/15 [==============================] - 0s 5ms/step - loss: 0.0833 - accuracy: 0.9780 - val_loss: 0.0967 - val_accuracy: 0.9737\n",
            "Epoch 46/100\n",
            "15/15 [==============================] - 0s 5ms/step - loss: 0.1234 - accuracy: 0.9670 - val_loss: 0.0963 - val_accuracy: 0.9737\n",
            "Epoch 47/100\n",
            "15/15 [==============================] - 0s 5ms/step - loss: 0.0906 - accuracy: 0.9824 - val_loss: 0.0962 - val_accuracy: 0.9737\n",
            "Epoch 48/100\n",
            "15/15 [==============================] - 0s 5ms/step - loss: 0.0674 - accuracy: 0.9846 - val_loss: 0.0966 - val_accuracy: 0.9737\n",
            "Epoch 49/100\n",
            "15/15 [==============================] - 0s 5ms/step - loss: 0.0896 - accuracy: 0.9780 - val_loss: 0.0973 - val_accuracy: 0.9737\n",
            "Epoch 50/100\n",
            "15/15 [==============================] - 0s 5ms/step - loss: 0.0972 - accuracy: 0.9736 - val_loss: 0.0955 - val_accuracy: 0.9737\n",
            "Epoch 51/100\n",
            "15/15 [==============================] - 0s 5ms/step - loss: 0.0763 - accuracy: 0.9736 - val_loss: 0.0939 - val_accuracy: 0.9737\n",
            "Epoch 52/100\n",
            "15/15 [==============================] - 0s 5ms/step - loss: 0.0775 - accuracy: 0.9802 - val_loss: 0.0944 - val_accuracy: 0.9737\n",
            "Epoch 53/100\n",
            "15/15 [==============================] - 0s 6ms/step - loss: 0.1015 - accuracy: 0.9824 - val_loss: 0.0949 - val_accuracy: 0.9737\n",
            "Epoch 54/100\n",
            "15/15 [==============================] - 0s 5ms/step - loss: 0.0801 - accuracy: 0.9802 - val_loss: 0.0950 - val_accuracy: 0.9737\n",
            "Epoch 55/100\n",
            "15/15 [==============================] - 0s 5ms/step - loss: 0.1295 - accuracy: 0.9626 - val_loss: 0.0935 - val_accuracy: 0.9737\n",
            "Epoch 56/100\n",
            "15/15 [==============================] - 0s 5ms/step - loss: 0.0923 - accuracy: 0.9780 - val_loss: 0.0923 - val_accuracy: 0.9737\n",
            "Epoch 57/100\n",
            "15/15 [==============================] - 0s 5ms/step - loss: 0.0710 - accuracy: 0.9780 - val_loss: 0.0922 - val_accuracy: 0.9737\n",
            "Epoch 58/100\n",
            "15/15 [==============================] - 0s 5ms/step - loss: 0.1085 - accuracy: 0.9582 - val_loss: 0.0936 - val_accuracy: 0.9737\n",
            "Epoch 59/100\n",
            "15/15 [==============================] - 0s 5ms/step - loss: 0.0695 - accuracy: 0.9780 - val_loss: 0.0943 - val_accuracy: 0.9737\n",
            "Epoch 60/100\n",
            "15/15 [==============================] - 0s 5ms/step - loss: 0.0623 - accuracy: 0.9890 - val_loss: 0.0955 - val_accuracy: 0.9737\n",
            "Epoch 61/100\n",
            "15/15 [==============================] - 0s 5ms/step - loss: 0.0920 - accuracy: 0.9714 - val_loss: 0.0959 - val_accuracy: 0.9737\n",
            "Epoch 62/100\n",
            "15/15 [==============================] - 0s 5ms/step - loss: 0.1224 - accuracy: 0.9648 - val_loss: 0.0972 - val_accuracy: 0.9737\n",
            "Epoch 63/100\n",
            "15/15 [==============================] - 0s 5ms/step - loss: 0.0765 - accuracy: 0.9802 - val_loss: 0.0957 - val_accuracy: 0.9737\n",
            "Epoch 64/100\n",
            "15/15 [==============================] - 0s 5ms/step - loss: 0.0605 - accuracy: 0.9868 - val_loss: 0.0966 - val_accuracy: 0.9737\n",
            "Epoch 65/100\n",
            "15/15 [==============================] - 0s 5ms/step - loss: 0.0786 - accuracy: 0.9714 - val_loss: 0.0966 - val_accuracy: 0.9737\n",
            "Epoch 66/100\n",
            "15/15 [==============================] - 0s 5ms/step - loss: 0.0935 - accuracy: 0.9780 - val_loss: 0.0972 - val_accuracy: 0.9737\n",
            "Epoch 67/100\n",
            "15/15 [==============================] - 0s 5ms/step - loss: 0.0952 - accuracy: 0.9802 - val_loss: 0.0984 - val_accuracy: 0.9737\n",
            "Epoch 68/100\n",
            "15/15 [==============================] - 0s 5ms/step - loss: 0.0925 - accuracy: 0.9648 - val_loss: 0.0994 - val_accuracy: 0.9737\n",
            "Epoch 69/100\n",
            "15/15 [==============================] - 0s 5ms/step - loss: 0.0452 - accuracy: 0.9846 - val_loss: 0.1000 - val_accuracy: 0.9737\n",
            "Epoch 70/100\n",
            "15/15 [==============================] - 0s 5ms/step - loss: 0.0908 - accuracy: 0.9736 - val_loss: 0.0997 - val_accuracy: 0.9737\n",
            "Epoch 71/100\n",
            "15/15 [==============================] - 0s 5ms/step - loss: 0.1032 - accuracy: 0.9714 - val_loss: 0.1004 - val_accuracy: 0.9737\n",
            "Epoch 72/100\n",
            "15/15 [==============================] - 0s 5ms/step - loss: 0.0846 - accuracy: 0.9824 - val_loss: 0.1003 - val_accuracy: 0.9649\n",
            "Epoch 73/100\n",
            "15/15 [==============================] - 0s 5ms/step - loss: 0.0894 - accuracy: 0.9692 - val_loss: 0.1007 - val_accuracy: 0.9649\n",
            "Epoch 74/100\n",
            "15/15 [==============================] - 0s 5ms/step - loss: 0.1015 - accuracy: 0.9802 - val_loss: 0.1014 - val_accuracy: 0.9649\n",
            "Epoch 75/100\n",
            "15/15 [==============================] - 0s 5ms/step - loss: 0.1062 - accuracy: 0.9670 - val_loss: 0.0996 - val_accuracy: 0.9649\n",
            "Epoch 76/100\n",
            "15/15 [==============================] - 0s 5ms/step - loss: 0.0836 - accuracy: 0.9758 - val_loss: 0.0996 - val_accuracy: 0.9649\n",
            "Epoch 77/100\n",
            "15/15 [==============================] - 0s 5ms/step - loss: 0.0987 - accuracy: 0.9714 - val_loss: 0.0996 - val_accuracy: 0.9649\n",
            "Epoch 78/100\n",
            "15/15 [==============================] - 0s 5ms/step - loss: 0.0880 - accuracy: 0.9758 - val_loss: 0.0974 - val_accuracy: 0.9649\n",
            "Epoch 79/100\n",
            "15/15 [==============================] - 0s 5ms/step - loss: 0.0981 - accuracy: 0.9736 - val_loss: 0.0966 - val_accuracy: 0.9649\n",
            "Epoch 80/100\n",
            "15/15 [==============================] - 0s 5ms/step - loss: 0.0952 - accuracy: 0.9736 - val_loss: 0.0957 - val_accuracy: 0.9649\n",
            "Epoch 81/100\n",
            "15/15 [==============================] - 0s 5ms/step - loss: 0.0548 - accuracy: 0.9890 - val_loss: 0.0958 - val_accuracy: 0.9737\n",
            "Epoch 82/100\n",
            "15/15 [==============================] - 0s 5ms/step - loss: 0.0946 - accuracy: 0.9714 - val_loss: 0.0942 - val_accuracy: 0.9825\n",
            "Epoch 82: early stopping\n",
            "4/4 [==============================] - 0s 2ms/step\n",
            "[[75  0]\n",
            " [ 2 37]]\n",
            "Epoch 1/100\n",
            "15/15 [==============================] - 2s 19ms/step - loss: 0.3319 - accuracy: 0.8879 - val_loss: 0.5982 - val_accuracy: 0.9737\n",
            "Epoch 2/100\n",
            "15/15 [==============================] - 0s 5ms/step - loss: 0.2567 - accuracy: 0.9363 - val_loss: 0.5408 - val_accuracy: 0.9825\n",
            "Epoch 3/100\n",
            "15/15 [==============================] - 0s 5ms/step - loss: 0.3310 - accuracy: 0.9253 - val_loss: 0.5005 - val_accuracy: 0.9825\n",
            "Epoch 4/100\n",
            "15/15 [==============================] - 0s 5ms/step - loss: 0.1706 - accuracy: 0.9670 - val_loss: 0.4718 - val_accuracy: 0.9825\n",
            "Epoch 5/100\n",
            "15/15 [==============================] - 0s 5ms/step - loss: 0.1520 - accuracy: 0.9736 - val_loss: 0.4382 - val_accuracy: 0.9825\n",
            "Epoch 6/100\n",
            "15/15 [==============================] - 0s 5ms/step - loss: 0.1228 - accuracy: 0.9758 - val_loss: 0.4047 - val_accuracy: 0.9825\n",
            "Epoch 7/100\n",
            "15/15 [==============================] - 0s 5ms/step - loss: 0.1379 - accuracy: 0.9648 - val_loss: 0.3712 - val_accuracy: 0.9825\n",
            "Epoch 8/100\n",
            "15/15 [==============================] - 0s 5ms/step - loss: 0.1219 - accuracy: 0.9736 - val_loss: 0.3411 - val_accuracy: 0.9825\n",
            "Epoch 9/100\n",
            "15/15 [==============================] - 0s 5ms/step - loss: 0.1326 - accuracy: 0.9736 - val_loss: 0.3168 - val_accuracy: 0.9825\n",
            "Epoch 10/100\n",
            "15/15 [==============================] - 0s 5ms/step - loss: 0.0869 - accuracy: 0.9846 - val_loss: 0.2941 - val_accuracy: 0.9737\n",
            "Epoch 11/100\n",
            "15/15 [==============================] - 0s 5ms/step - loss: 0.1032 - accuracy: 0.9802 - val_loss: 0.2682 - val_accuracy: 0.9737\n",
            "Epoch 12/100\n",
            "15/15 [==============================] - 0s 5ms/step - loss: 0.1352 - accuracy: 0.9648 - val_loss: 0.2523 - val_accuracy: 0.9649\n",
            "Epoch 13/100\n",
            "15/15 [==============================] - 0s 5ms/step - loss: 0.1663 - accuracy: 0.9648 - val_loss: 0.2390 - val_accuracy: 0.9825\n",
            "Epoch 14/100\n",
            "15/15 [==============================] - 0s 5ms/step - loss: 0.1450 - accuracy: 0.9648 - val_loss: 0.2229 - val_accuracy: 0.9825\n",
            "Epoch 15/100\n",
            "15/15 [==============================] - 0s 5ms/step - loss: 0.1676 - accuracy: 0.9692 - val_loss: 0.2089 - val_accuracy: 0.9825\n",
            "Epoch 16/100\n",
            "15/15 [==============================] - 0s 6ms/step - loss: 0.0941 - accuracy: 0.9758 - val_loss: 0.1926 - val_accuracy: 0.9825\n",
            "Epoch 17/100\n",
            "15/15 [==============================] - 0s 5ms/step - loss: 0.1114 - accuracy: 0.9758 - val_loss: 0.1778 - val_accuracy: 0.9825\n",
            "Epoch 18/100\n",
            "15/15 [==============================] - 0s 6ms/step - loss: 0.0796 - accuracy: 0.9846 - val_loss: 0.1736 - val_accuracy: 0.9737\n",
            "Epoch 19/100\n",
            "15/15 [==============================] - 0s 5ms/step - loss: 0.1553 - accuracy: 0.9648 - val_loss: 0.1675 - val_accuracy: 0.9737\n",
            "Epoch 20/100\n",
            "15/15 [==============================] - 0s 6ms/step - loss: 0.1061 - accuracy: 0.9714 - val_loss: 0.1564 - val_accuracy: 0.9737\n",
            "Epoch 21/100\n",
            "15/15 [==============================] - 0s 6ms/step - loss: 0.0858 - accuracy: 0.9780 - val_loss: 0.1471 - val_accuracy: 0.9737\n",
            "Epoch 22/100\n",
            "15/15 [==============================] - 0s 6ms/step - loss: 0.0962 - accuracy: 0.9846 - val_loss: 0.1321 - val_accuracy: 0.9737\n",
            "Epoch 23/100\n",
            "15/15 [==============================] - 0s 5ms/step - loss: 0.0936 - accuracy: 0.9780 - val_loss: 0.1211 - val_accuracy: 0.9737\n",
            "Epoch 24/100\n",
            "15/15 [==============================] - 0s 5ms/step - loss: 0.0815 - accuracy: 0.9758 - val_loss: 0.1200 - val_accuracy: 0.9737\n",
            "Epoch 25/100\n",
            "15/15 [==============================] - 0s 5ms/step - loss: 0.1093 - accuracy: 0.9758 - val_loss: 0.1114 - val_accuracy: 0.9737\n",
            "Epoch 26/100\n",
            "15/15 [==============================] - 0s 6ms/step - loss: 0.1096 - accuracy: 0.9802 - val_loss: 0.1081 - val_accuracy: 0.9825\n",
            "Epoch 27/100\n",
            "15/15 [==============================] - 0s 5ms/step - loss: 0.1040 - accuracy: 0.9758 - val_loss: 0.1031 - val_accuracy: 0.9825\n",
            "Epoch 28/100\n",
            "15/15 [==============================] - 0s 6ms/step - loss: 0.1086 - accuracy: 0.9780 - val_loss: 0.0998 - val_accuracy: 0.9825\n",
            "Epoch 29/100\n",
            "15/15 [==============================] - 0s 6ms/step - loss: 0.0983 - accuracy: 0.9780 - val_loss: 0.0960 - val_accuracy: 0.9825\n",
            "Epoch 30/100\n",
            "15/15 [==============================] - 0s 6ms/step - loss: 0.1187 - accuracy: 0.9626 - val_loss: 0.0932 - val_accuracy: 0.9825\n",
            "Epoch 31/100\n",
            "15/15 [==============================] - 0s 6ms/step - loss: 0.0886 - accuracy: 0.9714 - val_loss: 0.0898 - val_accuracy: 0.9825\n",
            "Epoch 32/100\n",
            "15/15 [==============================] - 0s 6ms/step - loss: 0.1145 - accuracy: 0.9736 - val_loss: 0.0887 - val_accuracy: 0.9825\n",
            "Epoch 33/100\n",
            "15/15 [==============================] - 0s 6ms/step - loss: 0.0966 - accuracy: 0.9758 - val_loss: 0.0878 - val_accuracy: 0.9825\n",
            "Epoch 34/100\n",
            "15/15 [==============================] - 0s 6ms/step - loss: 0.0699 - accuracy: 0.9802 - val_loss: 0.0875 - val_accuracy: 0.9825\n",
            "Epoch 35/100\n",
            "15/15 [==============================] - 0s 5ms/step - loss: 0.0896 - accuracy: 0.9824 - val_loss: 0.0881 - val_accuracy: 0.9737\n",
            "Epoch 36/100\n",
            "15/15 [==============================] - 0s 5ms/step - loss: 0.1172 - accuracy: 0.9648 - val_loss: 0.0869 - val_accuracy: 0.9825\n",
            "Epoch 37/100\n",
            "15/15 [==============================] - 0s 5ms/step - loss: 0.0476 - accuracy: 0.9912 - val_loss: 0.0868 - val_accuracy: 0.9825\n",
            "Epoch 38/100\n",
            "15/15 [==============================] - 0s 5ms/step - loss: 0.0724 - accuracy: 0.9780 - val_loss: 0.0870 - val_accuracy: 0.9825\n",
            "Epoch 39/100\n",
            "15/15 [==============================] - 0s 5ms/step - loss: 0.1342 - accuracy: 0.9648 - val_loss: 0.0859 - val_accuracy: 0.9825\n",
            "Epoch 40/100\n",
            "15/15 [==============================] - 0s 5ms/step - loss: 0.1330 - accuracy: 0.9626 - val_loss: 0.0877 - val_accuracy: 0.9825\n",
            "Epoch 41/100\n",
            "15/15 [==============================] - 0s 5ms/step - loss: 0.0528 - accuracy: 0.9890 - val_loss: 0.0980 - val_accuracy: 0.9825\n",
            "Epoch 42/100\n",
            "15/15 [==============================] - 0s 5ms/step - loss: 0.2208 - accuracy: 0.9538 - val_loss: 0.0958 - val_accuracy: 0.9825\n",
            "Epoch 43/100\n",
            "15/15 [==============================] - 0s 5ms/step - loss: 0.0802 - accuracy: 0.9758 - val_loss: 0.0948 - val_accuracy: 0.9825\n",
            "Epoch 44/100\n",
            "15/15 [==============================] - 0s 5ms/step - loss: 0.0964 - accuracy: 0.9780 - val_loss: 0.0977 - val_accuracy: 0.9825\n",
            "Epoch 45/100\n",
            "15/15 [==============================] - 0s 6ms/step - loss: 0.1116 - accuracy: 0.9670 - val_loss: 0.0950 - val_accuracy: 0.9825\n",
            "Epoch 46/100\n",
            "15/15 [==============================] - 0s 6ms/step - loss: 0.0805 - accuracy: 0.9714 - val_loss: 0.1013 - val_accuracy: 0.9737\n",
            "Epoch 47/100\n",
            "15/15 [==============================] - 0s 6ms/step - loss: 0.0643 - accuracy: 0.9846 - val_loss: 0.0998 - val_accuracy: 0.9649\n",
            "Epoch 48/100\n",
            "15/15 [==============================] - 0s 6ms/step - loss: 0.0795 - accuracy: 0.9824 - val_loss: 0.0966 - val_accuracy: 0.9649\n",
            "Epoch 49/100\n",
            "15/15 [==============================] - 0s 6ms/step - loss: 0.0879 - accuracy: 0.9802 - val_loss: 0.0994 - val_accuracy: 0.9649\n",
            "Epoch 50/100\n",
            "15/15 [==============================] - 0s 6ms/step - loss: 0.0981 - accuracy: 0.9670 - val_loss: 0.0968 - val_accuracy: 0.9649\n",
            "Epoch 51/100\n",
            "15/15 [==============================] - 0s 6ms/step - loss: 0.1281 - accuracy: 0.9670 - val_loss: 0.0987 - val_accuracy: 0.9737\n",
            "Epoch 52/100\n",
            "15/15 [==============================] - 0s 6ms/step - loss: 0.0818 - accuracy: 0.9714 - val_loss: 0.0946 - val_accuracy: 0.9649\n",
            "Epoch 53/100\n",
            "15/15 [==============================] - 0s 6ms/step - loss: 0.0478 - accuracy: 0.9912 - val_loss: 0.0930 - val_accuracy: 0.9737\n",
            "Epoch 54/100\n",
            "15/15 [==============================] - 0s 5ms/step - loss: 0.0901 - accuracy: 0.9802 - val_loss: 0.0931 - val_accuracy: 0.9737\n",
            "Epoch 55/100\n",
            "15/15 [==============================] - 0s 6ms/step - loss: 0.1487 - accuracy: 0.9626 - val_loss: 0.0934 - val_accuracy: 0.9737\n",
            "Epoch 56/100\n",
            "15/15 [==============================] - 0s 6ms/step - loss: 0.1264 - accuracy: 0.9714 - val_loss: 0.0954 - val_accuracy: 0.9737\n",
            "Epoch 57/100\n",
            "15/15 [==============================] - 0s 6ms/step - loss: 0.1126 - accuracy: 0.9714 - val_loss: 0.1031 - val_accuracy: 0.9649\n",
            "Epoch 58/100\n",
            "15/15 [==============================] - 0s 6ms/step - loss: 0.0747 - accuracy: 0.9846 - val_loss: 0.1159 - val_accuracy: 0.9649\n",
            "Epoch 59/100\n",
            "15/15 [==============================] - 0s 5ms/step - loss: 0.1180 - accuracy: 0.9648 - val_loss: 0.1120 - val_accuracy: 0.9649\n",
            "Epoch 60/100\n",
            "15/15 [==============================] - 0s 6ms/step - loss: 0.1185 - accuracy: 0.9670 - val_loss: 0.1047 - val_accuracy: 0.9649\n",
            "Epoch 61/100\n",
            "15/15 [==============================] - 0s 5ms/step - loss: 0.0732 - accuracy: 0.9890 - val_loss: 0.1026 - val_accuracy: 0.9649\n",
            "Epoch 62/100\n",
            "15/15 [==============================] - 0s 5ms/step - loss: 0.0513 - accuracy: 0.9868 - val_loss: 0.0960 - val_accuracy: 0.9737\n",
            "Epoch 63/100\n",
            "15/15 [==============================] - 0s 5ms/step - loss: 0.1610 - accuracy: 0.9626 - val_loss: 0.1000 - val_accuracy: 0.9561\n",
            "Epoch 64/100\n",
            "15/15 [==============================] - 0s 5ms/step - loss: 0.0781 - accuracy: 0.9736 - val_loss: 0.0923 - val_accuracy: 0.9737\n",
            "Epoch 64: early stopping\n",
            "4/4 [==============================] - 0s 2ms/step\n",
            "[[74  1]\n",
            " [ 2 37]]\n",
            "Epoch 1/100\n",
            "15/15 [==============================] - 2s 33ms/step - loss: 0.7171 - accuracy: 0.3934 - val_loss: 0.6840 - val_accuracy: 0.6579\n",
            "Epoch 2/100\n",
            "15/15 [==============================] - 0s 6ms/step - loss: 0.6692 - accuracy: 0.6571 - val_loss: 0.6720 - val_accuracy: 0.6579\n",
            "Epoch 3/100\n",
            "15/15 [==============================] - 0s 6ms/step - loss: 0.6223 - accuracy: 0.7714 - val_loss: 0.6641 - val_accuracy: 0.6579\n",
            "Epoch 4/100\n",
            "15/15 [==============================] - 0s 6ms/step - loss: 0.5749 - accuracy: 0.8681 - val_loss: 0.6570 - val_accuracy: 0.6579\n",
            "Epoch 5/100\n",
            "15/15 [==============================] - 0s 6ms/step - loss: 0.5325 - accuracy: 0.8923 - val_loss: 0.6505 - val_accuracy: 0.6579\n",
            "Epoch 6/100\n",
            "15/15 [==============================] - 0s 6ms/step - loss: 0.5046 - accuracy: 0.9121 - val_loss: 0.6438 - val_accuracy: 0.6579\n",
            "Epoch 7/100\n",
            "15/15 [==============================] - 0s 6ms/step - loss: 0.4496 - accuracy: 0.9582 - val_loss: 0.6361 - val_accuracy: 0.6579\n",
            "Epoch 8/100\n",
            "15/15 [==============================] - 0s 8ms/step - loss: 0.4133 - accuracy: 0.9736 - val_loss: 0.6294 - val_accuracy: 0.6579\n",
            "Epoch 9/100\n",
            "15/15 [==============================] - 0s 8ms/step - loss: 0.3814 - accuracy: 0.9692 - val_loss: 0.6225 - val_accuracy: 0.6579\n",
            "Epoch 10/100\n",
            "15/15 [==============================] - 0s 9ms/step - loss: 0.3569 - accuracy: 0.9582 - val_loss: 0.6162 - val_accuracy: 0.6579\n",
            "Epoch 11/100\n",
            "15/15 [==============================] - 0s 10ms/step - loss: 0.3297 - accuracy: 0.9582 - val_loss: 0.6094 - val_accuracy: 0.6579\n",
            "Epoch 12/100\n",
            "15/15 [==============================] - 0s 8ms/step - loss: 0.2906 - accuracy: 0.9758 - val_loss: 0.6008 - val_accuracy: 0.6579\n",
            "Epoch 13/100\n",
            "15/15 [==============================] - 0s 7ms/step - loss: 0.2685 - accuracy: 0.9758 - val_loss: 0.5909 - val_accuracy: 0.6579\n",
            "Epoch 14/100\n",
            "15/15 [==============================] - 0s 6ms/step - loss: 0.2831 - accuracy: 0.9560 - val_loss: 0.5809 - val_accuracy: 0.6579\n",
            "Epoch 15/100\n",
            "15/15 [==============================] - 0s 7ms/step - loss: 0.2323 - accuracy: 0.9758 - val_loss: 0.5720 - val_accuracy: 0.6579\n",
            "Epoch 16/100\n",
            "15/15 [==============================] - 0s 11ms/step - loss: 0.2023 - accuracy: 0.9824 - val_loss: 0.5624 - val_accuracy: 0.6579\n",
            "Epoch 17/100\n",
            "15/15 [==============================] - 0s 11ms/step - loss: 0.1995 - accuracy: 0.9802 - val_loss: 0.5506 - val_accuracy: 0.6579\n",
            "Epoch 18/100\n",
            "15/15 [==============================] - 0s 9ms/step - loss: 0.1699 - accuracy: 0.9846 - val_loss: 0.5375 - val_accuracy: 0.6579\n",
            "Epoch 19/100\n",
            "15/15 [==============================] - 0s 9ms/step - loss: 0.1825 - accuracy: 0.9736 - val_loss: 0.5242 - val_accuracy: 0.6579\n",
            "Epoch 20/100\n",
            "15/15 [==============================] - 0s 8ms/step - loss: 0.1985 - accuracy: 0.9560 - val_loss: 0.5103 - val_accuracy: 0.6579\n",
            "Epoch 21/100\n",
            "15/15 [==============================] - 0s 7ms/step - loss: 0.2232 - accuracy: 0.9604 - val_loss: 0.4956 - val_accuracy: 0.6579\n",
            "Epoch 22/100\n",
            "15/15 [==============================] - 0s 7ms/step - loss: 0.1882 - accuracy: 0.9626 - val_loss: 0.4799 - val_accuracy: 0.6579\n",
            "Epoch 23/100\n",
            "15/15 [==============================] - 0s 7ms/step - loss: 0.1228 - accuracy: 0.9802 - val_loss: 0.4656 - val_accuracy: 0.6579\n",
            "Epoch 24/100\n",
            "15/15 [==============================] - 0s 7ms/step - loss: 0.1538 - accuracy: 0.9758 - val_loss: 0.4465 - val_accuracy: 0.6579\n",
            "Epoch 25/100\n",
            "15/15 [==============================] - 0s 7ms/step - loss: 0.1436 - accuracy: 0.9780 - val_loss: 0.4329 - val_accuracy: 0.6579\n",
            "Epoch 26/100\n",
            "15/15 [==============================] - 0s 7ms/step - loss: 0.1240 - accuracy: 0.9758 - val_loss: 0.4196 - val_accuracy: 0.6579\n",
            "Epoch 27/100\n",
            "15/15 [==============================] - 0s 7ms/step - loss: 0.1341 - accuracy: 0.9802 - val_loss: 0.4024 - val_accuracy: 0.9561\n",
            "Epoch 28/100\n",
            "15/15 [==============================] - 0s 7ms/step - loss: 0.1341 - accuracy: 0.9780 - val_loss: 0.3871 - val_accuracy: 0.9561\n",
            "Epoch 29/100\n",
            "15/15 [==============================] - 0s 7ms/step - loss: 0.1067 - accuracy: 0.9802 - val_loss: 0.3628 - val_accuracy: 0.9649\n",
            "Epoch 30/100\n",
            "15/15 [==============================] - 0s 7ms/step - loss: 0.1285 - accuracy: 0.9802 - val_loss: 0.3482 - val_accuracy: 0.9561\n",
            "Epoch 31/100\n",
            "15/15 [==============================] - 0s 6ms/step - loss: 0.1045 - accuracy: 0.9846 - val_loss: 0.3202 - val_accuracy: 0.9649\n",
            "Epoch 32/100\n",
            "15/15 [==============================] - 0s 6ms/step - loss: 0.1686 - accuracy: 0.9538 - val_loss: 0.3019 - val_accuracy: 0.9649\n",
            "Epoch 33/100\n",
            "15/15 [==============================] - 0s 6ms/step - loss: 0.1052 - accuracy: 0.9824 - val_loss: 0.2850 - val_accuracy: 0.9649\n",
            "Epoch 34/100\n",
            "15/15 [==============================] - 0s 6ms/step - loss: 0.0903 - accuracy: 0.9890 - val_loss: 0.2650 - val_accuracy: 0.9649\n",
            "Epoch 35/100\n",
            "15/15 [==============================] - 0s 6ms/step - loss: 0.1146 - accuracy: 0.9824 - val_loss: 0.2513 - val_accuracy: 0.9649\n",
            "Epoch 36/100\n",
            "15/15 [==============================] - 0s 6ms/step - loss: 0.1096 - accuracy: 0.9780 - val_loss: 0.2362 - val_accuracy: 0.9561\n",
            "Epoch 37/100\n",
            "15/15 [==============================] - 0s 6ms/step - loss: 0.1545 - accuracy: 0.9604 - val_loss: 0.2335 - val_accuracy: 0.9561\n",
            "Epoch 38/100\n",
            "15/15 [==============================] - 0s 6ms/step - loss: 0.1338 - accuracy: 0.9736 - val_loss: 0.2172 - val_accuracy: 0.9561\n",
            "Epoch 39/100\n",
            "15/15 [==============================] - 0s 6ms/step - loss: 0.0955 - accuracy: 0.9824 - val_loss: 0.1838 - val_accuracy: 0.9649\n",
            "Epoch 40/100\n",
            "15/15 [==============================] - 0s 6ms/step - loss: 0.1079 - accuracy: 0.9802 - val_loss: 0.1664 - val_accuracy: 0.9737\n",
            "Epoch 41/100\n",
            "15/15 [==============================] - 0s 6ms/step - loss: 0.1154 - accuracy: 0.9780 - val_loss: 0.1582 - val_accuracy: 0.9649\n",
            "Epoch 42/100\n",
            "15/15 [==============================] - 0s 6ms/step - loss: 0.1027 - accuracy: 0.9758 - val_loss: 0.1652 - val_accuracy: 0.9649\n",
            "Epoch 43/100\n",
            "15/15 [==============================] - 0s 6ms/step - loss: 0.1296 - accuracy: 0.9780 - val_loss: 0.1564 - val_accuracy: 0.9649\n",
            "Epoch 44/100\n",
            "15/15 [==============================] - 0s 6ms/step - loss: 0.1393 - accuracy: 0.9692 - val_loss: 0.1603 - val_accuracy: 0.9649\n",
            "Epoch 45/100\n",
            "15/15 [==============================] - 0s 6ms/step - loss: 0.0810 - accuracy: 0.9846 - val_loss: 0.1461 - val_accuracy: 0.9561\n",
            "Epoch 46/100\n",
            "15/15 [==============================] - 0s 6ms/step - loss: 0.1132 - accuracy: 0.9758 - val_loss: 0.1303 - val_accuracy: 0.9649\n",
            "Epoch 47/100\n",
            "15/15 [==============================] - 0s 6ms/step - loss: 0.1196 - accuracy: 0.9736 - val_loss: 0.1365 - val_accuracy: 0.9649\n",
            "Epoch 48/100\n",
            "15/15 [==============================] - 0s 6ms/step - loss: 0.1030 - accuracy: 0.9736 - val_loss: 0.1315 - val_accuracy: 0.9649\n",
            "Epoch 49/100\n",
            "15/15 [==============================] - 0s 6ms/step - loss: 0.0824 - accuracy: 0.9714 - val_loss: 0.1151 - val_accuracy: 0.9737\n",
            "Epoch 50/100\n",
            "15/15 [==============================] - 0s 6ms/step - loss: 0.1161 - accuracy: 0.9736 - val_loss: 0.1092 - val_accuracy: 0.9737\n",
            "Epoch 51/100\n",
            "15/15 [==============================] - 0s 6ms/step - loss: 0.0858 - accuracy: 0.9802 - val_loss: 0.1092 - val_accuracy: 0.9737\n",
            "Epoch 52/100\n",
            "15/15 [==============================] - 0s 6ms/step - loss: 0.0772 - accuracy: 0.9846 - val_loss: 0.1079 - val_accuracy: 0.9737\n",
            "Epoch 53/100\n",
            "15/15 [==============================] - 0s 6ms/step - loss: 0.1396 - accuracy: 0.9714 - val_loss: 0.1068 - val_accuracy: 0.9737\n",
            "Epoch 54/100\n",
            "15/15 [==============================] - 0s 6ms/step - loss: 0.1208 - accuracy: 0.9736 - val_loss: 0.1090 - val_accuracy: 0.9649\n",
            "Epoch 55/100\n",
            "15/15 [==============================] - 0s 7ms/step - loss: 0.1585 - accuracy: 0.9473 - val_loss: 0.1240 - val_accuracy: 0.9737\n",
            "Epoch 56/100\n",
            "15/15 [==============================] - 0s 7ms/step - loss: 0.0886 - accuracy: 0.9802 - val_loss: 0.1104 - val_accuracy: 0.9649\n",
            "Epoch 57/100\n",
            "15/15 [==============================] - 0s 7ms/step - loss: 0.1018 - accuracy: 0.9692 - val_loss: 0.1103 - val_accuracy: 0.9737\n",
            "Epoch 58/100\n",
            "15/15 [==============================] - 0s 6ms/step - loss: 0.0916 - accuracy: 0.9780 - val_loss: 0.1279 - val_accuracy: 0.9649\n",
            "Epoch 59/100\n",
            "15/15 [==============================] - 0s 6ms/step - loss: 0.0701 - accuracy: 0.9868 - val_loss: 0.1166 - val_accuracy: 0.9561\n",
            "Epoch 60/100\n",
            "15/15 [==============================] - 0s 6ms/step - loss: 0.1030 - accuracy: 0.9780 - val_loss: 0.1087 - val_accuracy: 0.9649\n",
            "Epoch 61/100\n",
            "15/15 [==============================] - 0s 6ms/step - loss: 0.1176 - accuracy: 0.9714 - val_loss: 0.1180 - val_accuracy: 0.9737\n",
            "Epoch 62/100\n",
            "15/15 [==============================] - 0s 6ms/step - loss: 0.0897 - accuracy: 0.9824 - val_loss: 0.1110 - val_accuracy: 0.9649\n",
            "Epoch 63/100\n",
            "15/15 [==============================] - 0s 6ms/step - loss: 0.0713 - accuracy: 0.9868 - val_loss: 0.1091 - val_accuracy: 0.9737\n",
            "Epoch 64/100\n",
            "15/15 [==============================] - 0s 6ms/step - loss: 0.0957 - accuracy: 0.9780 - val_loss: 0.1123 - val_accuracy: 0.9737\n",
            "Epoch 65/100\n",
            "15/15 [==============================] - 0s 6ms/step - loss: 0.0997 - accuracy: 0.9758 - val_loss: 0.1093 - val_accuracy: 0.9737\n",
            "Epoch 66/100\n",
            "15/15 [==============================] - 0s 7ms/step - loss: 0.0952 - accuracy: 0.9780 - val_loss: 0.1055 - val_accuracy: 0.9737\n",
            "Epoch 67/100\n",
            "15/15 [==============================] - 0s 6ms/step - loss: 0.0825 - accuracy: 0.9736 - val_loss: 0.1063 - val_accuracy: 0.9737\n",
            "Epoch 68/100\n",
            "15/15 [==============================] - 0s 6ms/step - loss: 0.1009 - accuracy: 0.9758 - val_loss: 0.1068 - val_accuracy: 0.9737\n",
            "Epoch 69/100\n",
            "15/15 [==============================] - 0s 6ms/step - loss: 0.1059 - accuracy: 0.9714 - val_loss: 0.1042 - val_accuracy: 0.9737\n",
            "Epoch 70/100\n",
            "15/15 [==============================] - 0s 6ms/step - loss: 0.0884 - accuracy: 0.9758 - val_loss: 0.1045 - val_accuracy: 0.9737\n",
            "Epoch 71/100\n",
            "15/15 [==============================] - 0s 6ms/step - loss: 0.1413 - accuracy: 0.9604 - val_loss: 0.1071 - val_accuracy: 0.9737\n",
            "Epoch 72/100\n",
            "15/15 [==============================] - 0s 6ms/step - loss: 0.0964 - accuracy: 0.9802 - val_loss: 0.1148 - val_accuracy: 0.9649\n",
            "Epoch 73/100\n",
            "15/15 [==============================] - 0s 6ms/step - loss: 0.1034 - accuracy: 0.9780 - val_loss: 0.1296 - val_accuracy: 0.9561\n",
            "Epoch 74/100\n",
            "15/15 [==============================] - 0s 6ms/step - loss: 0.0721 - accuracy: 0.9824 - val_loss: 0.1456 - val_accuracy: 0.9561\n",
            "Epoch 75/100\n",
            "15/15 [==============================] - 0s 6ms/step - loss: 0.1394 - accuracy: 0.9692 - val_loss: 0.1479 - val_accuracy: 0.9474\n",
            "Epoch 76/100\n",
            "15/15 [==============================] - 0s 6ms/step - loss: 0.0919 - accuracy: 0.9780 - val_loss: 0.1379 - val_accuracy: 0.9561\n",
            "Epoch 77/100\n",
            "15/15 [==============================] - 0s 6ms/step - loss: 0.0798 - accuracy: 0.9758 - val_loss: 0.1348 - val_accuracy: 0.9561\n",
            "Epoch 78/100\n",
            "15/15 [==============================] - 0s 6ms/step - loss: 0.0775 - accuracy: 0.9868 - val_loss: 0.1286 - val_accuracy: 0.9561\n",
            "Epoch 79/100\n",
            "15/15 [==============================] - 0s 6ms/step - loss: 0.0985 - accuracy: 0.9714 - val_loss: 0.1353 - val_accuracy: 0.9561\n",
            "Epoch 80/100\n",
            "15/15 [==============================] - 0s 6ms/step - loss: 0.1794 - accuracy: 0.9560 - val_loss: 0.1099 - val_accuracy: 0.9737\n",
            "Epoch 81/100\n",
            "15/15 [==============================] - 0s 6ms/step - loss: 0.0939 - accuracy: 0.9802 - val_loss: 0.1042 - val_accuracy: 0.9737\n",
            "Epoch 82/100\n",
            "15/15 [==============================] - 0s 6ms/step - loss: 0.1027 - accuracy: 0.9670 - val_loss: 0.1051 - val_accuracy: 0.9737\n",
            "Epoch 83/100\n",
            "15/15 [==============================] - 0s 6ms/step - loss: 0.1148 - accuracy: 0.9626 - val_loss: 0.1091 - val_accuracy: 0.9737\n",
            "Epoch 84/100\n",
            "15/15 [==============================] - 0s 6ms/step - loss: 0.0600 - accuracy: 0.9912 - val_loss: 0.1121 - val_accuracy: 0.9649\n",
            "Epoch 85/100\n",
            "15/15 [==============================] - 0s 6ms/step - loss: 0.0785 - accuracy: 0.9802 - val_loss: 0.1152 - val_accuracy: 0.9649\n",
            "Epoch 86/100\n",
            "15/15 [==============================] - 0s 6ms/step - loss: 0.0805 - accuracy: 0.9758 - val_loss: 0.1156 - val_accuracy: 0.9649\n",
            "Epoch 87/100\n",
            "15/15 [==============================] - 0s 6ms/step - loss: 0.0973 - accuracy: 0.9802 - val_loss: 0.1141 - val_accuracy: 0.9737\n",
            "Epoch 88/100\n",
            "15/15 [==============================] - 0s 6ms/step - loss: 0.0977 - accuracy: 0.9780 - val_loss: 0.1174 - val_accuracy: 0.9649\n",
            "Epoch 89/100\n",
            "15/15 [==============================] - 0s 6ms/step - loss: 0.1175 - accuracy: 0.9736 - val_loss: 0.1172 - val_accuracy: 0.9649\n",
            "Epoch 90/100\n",
            "15/15 [==============================] - 0s 6ms/step - loss: 0.1036 - accuracy: 0.9824 - val_loss: 0.1185 - val_accuracy: 0.9649\n",
            "Epoch 91/100\n",
            "15/15 [==============================] - 0s 6ms/step - loss: 0.1131 - accuracy: 0.9714 - val_loss: 0.1146 - val_accuracy: 0.9649\n",
            "Epoch 92/100\n",
            "15/15 [==============================] - 0s 6ms/step - loss: 0.0847 - accuracy: 0.9824 - val_loss: 0.1100 - val_accuracy: 0.9737\n",
            "Epoch 93/100\n",
            "15/15 [==============================] - 0s 6ms/step - loss: 0.1292 - accuracy: 0.9736 - val_loss: 0.1109 - val_accuracy: 0.9737\n",
            "Epoch 94/100\n",
            "15/15 [==============================] - 0s 6ms/step - loss: 0.1183 - accuracy: 0.9692 - val_loss: 0.1103 - val_accuracy: 0.9737\n",
            "Epoch 95/100\n",
            "15/15 [==============================] - 0s 6ms/step - loss: 0.0832 - accuracy: 0.9736 - val_loss: 0.1112 - val_accuracy: 0.9737\n",
            "Epoch 96/100\n",
            "15/15 [==============================] - 0s 6ms/step - loss: 0.0988 - accuracy: 0.9714 - val_loss: 0.1136 - val_accuracy: 0.9737\n",
            "Epoch 97/100\n",
            "15/15 [==============================] - 0s 6ms/step - loss: 0.0998 - accuracy: 0.9758 - val_loss: 0.1114 - val_accuracy: 0.9649\n",
            "Epoch 98/100\n",
            "15/15 [==============================] - 0s 6ms/step - loss: 0.0758 - accuracy: 0.9846 - val_loss: 0.1090 - val_accuracy: 0.9649\n",
            "Epoch 99/100\n",
            "15/15 [==============================] - 0s 6ms/step - loss: 0.0570 - accuracy: 0.9890 - val_loss: 0.1146 - val_accuracy: 0.9737\n",
            "Epoch 100/100\n",
            "15/15 [==============================] - 0s 6ms/step - loss: 0.0904 - accuracy: 0.9758 - val_loss: 0.1161 - val_accuracy: 0.9737\n",
            "4/4 [==============================] - 0s 2ms/step\n",
            "[[74  1]\n",
            " [ 2 37]]\n",
            "Epoch 1/100\n",
            "15/15 [==============================] - 2s 27ms/step - loss: 2.5464 - accuracy: 0.0505 - val_loss: 0.7388 - val_accuracy: 0.6579\n",
            "Epoch 2/100\n",
            "15/15 [==============================] - 0s 6ms/step - loss: 2.1313 - accuracy: 0.0769 - val_loss: 0.6919 - val_accuracy: 0.6579\n",
            "Epoch 3/100\n",
            "15/15 [==============================] - 0s 6ms/step - loss: 1.5298 - accuracy: 0.1824 - val_loss: 0.6508 - val_accuracy: 0.6579\n",
            "Epoch 4/100\n",
            "15/15 [==============================] - 0s 6ms/step - loss: 0.8171 - accuracy: 0.5011 - val_loss: 0.6471 - val_accuracy: 0.6579\n",
            "Epoch 5/100\n",
            "15/15 [==============================] - 0s 6ms/step - loss: 0.7393 - accuracy: 0.5341 - val_loss: 0.6474 - val_accuracy: 0.6579\n",
            "Epoch 6/100\n",
            "15/15 [==============================] - 0s 6ms/step - loss: 0.6713 - accuracy: 0.6484 - val_loss: 0.6474 - val_accuracy: 0.6579\n",
            "Epoch 7/100\n",
            "15/15 [==============================] - 0s 7ms/step - loss: 0.5341 - accuracy: 0.7626 - val_loss: 0.6409 - val_accuracy: 0.6579\n",
            "Epoch 8/100\n",
            "15/15 [==============================] - 0s 7ms/step - loss: 0.4218 - accuracy: 0.8505 - val_loss: 0.6131 - val_accuracy: 0.6579\n",
            "Epoch 9/100\n",
            "15/15 [==============================] - 0s 6ms/step - loss: 0.3481 - accuracy: 0.8967 - val_loss: 0.5675 - val_accuracy: 0.6579\n",
            "Epoch 10/100\n",
            "15/15 [==============================] - 0s 6ms/step - loss: 0.3405 - accuracy: 0.8923 - val_loss: 0.5295 - val_accuracy: 0.6579\n",
            "Epoch 11/100\n",
            "15/15 [==============================] - 0s 6ms/step - loss: 0.3372 - accuracy: 0.8857 - val_loss: 0.5033 - val_accuracy: 0.6579\n",
            "Epoch 12/100\n",
            "15/15 [==============================] - 0s 7ms/step - loss: 0.2789 - accuracy: 0.9275 - val_loss: 0.4803 - val_accuracy: 0.6579\n",
            "Epoch 13/100\n",
            "15/15 [==============================] - 0s 7ms/step - loss: 0.2163 - accuracy: 0.9473 - val_loss: 0.4613 - val_accuracy: 0.6579\n",
            "Epoch 14/100\n",
            "15/15 [==============================] - 0s 7ms/step - loss: 0.2321 - accuracy: 0.9451 - val_loss: 0.4484 - val_accuracy: 0.6579\n",
            "Epoch 15/100\n",
            "15/15 [==============================] - 0s 7ms/step - loss: 0.2292 - accuracy: 0.9385 - val_loss: 0.4366 - val_accuracy: 0.6579\n",
            "Epoch 16/100\n",
            "15/15 [==============================] - 0s 7ms/step - loss: 0.1902 - accuracy: 0.9692 - val_loss: 0.4129 - val_accuracy: 0.8509\n",
            "Epoch 17/100\n",
            "15/15 [==============================] - 0s 7ms/step - loss: 0.1849 - accuracy: 0.9560 - val_loss: 0.4017 - val_accuracy: 0.8947\n",
            "Epoch 18/100\n",
            "15/15 [==============================] - 0s 7ms/step - loss: 0.1511 - accuracy: 0.9780 - val_loss: 0.3900 - val_accuracy: 0.9035\n",
            "Epoch 19/100\n",
            "15/15 [==============================] - 0s 7ms/step - loss: 0.1634 - accuracy: 0.9736 - val_loss: 0.3700 - val_accuracy: 0.9298\n",
            "Epoch 20/100\n",
            "15/15 [==============================] - 0s 7ms/step - loss: 0.1607 - accuracy: 0.9714 - val_loss: 0.3370 - val_accuracy: 0.9474\n",
            "Epoch 21/100\n",
            "15/15 [==============================] - 0s 7ms/step - loss: 0.1383 - accuracy: 0.9736 - val_loss: 0.3011 - val_accuracy: 0.9561\n",
            "Epoch 22/100\n",
            "15/15 [==============================] - 0s 7ms/step - loss: 0.1506 - accuracy: 0.9670 - val_loss: 0.2861 - val_accuracy: 0.9561\n",
            "Epoch 23/100\n",
            "15/15 [==============================] - 0s 7ms/step - loss: 0.1400 - accuracy: 0.9736 - val_loss: 0.2675 - val_accuracy: 0.9561\n",
            "Epoch 24/100\n",
            "15/15 [==============================] - 0s 7ms/step - loss: 0.1400 - accuracy: 0.9736 - val_loss: 0.2369 - val_accuracy: 0.9561\n",
            "Epoch 25/100\n",
            "15/15 [==============================] - 0s 7ms/step - loss: 0.1381 - accuracy: 0.9692 - val_loss: 0.2342 - val_accuracy: 0.9561\n",
            "Epoch 26/100\n",
            "15/15 [==============================] - 0s 7ms/step - loss: 0.1303 - accuracy: 0.9780 - val_loss: 0.2258 - val_accuracy: 0.9561\n",
            "Epoch 27/100\n",
            "15/15 [==============================] - 0s 7ms/step - loss: 0.1554 - accuracy: 0.9648 - val_loss: 0.2011 - val_accuracy: 0.9561\n",
            "Epoch 28/100\n",
            "15/15 [==============================] - 0s 7ms/step - loss: 0.0934 - accuracy: 0.9824 - val_loss: 0.1889 - val_accuracy: 0.9561\n",
            "Epoch 29/100\n",
            "15/15 [==============================] - 0s 6ms/step - loss: 0.1190 - accuracy: 0.9692 - val_loss: 0.1820 - val_accuracy: 0.9561\n",
            "Epoch 30/100\n",
            "15/15 [==============================] - 0s 7ms/step - loss: 0.0913 - accuracy: 0.9824 - val_loss: 0.1718 - val_accuracy: 0.9561\n",
            "Epoch 31/100\n",
            "15/15 [==============================] - 0s 7ms/step - loss: 0.1353 - accuracy: 0.9692 - val_loss: 0.1598 - val_accuracy: 0.9561\n",
            "Epoch 32/100\n",
            "15/15 [==============================] - 0s 7ms/step - loss: 0.1662 - accuracy: 0.9560 - val_loss: 0.1713 - val_accuracy: 0.9561\n",
            "Epoch 33/100\n",
            "15/15 [==============================] - 0s 7ms/step - loss: 0.0965 - accuracy: 0.9736 - val_loss: 0.1879 - val_accuracy: 0.9561\n",
            "Epoch 34/100\n",
            "15/15 [==============================] - 0s 7ms/step - loss: 0.1282 - accuracy: 0.9714 - val_loss: 0.1882 - val_accuracy: 0.9561\n",
            "Epoch 35/100\n",
            "15/15 [==============================] - 0s 7ms/step - loss: 0.1286 - accuracy: 0.9670 - val_loss: 0.1665 - val_accuracy: 0.9561\n",
            "Epoch 36/100\n",
            "15/15 [==============================] - 0s 7ms/step - loss: 0.1148 - accuracy: 0.9714 - val_loss: 0.1368 - val_accuracy: 0.9649\n",
            "Epoch 37/100\n",
            "15/15 [==============================] - 0s 7ms/step - loss: 0.1060 - accuracy: 0.9780 - val_loss: 0.1317 - val_accuracy: 0.9649\n",
            "Epoch 38/100\n",
            "15/15 [==============================] - 0s 7ms/step - loss: 0.0983 - accuracy: 0.9802 - val_loss: 0.1236 - val_accuracy: 0.9649\n",
            "Epoch 39/100\n",
            "15/15 [==============================] - 0s 7ms/step - loss: 0.0869 - accuracy: 0.9802 - val_loss: 0.1392 - val_accuracy: 0.9649\n",
            "Epoch 40/100\n",
            "15/15 [==============================] - 0s 7ms/step - loss: 0.0658 - accuracy: 0.9868 - val_loss: 0.1594 - val_accuracy: 0.9561\n",
            "Epoch 41/100\n",
            "15/15 [==============================] - 0s 7ms/step - loss: 0.1407 - accuracy: 0.9714 - val_loss: 0.1603 - val_accuracy: 0.9561\n",
            "Epoch 42/100\n",
            "15/15 [==============================] - 0s 7ms/step - loss: 0.0649 - accuracy: 0.9846 - val_loss: 0.1423 - val_accuracy: 0.9649\n",
            "Epoch 43/100\n",
            "15/15 [==============================] - 0s 6ms/step - loss: 0.0614 - accuracy: 0.9846 - val_loss: 0.1241 - val_accuracy: 0.9737\n",
            "Epoch 44/100\n",
            "15/15 [==============================] - 0s 6ms/step - loss: 0.0934 - accuracy: 0.9714 - val_loss: 0.1294 - val_accuracy: 0.9737\n",
            "Epoch 45/100\n",
            "15/15 [==============================] - 0s 6ms/step - loss: 0.1171 - accuracy: 0.9758 - val_loss: 0.1294 - val_accuracy: 0.9737\n",
            "Epoch 46/100\n",
            "15/15 [==============================] - 0s 6ms/step - loss: 0.1167 - accuracy: 0.9692 - val_loss: 0.1410 - val_accuracy: 0.9649\n",
            "Epoch 47/100\n",
            "15/15 [==============================] - 0s 7ms/step - loss: 0.1571 - accuracy: 0.9495 - val_loss: 0.1552 - val_accuracy: 0.9649\n",
            "Epoch 48/100\n",
            "15/15 [==============================] - 0s 6ms/step - loss: 0.0925 - accuracy: 0.9758 - val_loss: 0.1433 - val_accuracy: 0.9649\n",
            "Epoch 49/100\n",
            "15/15 [==============================] - 0s 7ms/step - loss: 0.0809 - accuracy: 0.9802 - val_loss: 0.1145 - val_accuracy: 0.9649\n",
            "Epoch 50/100\n",
            "15/15 [==============================] - 0s 7ms/step - loss: 0.0662 - accuracy: 0.9758 - val_loss: 0.1085 - val_accuracy: 0.9649\n",
            "Epoch 51/100\n",
            "15/15 [==============================] - 0s 7ms/step - loss: 0.1217 - accuracy: 0.9692 - val_loss: 0.1089 - val_accuracy: 0.9649\n",
            "Epoch 52/100\n",
            "15/15 [==============================] - 0s 7ms/step - loss: 0.1451 - accuracy: 0.9648 - val_loss: 0.1269 - val_accuracy: 0.9649\n",
            "Epoch 53/100\n",
            "15/15 [==============================] - 0s 7ms/step - loss: 0.1003 - accuracy: 0.9736 - val_loss: 0.1204 - val_accuracy: 0.9649\n",
            "Epoch 54/100\n",
            "15/15 [==============================] - 0s 7ms/step - loss: 0.0852 - accuracy: 0.9758 - val_loss: 0.1154 - val_accuracy: 0.9737\n",
            "Epoch 55/100\n",
            "15/15 [==============================] - 0s 7ms/step - loss: 0.0918 - accuracy: 0.9758 - val_loss: 0.1227 - val_accuracy: 0.9649\n",
            "Epoch 56/100\n",
            "15/15 [==============================] - 0s 9ms/step - loss: 0.0477 - accuracy: 0.9956 - val_loss: 0.1173 - val_accuracy: 0.9649\n",
            "Epoch 57/100\n",
            "15/15 [==============================] - 0s 8ms/step - loss: 0.1196 - accuracy: 0.9670 - val_loss: 0.1215 - val_accuracy: 0.9649\n",
            "Epoch 58/100\n",
            "15/15 [==============================] - 0s 8ms/step - loss: 0.1364 - accuracy: 0.9670 - val_loss: 0.1319 - val_accuracy: 0.9561\n",
            "Epoch 59/100\n",
            "15/15 [==============================] - 0s 8ms/step - loss: 0.1377 - accuracy: 0.9692 - val_loss: 0.1178 - val_accuracy: 0.9561\n",
            "Epoch 60/100\n",
            "15/15 [==============================] - 0s 7ms/step - loss: 0.0948 - accuracy: 0.9736 - val_loss: 0.1216 - val_accuracy: 0.9561\n",
            "Epoch 61/100\n",
            "15/15 [==============================] - 0s 8ms/step - loss: 0.0877 - accuracy: 0.9802 - val_loss: 0.1144 - val_accuracy: 0.9649\n",
            "Epoch 62/100\n",
            "15/15 [==============================] - 0s 8ms/step - loss: 0.0793 - accuracy: 0.9802 - val_loss: 0.1247 - val_accuracy: 0.9561\n",
            "Epoch 63/100\n",
            "15/15 [==============================] - 0s 8ms/step - loss: 0.0749 - accuracy: 0.9692 - val_loss: 0.1272 - val_accuracy: 0.9649\n",
            "Epoch 64/100\n",
            "15/15 [==============================] - 0s 7ms/step - loss: 0.1157 - accuracy: 0.9780 - val_loss: 0.1320 - val_accuracy: 0.9649\n",
            "Epoch 65/100\n",
            "15/15 [==============================] - 0s 7ms/step - loss: 0.1160 - accuracy: 0.9802 - val_loss: 0.1342 - val_accuracy: 0.9649\n",
            "Epoch 66/100\n",
            "15/15 [==============================] - 0s 7ms/step - loss: 0.0687 - accuracy: 0.9802 - val_loss: 0.1365 - val_accuracy: 0.9561\n",
            "Epoch 67/100\n",
            "15/15 [==============================] - 0s 7ms/step - loss: 0.0789 - accuracy: 0.9846 - val_loss: 0.1376 - val_accuracy: 0.9561\n",
            "Epoch 68/100\n",
            "15/15 [==============================] - 0s 7ms/step - loss: 0.1005 - accuracy: 0.9802 - val_loss: 0.1393 - val_accuracy: 0.9649\n",
            "Epoch 69/100\n",
            "15/15 [==============================] - 0s 7ms/step - loss: 0.0799 - accuracy: 0.9780 - val_loss: 0.1434 - val_accuracy: 0.9561\n",
            "Epoch 70/100\n",
            "15/15 [==============================] - 0s 7ms/step - loss: 0.0918 - accuracy: 0.9692 - val_loss: 0.1469 - val_accuracy: 0.9649\n",
            "Epoch 71/100\n",
            "15/15 [==============================] - 0s 7ms/step - loss: 0.0958 - accuracy: 0.9714 - val_loss: 0.1338 - val_accuracy: 0.9561\n",
            "Epoch 72/100\n",
            "15/15 [==============================] - 0s 7ms/step - loss: 0.1231 - accuracy: 0.9714 - val_loss: 0.1179 - val_accuracy: 0.9649\n",
            "Epoch 73/100\n",
            "15/15 [==============================] - 0s 7ms/step - loss: 0.0680 - accuracy: 0.9868 - val_loss: 0.1301 - val_accuracy: 0.9561\n",
            "Epoch 74/100\n",
            "15/15 [==============================] - 0s 7ms/step - loss: 0.0976 - accuracy: 0.9824 - val_loss: 0.1477 - val_accuracy: 0.9561\n",
            "Epoch 75/100\n",
            "15/15 [==============================] - 0s 7ms/step - loss: 0.0743 - accuracy: 0.9780 - val_loss: 0.1588 - val_accuracy: 0.9649\n",
            "Epoch 75: early stopping\n",
            "4/4 [==============================] - 0s 3ms/step\n",
            "[[75  0]\n",
            " [ 4 35]]\n",
            "Epoch 1/100\n",
            "15/15 [==============================] - 3s 33ms/step - loss: 0.6811 - accuracy: 0.6066 - val_loss: 0.6611 - val_accuracy: 0.9561\n",
            "Epoch 2/100\n",
            "15/15 [==============================] - 0s 7ms/step - loss: 0.4999 - accuracy: 0.7824 - val_loss: 0.6263 - val_accuracy: 0.9561\n",
            "Epoch 3/100\n",
            "15/15 [==============================] - 0s 7ms/step - loss: 0.3655 - accuracy: 0.8901 - val_loss: 0.5922 - val_accuracy: 0.9649\n",
            "Epoch 4/100\n",
            "15/15 [==============================] - 0s 7ms/step - loss: 0.2596 - accuracy: 0.9429 - val_loss: 0.5588 - val_accuracy: 0.9649\n",
            "Epoch 5/100\n",
            "15/15 [==============================] - 0s 7ms/step - loss: 0.1939 - accuracy: 0.9626 - val_loss: 0.5288 - val_accuracy: 0.9561\n",
            "Epoch 6/100\n",
            "15/15 [==============================] - 0s 7ms/step - loss: 0.1940 - accuracy: 0.9516 - val_loss: 0.5006 - val_accuracy: 0.9561\n",
            "Epoch 7/100\n",
            "15/15 [==============================] - 0s 7ms/step - loss: 0.1888 - accuracy: 0.9604 - val_loss: 0.4782 - val_accuracy: 0.9561\n",
            "Epoch 8/100\n",
            "15/15 [==============================] - 0s 7ms/step - loss: 0.1601 - accuracy: 0.9626 - val_loss: 0.4549 - val_accuracy: 0.9561\n",
            "Epoch 9/100\n",
            "15/15 [==============================] - 0s 8ms/step - loss: 0.1298 - accuracy: 0.9670 - val_loss: 0.4253 - val_accuracy: 0.9649\n",
            "Epoch 10/100\n",
            "15/15 [==============================] - 0s 7ms/step - loss: 0.1380 - accuracy: 0.9780 - val_loss: 0.3981 - val_accuracy: 0.9649\n",
            "Epoch 11/100\n",
            "15/15 [==============================] - 0s 8ms/step - loss: 0.1686 - accuracy: 0.9648 - val_loss: 0.3746 - val_accuracy: 0.9737\n",
            "Epoch 12/100\n",
            "15/15 [==============================] - 0s 8ms/step - loss: 0.1312 - accuracy: 0.9758 - val_loss: 0.3578 - val_accuracy: 0.9649\n",
            "Epoch 13/100\n",
            "15/15 [==============================] - 0s 8ms/step - loss: 0.1613 - accuracy: 0.9626 - val_loss: 0.3429 - val_accuracy: 0.9561\n",
            "Epoch 14/100\n",
            "15/15 [==============================] - 0s 8ms/step - loss: 0.1352 - accuracy: 0.9626 - val_loss: 0.3167 - val_accuracy: 0.9649\n",
            "Epoch 15/100\n",
            "15/15 [==============================] - 0s 8ms/step - loss: 0.1268 - accuracy: 0.9736 - val_loss: 0.2874 - val_accuracy: 0.9737\n",
            "Epoch 16/100\n",
            "15/15 [==============================] - 0s 8ms/step - loss: 0.1773 - accuracy: 0.9538 - val_loss: 0.2766 - val_accuracy: 0.9737\n",
            "Epoch 17/100\n",
            "15/15 [==============================] - 0s 12ms/step - loss: 0.1931 - accuracy: 0.9560 - val_loss: 0.2649 - val_accuracy: 0.9737\n",
            "Epoch 18/100\n",
            "15/15 [==============================] - 0s 10ms/step - loss: 0.1311 - accuracy: 0.9714 - val_loss: 0.2526 - val_accuracy: 0.9737\n",
            "Epoch 19/100\n",
            "15/15 [==============================] - 0s 12ms/step - loss: 0.1179 - accuracy: 0.9736 - val_loss: 0.2398 - val_accuracy: 0.9737\n",
            "Epoch 20/100\n",
            "15/15 [==============================] - 0s 9ms/step - loss: 0.1375 - accuracy: 0.9670 - val_loss: 0.2286 - val_accuracy: 0.9737\n",
            "Epoch 21/100\n",
            "15/15 [==============================] - 0s 13ms/step - loss: 0.1370 - accuracy: 0.9692 - val_loss: 0.2291 - val_accuracy: 0.9649\n",
            "Epoch 22/100\n",
            "15/15 [==============================] - 0s 13ms/step - loss: 0.1314 - accuracy: 0.9670 - val_loss: 0.2272 - val_accuracy: 0.9649\n",
            "Epoch 23/100\n",
            "15/15 [==============================] - 0s 11ms/step - loss: 0.1286 - accuracy: 0.9692 - val_loss: 0.2103 - val_accuracy: 0.9649\n",
            "Epoch 24/100\n",
            "15/15 [==============================] - 0s 11ms/step - loss: 0.1693 - accuracy: 0.9648 - val_loss: 0.2210 - val_accuracy: 0.9649\n",
            "Epoch 25/100\n",
            "15/15 [==============================] - 0s 10ms/step - loss: 0.0751 - accuracy: 0.9868 - val_loss: 0.1915 - val_accuracy: 0.9649\n",
            "Epoch 26/100\n",
            "15/15 [==============================] - 0s 10ms/step - loss: 0.1166 - accuracy: 0.9692 - val_loss: 0.1487 - val_accuracy: 0.9737\n",
            "Epoch 27/100\n",
            "15/15 [==============================] - 0s 13ms/step - loss: 0.0826 - accuracy: 0.9868 - val_loss: 0.1428 - val_accuracy: 0.9737\n",
            "Epoch 28/100\n",
            "15/15 [==============================] - 0s 18ms/step - loss: 0.0742 - accuracy: 0.9868 - val_loss: 0.1328 - val_accuracy: 0.9737\n",
            "Epoch 29/100\n",
            "15/15 [==============================] - 0s 11ms/step - loss: 0.1526 - accuracy: 0.9648 - val_loss: 0.1259 - val_accuracy: 0.9737\n",
            "Epoch 30/100\n",
            "15/15 [==============================] - 0s 14ms/step - loss: 0.0677 - accuracy: 0.9846 - val_loss: 0.1262 - val_accuracy: 0.9561\n",
            "Epoch 31/100\n",
            "15/15 [==============================] - 0s 20ms/step - loss: 0.1979 - accuracy: 0.9516 - val_loss: 0.1330 - val_accuracy: 0.9649\n",
            "Epoch 32/100\n",
            "15/15 [==============================] - 0s 19ms/step - loss: 0.1819 - accuracy: 0.9560 - val_loss: 0.1372 - val_accuracy: 0.9649\n",
            "Epoch 33/100\n",
            "15/15 [==============================] - 0s 25ms/step - loss: 0.1772 - accuracy: 0.9582 - val_loss: 0.1463 - val_accuracy: 0.9649\n",
            "Epoch 34/100\n",
            "15/15 [==============================] - 0s 10ms/step - loss: 0.1104 - accuracy: 0.9714 - val_loss: 0.1382 - val_accuracy: 0.9649\n",
            "Epoch 35/100\n",
            "15/15 [==============================] - 0s 13ms/step - loss: 0.0764 - accuracy: 0.9912 - val_loss: 0.1332 - val_accuracy: 0.9649\n",
            "Epoch 36/100\n",
            "15/15 [==============================] - 0s 11ms/step - loss: 0.0939 - accuracy: 0.9780 - val_loss: 0.1182 - val_accuracy: 0.9737\n",
            "Epoch 37/100\n",
            "15/15 [==============================] - 0s 12ms/step - loss: 0.0847 - accuracy: 0.9824 - val_loss: 0.1076 - val_accuracy: 0.9737\n",
            "Epoch 38/100\n",
            "15/15 [==============================] - 0s 11ms/step - loss: 0.0923 - accuracy: 0.9714 - val_loss: 0.1080 - val_accuracy: 0.9649\n",
            "Epoch 39/100\n",
            "15/15 [==============================] - 0s 12ms/step - loss: 0.1352 - accuracy: 0.9692 - val_loss: 0.1080 - val_accuracy: 0.9649\n",
            "Epoch 40/100\n",
            "15/15 [==============================] - 0s 15ms/step - loss: 0.0930 - accuracy: 0.9714 - val_loss: 0.1094 - val_accuracy: 0.9649\n",
            "Epoch 41/100\n",
            "15/15 [==============================] - 0s 13ms/step - loss: 0.0987 - accuracy: 0.9714 - val_loss: 0.1069 - val_accuracy: 0.9737\n",
            "Epoch 42/100\n",
            "15/15 [==============================] - 0s 14ms/step - loss: 0.1154 - accuracy: 0.9736 - val_loss: 0.1129 - val_accuracy: 0.9737\n",
            "Epoch 43/100\n",
            "15/15 [==============================] - 0s 10ms/step - loss: 0.1480 - accuracy: 0.9604 - val_loss: 0.1250 - val_accuracy: 0.9737\n",
            "Epoch 44/100\n",
            "15/15 [==============================] - 0s 9ms/step - loss: 0.1476 - accuracy: 0.9692 - val_loss: 0.1244 - val_accuracy: 0.9649\n",
            "Epoch 45/100\n",
            "15/15 [==============================] - 0s 9ms/step - loss: 0.0840 - accuracy: 0.9868 - val_loss: 0.1255 - val_accuracy: 0.9649\n",
            "Epoch 46/100\n",
            "15/15 [==============================] - 0s 9ms/step - loss: 0.0890 - accuracy: 0.9802 - val_loss: 0.1266 - val_accuracy: 0.9649\n",
            "Epoch 47/100\n",
            "15/15 [==============================] - 0s 9ms/step - loss: 0.1383 - accuracy: 0.9714 - val_loss: 0.1284 - val_accuracy: 0.9649\n",
            "Epoch 48/100\n",
            "15/15 [==============================] - 0s 9ms/step - loss: 0.1613 - accuracy: 0.9648 - val_loss: 0.1247 - val_accuracy: 0.9649\n",
            "Epoch 49/100\n",
            "15/15 [==============================] - 0s 9ms/step - loss: 0.1098 - accuracy: 0.9736 - val_loss: 0.1138 - val_accuracy: 0.9561\n",
            "Epoch 50/100\n",
            "15/15 [==============================] - 0s 8ms/step - loss: 0.0758 - accuracy: 0.9846 - val_loss: 0.1320 - val_accuracy: 0.9649\n",
            "Epoch 51/100\n",
            "15/15 [==============================] - 0s 8ms/step - loss: 0.0773 - accuracy: 0.9824 - val_loss: 0.1421 - val_accuracy: 0.9649\n",
            "Epoch 52/100\n",
            "15/15 [==============================] - 0s 9ms/step - loss: 0.1105 - accuracy: 0.9758 - val_loss: 0.1289 - val_accuracy: 0.9649\n",
            "Epoch 53/100\n",
            "15/15 [==============================] - 0s 8ms/step - loss: 0.1046 - accuracy: 0.9758 - val_loss: 0.1159 - val_accuracy: 0.9649\n",
            "Epoch 54/100\n",
            "15/15 [==============================] - 0s 8ms/step - loss: 0.0939 - accuracy: 0.9802 - val_loss: 0.1110 - val_accuracy: 0.9649\n",
            "Epoch 55/100\n",
            "15/15 [==============================] - 0s 8ms/step - loss: 0.1109 - accuracy: 0.9736 - val_loss: 0.1024 - val_accuracy: 0.9737\n",
            "Epoch 56/100\n",
            "15/15 [==============================] - 0s 8ms/step - loss: 0.0630 - accuracy: 0.9868 - val_loss: 0.1045 - val_accuracy: 0.9737\n",
            "Epoch 57/100\n",
            "15/15 [==============================] - 0s 9ms/step - loss: 0.1344 - accuracy: 0.9604 - val_loss: 0.1324 - val_accuracy: 0.9561\n",
            "Epoch 58/100\n",
            "15/15 [==============================] - 0s 9ms/step - loss: 0.1677 - accuracy: 0.9648 - val_loss: 0.1218 - val_accuracy: 0.9561\n",
            "Epoch 59/100\n",
            "15/15 [==============================] - 0s 8ms/step - loss: 0.0952 - accuracy: 0.9780 - val_loss: 0.1151 - val_accuracy: 0.9649\n",
            "Epoch 60/100\n",
            "15/15 [==============================] - 0s 8ms/step - loss: 0.1330 - accuracy: 0.9648 - val_loss: 0.1393 - val_accuracy: 0.9561\n",
            "Epoch 61/100\n",
            "15/15 [==============================] - 0s 9ms/step - loss: 0.0840 - accuracy: 0.9758 - val_loss: 0.1869 - val_accuracy: 0.9386\n",
            "Epoch 62/100\n",
            "15/15 [==============================] - 0s 9ms/step - loss: 0.0989 - accuracy: 0.9714 - val_loss: 0.2024 - val_accuracy: 0.9474\n",
            "Epoch 63/100\n",
            "15/15 [==============================] - 0s 9ms/step - loss: 0.1159 - accuracy: 0.9758 - val_loss: 0.1737 - val_accuracy: 0.9561\n",
            "Epoch 64/100\n",
            "15/15 [==============================] - 0s 9ms/step - loss: 0.0726 - accuracy: 0.9890 - val_loss: 0.2285 - val_accuracy: 0.9386\n",
            "Epoch 65/100\n",
            "15/15 [==============================] - 0s 11ms/step - loss: 0.0573 - accuracy: 0.9890 - val_loss: 0.1592 - val_accuracy: 0.9561\n",
            "Epoch 66/100\n",
            "15/15 [==============================] - 0s 13ms/step - loss: 0.1087 - accuracy: 0.9758 - val_loss: 0.1535 - val_accuracy: 0.9561\n",
            "Epoch 67/100\n",
            "15/15 [==============================] - 0s 12ms/step - loss: 0.0622 - accuracy: 0.9868 - val_loss: 0.1333 - val_accuracy: 0.9649\n",
            "Epoch 68/100\n",
            "15/15 [==============================] - 0s 12ms/step - loss: 0.0899 - accuracy: 0.9736 - val_loss: 0.1064 - val_accuracy: 0.9737\n",
            "Epoch 69/100\n",
            "15/15 [==============================] - 0s 12ms/step - loss: 0.1404 - accuracy: 0.9692 - val_loss: 0.1073 - val_accuracy: 0.9649\n",
            "Epoch 70/100\n",
            "15/15 [==============================] - 0s 9ms/step - loss: 0.1198 - accuracy: 0.9692 - val_loss: 0.1194 - val_accuracy: 0.9561\n",
            "Epoch 71/100\n",
            "15/15 [==============================] - 0s 14ms/step - loss: 0.1119 - accuracy: 0.9626 - val_loss: 0.1234 - val_accuracy: 0.9561\n",
            "Epoch 72/100\n",
            "15/15 [==============================] - 0s 9ms/step - loss: 0.1810 - accuracy: 0.9538 - val_loss: 0.1331 - val_accuracy: 0.9561\n",
            "Epoch 73/100\n",
            "15/15 [==============================] - 0s 8ms/step - loss: 0.1079 - accuracy: 0.9714 - val_loss: 0.1521 - val_accuracy: 0.9649\n",
            "Epoch 74/100\n",
            "15/15 [==============================] - 0s 9ms/step - loss: 0.1089 - accuracy: 0.9736 - val_loss: 0.1649 - val_accuracy: 0.9649\n",
            "Epoch 75/100\n",
            "15/15 [==============================] - 0s 8ms/step - loss: 0.0781 - accuracy: 0.9780 - val_loss: 0.1423 - val_accuracy: 0.9561\n",
            "Epoch 76/100\n",
            "15/15 [==============================] - 0s 8ms/step - loss: 0.0685 - accuracy: 0.9846 - val_loss: 0.1447 - val_accuracy: 0.9561\n",
            "Epoch 77/100\n",
            "15/15 [==============================] - 0s 8ms/step - loss: 0.0970 - accuracy: 0.9802 - val_loss: 0.1483 - val_accuracy: 0.9561\n",
            "Epoch 78/100\n",
            "15/15 [==============================] - 0s 10ms/step - loss: 0.0551 - accuracy: 0.9846 - val_loss: 0.1480 - val_accuracy: 0.9561\n",
            "Epoch 79/100\n",
            "15/15 [==============================] - 0s 10ms/step - loss: 0.1205 - accuracy: 0.9648 - val_loss: 0.1349 - val_accuracy: 0.9737\n",
            "Epoch 80/100\n",
            "15/15 [==============================] - 0s 9ms/step - loss: 0.0797 - accuracy: 0.9846 - val_loss: 0.1282 - val_accuracy: 0.9737\n",
            "Epoch 80: early stopping\n",
            "4/4 [==============================] - 0s 3ms/step\n",
            "[[74  1]\n",
            " [ 2 37]]\n"
          ]
        }
      ],
      "source": []
    },
    {
      "cell_type": "code",
      "execution_count": null,
      "metadata": {
        "id": "U91-mL5inxnl",
        "outputId": "6c0ebae6-9355-4c21-d926-80a54c778f0e"
      },
      "outputs": [
        {
          "data": {
            "text/plain": [
              "[('relu', [0.9649122807017544]),\n",
              " ('sigmoid', [0.9824561403508771]),\n",
              " ('tanh', [0.9736842105263158]),\n",
              " ('softmax', [0.9736842105263158]),\n",
              " ('softsign', [0.9649122807017544]),\n",
              " ('swish', [0.9736842105263158])]"
            ]
          },
          "execution_count": 74,
          "metadata": {},
          "output_type": "execute_result"
        }
      ],
      "source": []
    },
    {
      "cell_type": "code",
      "execution_count": null,
      "metadata": {
        "id": "Gaf3raCynxnm"
      },
      "outputs": [],
      "source": []
    },
    {
      "cell_type": "code",
      "execution_count": null,
      "metadata": {
        "id": "pqva8EFOnxnm"
      },
      "outputs": [],
      "source": []
    },
    {
      "cell_type": "code",
      "execution_count": null,
      "metadata": {
        "id": "iv_K6F5-nxnn",
        "outputId": "7854cce0-c241-4f52-c0fc-c615959fb2fb"
      },
      "outputs": [
        {
          "data": {
            "text/plain": [
              "<function __main__.get_classification_report(y_test, y_pred)>"
            ]
          },
          "execution_count": 82,
          "metadata": {},
          "output_type": "execute_result"
        }
      ],
      "source": []
    },
    {
      "cell_type": "code",
      "execution_count": null,
      "metadata": {
        "id": "US1C-vKlnxnn"
      },
      "outputs": [],
      "source": []
    },
    {
      "cell_type": "code",
      "execution_count": null,
      "metadata": {
        "id": "u_gQ0EVYnxno"
      },
      "outputs": [],
      "source": []
    },
    {
      "cell_type": "code",
      "execution_count": null,
      "metadata": {
        "id": "qUqD18BOnxno"
      },
      "outputs": [],
      "source": []
    }
  ],
  "metadata": {
    "kernelspec": {
      "display_name": "Python 3 (ipykernel)",
      "language": "python",
      "name": "python3"
    },
    "language_info": {
      "codemirror_mode": {
        "name": "ipython",
        "version": 3
      },
      "file_extension": ".py",
      "mimetype": "text/x-python",
      "name": "python",
      "nbconvert_exporter": "python",
      "pygments_lexer": "ipython3",
      "version": "3.9.7"
    },
    "colab": {
      "provenance": []
    }
  },
  "nbformat": 4,
  "nbformat_minor": 0
}